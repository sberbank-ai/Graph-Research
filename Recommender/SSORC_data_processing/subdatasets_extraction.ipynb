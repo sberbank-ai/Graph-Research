{
 "cells": [
  {
   "cell_type": "code",
   "execution_count": 216,
   "id": "de7d3c05",
   "metadata": {},
   "outputs": [],
   "source": [
    "from collections import Counter\n",
    "from tqdm import tqdm\n",
    "import random\n",
    "import copy\n",
    "\n",
    "import networkx as nx\n",
    "import pandas as pd\n",
    "import numpy as np"
   ]
  },
  {
   "cell_type": "code",
   "execution_count": 7,
   "id": "ff79ac6b",
   "metadata": {},
   "outputs": [],
   "source": [
    "def get_nx_graph(edge_list_path):\n",
    "    edge_list = pd.read_csv(edge_list_path, index_col = 0)\n",
    "    aev = edge_list.values\n",
    "    edges_list_t = [(aev[i][0], aev[i][1]) for i in tqdm(range(len(aev)))]\n",
    "    edge_to_index = {(aev[i][0], aev[i][1]):i for i in tqdm(range(len(aev)))}\n",
    "    return edge_to_index, nx.DiGraph((x, y) for (x, y) in tqdm(Counter(edges_list_t)))    \n",
    "\n",
    "def get_subraph(N, source: int, depth_limit: int = 4):\n",
    "    nodes = list(nx.dfs_preorder_nodes(N, source = source, depth_limit = depth_limit))\n",
    "    H = N.subgraph(nodes)\n",
    "    print(\"Nodes in subgraph: \", len(nodes), \"\\nEdges in subgraph: \", len(H.edges()))\n",
    "    return H"
   ]
  },
  {
   "cell_type": "markdown",
   "id": "1536814d",
   "metadata": {},
   "source": [
    "### Notebook navigation\n"
   ]
  },
  {
   "cell_type": "markdown",
   "id": "9301488b",
   "metadata": {},
   "source": [
    "[Co-authorship subgraph extraction](#ca_subgraph_extraction)\n",
    "\n",
    "[Citation subgraph extraction](#citation_graph_extraction)\n",
    "\n",
    "[Dataset clear](#dataset_clear)\n",
    "\n",
    "[Final check](#final_check)\n",
    "\n",
    "[Save data](#save_data)"
   ]
  },
  {
   "cell_type": "markdown",
   "id": "057d48dc",
   "metadata": {},
   "source": [
    "### Co-authorship subgraph extraction\n",
    "<a id='ca_subgraph_extraction'></a>"
   ]
  },
  {
   "cell_type": "code",
   "execution_count": 8,
   "id": "7ea8b1f4",
   "metadata": {
    "scrolled": true
   },
   "outputs": [
    {
     "name": "stderr",
     "output_type": "stream",
     "text": [
      "/home/user/conda/lib/python3.7/site-packages/numpy/lib/arraysetops.py:569: FutureWarning: elementwise comparison failed; returning scalar instead, but in the future will perform elementwise comparison\n",
      "  mask |= (ar1 == a)\n",
      "100%|██████████| 30796749/30796749 [00:22<00:00, 1388407.39it/s]\n",
      "100%|██████████| 30796749/30796749 [00:41<00:00, 745457.94it/s]\n",
      "100%|██████████| 30796749/30796749 [02:41<00:00, 191092.78it/s]\n"
     ]
    }
   ],
   "source": [
    "edge_to_index_A, A = get_nx_graph(\"processed_data/SSORC_CS_2010_2021_authors_edge_list.csv\")"
   ]
  },
  {
   "cell_type": "code",
   "execution_count": 9,
   "id": "69a39036",
   "metadata": {},
   "outputs": [
    {
     "name": "stderr",
     "output_type": "stream",
     "text": [
      "100%|██████████| 17921409/17921409 [00:12<00:00, 1431800.73it/s]\n",
      "100%|██████████| 17921409/17921409 [00:22<00:00, 799091.70it/s]\n",
      "100%|██████████| 17921409/17921409 [01:45<00:00, 169576.13it/s]\n"
     ]
    }
   ],
   "source": [
    "edge_to_index_G, G = get_nx_graph(\"processed_data/SSORC_CS_2010_2021_papers_edge_list_indexed.csv\")"
   ]
  },
  {
   "cell_type": "code",
   "execution_count": 11,
   "id": "017d283c",
   "metadata": {},
   "outputs": [
    {
     "name": "stdout",
     "output_type": "stream",
     "text": [
      "Number of connected components in the initial graphs:  99041 12235\n"
     ]
    }
   ],
   "source": [
    "print(\"Number of connected components in the initial graphs: \", \\\n",
    "      nx.number_connected_components(A.to_undirected()), \\\n",
    "      nx.number_connected_components(G.to_undirected()))"
   ]
  },
  {
   "cell_type": "markdown",
   "id": "d8613392",
   "metadata": {},
   "source": [
    "Co-authorship network edge list:"
   ]
  },
  {
   "cell_type": "code",
   "execution_count": 12,
   "id": "e8b3b13b",
   "metadata": {},
   "outputs": [],
   "source": [
    "authors_edges = pd.read_csv(\"processed_data/SSORC_CS_2010_2021_authors_edge_list.csv\", index_col = 0)"
   ]
  },
  {
   "cell_type": "markdown",
   "id": "82f2500a",
   "metadata": {},
   "source": [
    "Co-authorship network edges papers:"
   ]
  },
  {
   "cell_type": "code",
   "execution_count": 180,
   "id": "ef318277",
   "metadata": {},
   "outputs": [
    {
     "name": "stderr",
     "output_type": "stream",
     "text": [
      "/home/user/conda/lib/python3.7/site-packages/numpy/lib/arraysetops.py:569: FutureWarning: elementwise comparison failed; returning scalar instead, but in the future will perform elementwise comparison\n",
      "  mask |= (ar1 == a)\n"
     ]
    }
   ],
   "source": [
    "authors_edges_papers = pd.read_csv(\"processed_data/SSORC_CS_2010_2021_authors_edges_papers_indices.csv\", index_col = 0, \\\n",
    "                                   converters={\"papers_indices\": lambda x: x.strip(\"[]\").replace(\"'\",\"\").split(\", \")})"
   ]
  },
  {
   "cell_type": "code",
   "execution_count": 19,
   "id": "2111c56e",
   "metadata": {},
   "outputs": [
    {
     "name": "stdout",
     "output_type": "stream",
     "text": [
      "Nodes in subgraph:  25474 \n",
      "Edges in subgraph:  255001\n"
     ]
    }
   ],
   "source": [
    "source = random.choice(list(A.nodes()))\n",
    "sub_A = get_subraph(A, source, depth_limit = 5)"
   ]
  },
  {
   "cell_type": "code",
   "execution_count": 20,
   "id": "fdd588af",
   "metadata": {},
   "outputs": [
    {
     "name": "stdout",
     "output_type": "stream",
     "text": [
      "Subgraph A connected components check:  1\n"
     ]
    }
   ],
   "source": [
    "print(\"Subgraph A connected components check: \", nx.number_connected_components(sub_A.to_undirected()))"
   ]
  },
  {
   "cell_type": "code",
   "execution_count": 56,
   "id": "48c3c98b",
   "metadata": {},
   "outputs": [
    {
     "data": {
      "text/plain": [
       "255001"
      ]
     },
     "execution_count": 56,
     "metadata": {},
     "output_type": "execute_result"
    }
   ],
   "source": [
    "sub_A_edges = list(sub_A.edges())\n",
    "len(sub_A_edges)"
   ]
  },
  {
   "cell_type": "markdown",
   "id": "a6e33711",
   "metadata": {},
   "source": [
    "Obtaining papers corresponding to co-authorship graph edges:"
   ]
  },
  {
   "cell_type": "code",
   "execution_count": 211,
   "id": "cbd14265",
   "metadata": {},
   "outputs": [
    {
     "name": "stderr",
     "output_type": "stream",
     "text": [
      "100%|██████████| 255001/255001 [00:03<00:00, 66127.24it/s]\n"
     ]
    }
   ],
   "source": [
    "authors_edges_papers_sub = [authors_edges_papers[\"papers_indices\"][edge_to_index_A[sub_A_edges[i]]] for i in tqdm(range(len(sub_A_edges)))]"
   ]
  },
  {
   "cell_type": "markdown",
   "id": "73932150",
   "metadata": {},
   "source": [
    "Extracting unique papers:"
   ]
  },
  {
   "cell_type": "code",
   "execution_count": 212,
   "id": "c274e2c9",
   "metadata": {},
   "outputs": [],
   "source": [
    "authors_edges_papers_sub_flat = [int(item) for subarray in authors_edges_papers_sub for item in subarray]\n",
    "unique_papers = list(set(authors_edges_papers_sub_flat))"
   ]
  },
  {
   "cell_type": "code",
   "execution_count": 213,
   "id": "36c25cb5",
   "metadata": {},
   "outputs": [
    {
     "name": "stdout",
     "output_type": "stream",
     "text": [
      "Total amount of mentioned papers:  476373 \n",
      "Unique papers number:  142423\n"
     ]
    }
   ],
   "source": [
    "print(\"Total amount of mentioned papers: \", len(authors_edges_papers_sub_flat), \\\n",
    "      \"\\nUnique papers number: \", len(unique_papers))"
   ]
  },
  {
   "cell_type": "markdown",
   "id": "2c4b9536",
   "metadata": {},
   "source": [
    "### Citation subgraph extraction\n",
    "<a id='citation_graph_extraction'></a>"
   ]
  },
  {
   "cell_type": "code",
   "execution_count": 146,
   "id": "a7e92ee6",
   "metadata": {},
   "outputs": [],
   "source": [
    "G_sub = G.subgraph(unique_papers)"
   ]
  },
  {
   "cell_type": "code",
   "execution_count": 147,
   "id": "6696f601",
   "metadata": {},
   "outputs": [],
   "source": [
    "G_sub_nodes = list(G_sub.nodes())"
   ]
  },
  {
   "cell_type": "markdown",
   "id": "94c2f385",
   "metadata": {},
   "source": [
    "### Dataset clear\n",
    "<a id='dataset_clear'></a>"
   ]
  },
  {
   "cell_type": "markdown",
   "id": "bb1e875b",
   "metadata": {},
   "source": [
    "Get connected components of initial citation graph:"
   ]
  },
  {
   "cell_type": "code",
   "execution_count": 148,
   "id": "924317d8",
   "metadata": {},
   "outputs": [],
   "source": [
    "Gcc = sorted(nx.connected_components(G_sub.to_undirected()), key=len, reverse=True)"
   ]
  },
  {
   "cell_type": "code",
   "execution_count": 149,
   "id": "de9afdf6",
   "metadata": {
    "scrolled": true
   },
   "outputs": [
    {
     "name": "stdout",
     "output_type": "stream",
     "text": [
      "Some CC sizes:  115907 29 25\n"
     ]
    }
   ],
   "source": [
    "print(\"Some CC sizes: \", len(Gcc[0]), len(Gcc[1]), len(Gcc[2]))"
   ]
  },
  {
   "cell_type": "code",
   "execution_count": 150,
   "id": "d0c01063",
   "metadata": {},
   "outputs": [
    {
     "name": "stdout",
     "output_type": "stream",
     "text": [
      "Number of papers out of GCC:  24356\n"
     ]
    }
   ],
   "source": [
    "remnants = 0\n",
    "for i in range(1, len(Gcc)):\n",
    "    remnants += len(Gcc[i])\n",
    "print (\"Number of papers out of GCC: \", remnants)"
   ]
  },
  {
   "cell_type": "markdown",
   "id": "8c1406ab",
   "metadata": {},
   "source": [
    "Get id's of papers that are not presented in the largest connected component:"
   ]
  },
  {
   "cell_type": "code",
   "execution_count": 151,
   "id": "f38bb529",
   "metadata": {},
   "outputs": [
    {
     "name": "stderr",
     "output_type": "stream",
     "text": [
      "100%|██████████| 140263/140263 [00:00<00:00, 1710737.92it/s]\n"
     ]
    }
   ],
   "source": [
    "papers_out_lcc = []\n",
    "for i in tqdm(range(len(G_sub_nodes))):\n",
    "    if G_sub_nodes[i] not in Gcc[0]:\n",
    "        papers_out_lcc.append(G_sub_nodes[i])"
   ]
  },
  {
   "cell_type": "code",
   "execution_count": 152,
   "id": "ce6884aa",
   "metadata": {},
   "outputs": [
    {
     "name": "stdout",
     "output_type": "stream",
     "text": [
      "Total number of papers to delete:  24356\n"
     ]
    }
   ],
   "source": [
    "print(\"Total number of papers to delete: \", len(papers_out_lcc))"
   ]
  },
  {
   "cell_type": "markdown",
   "id": "2bbcbaac",
   "metadata": {},
   "source": [
    "Removing unwanted papers from G_sub:"
   ]
  },
  {
   "cell_type": "code",
   "execution_count": 153,
   "id": "87096a29",
   "metadata": {},
   "outputs": [],
   "source": [
    "G_sub_clear = nx.DiGraph(G_sub)"
   ]
  },
  {
   "cell_type": "code",
   "execution_count": 154,
   "id": "3a6058b8",
   "metadata": {},
   "outputs": [],
   "source": [
    "for i in range(len(papers_out_lcc)):\n",
    "    node = papers_out_lcc[i]\n",
    "    G_sub_clear.remove_node(node) "
   ]
  },
  {
   "cell_type": "markdown",
   "id": "d7eb165f",
   "metadata": {},
   "source": [
    "Obtaining list of disappeared collaborations after papers removing:"
   ]
  },
  {
   "cell_type": "code",
   "execution_count": 214,
   "id": "81993f75",
   "metadata": {},
   "outputs": [
    {
     "name": "stderr",
     "output_type": "stream",
     "text": [
      "100%|██████████| 24356/24356 [57:32<00:00,  7.06it/s] \n"
     ]
    }
   ],
   "source": [
    "collabs_indices_to_delete = []\n",
    "for i in tqdm(range(len(papers_out_lcc))):\n",
    "    for j in range(len(authors_edges_papers_sub)):\n",
    "        if str(papers_out_lcc[i]) in authors_edges_papers_sub[j]:\n",
    "            del authors_edges_papers_sub[j][authors_edges_papers_sub[j].index(str(papers_out_lcc[i]))]\n",
    "            if len(authors_edges_papers_sub[j]) == 0:\n",
    "                collabs_indices_to_delete.append(j)"
   ]
  },
  {
   "cell_type": "code",
   "execution_count": 217,
   "id": "fd139f1b",
   "metadata": {},
   "outputs": [],
   "source": [
    "collabs_indices_to_delete_copy = copy.deepcopy(collabs_indices_to_delete)"
   ]
  },
  {
   "cell_type": "code",
   "execution_count": 215,
   "id": "95eadbcb",
   "metadata": {},
   "outputs": [
    {
     "data": {
      "text/plain": [
       "31567"
      ]
     },
     "execution_count": 215,
     "metadata": {},
     "output_type": "execute_result"
    }
   ],
   "source": [
    "len(collabs_indices_to_delete)"
   ]
  },
  {
   "cell_type": "code",
   "execution_count": 219,
   "id": "cbe9f296",
   "metadata": {},
   "outputs": [],
   "source": [
    "A_sub_clear = nx.DiGraph(sub_A)"
   ]
  },
  {
   "cell_type": "code",
   "execution_count": 220,
   "id": "0ed16070",
   "metadata": {},
   "outputs": [],
   "source": [
    "A_sub_clear_edges = list(A_sub_clear.edges())"
   ]
  },
  {
   "cell_type": "code",
   "execution_count": 221,
   "id": "78dffc14",
   "metadata": {},
   "outputs": [],
   "source": [
    "for i in range(len(collabs_indices_to_delete)):\n",
    "    edge = A_sub_clear_edges[collabs_indices_to_delete[i]]\n",
    "    A_sub_clear.remove_edge(*edge) "
   ]
  },
  {
   "cell_type": "code",
   "execution_count": 228,
   "id": "c368d220",
   "metadata": {},
   "outputs": [],
   "source": [
    "authors_edges_papers_sub_clear = [authors_edges_papers_sub[i] for i in range(len(authors_edges_papers_sub)) if len(authors_edges_papers_sub[i]) > 0]"
   ]
  },
  {
   "cell_type": "code",
   "execution_count": 285,
   "id": "9ede3fda",
   "metadata": {},
   "outputs": [
    {
     "data": {
      "text/plain": [
       "(223434, 223434)"
      ]
     },
     "execution_count": 285,
     "metadata": {},
     "output_type": "execute_result"
    }
   ],
   "source": [
    "len(A_sub_clear_edges) -  len(collabs_indices_to_delete), len(authors_edges_papers_sub_clear)"
   ]
  },
  {
   "cell_type": "markdown",
   "id": "6a33818b",
   "metadata": {},
   "source": [
    "Check if some edge in co-authorship network remains without any papers in citation network:"
   ]
  },
  {
   "cell_type": "code",
   "execution_count": 222,
   "id": "85e94a4f",
   "metadata": {},
   "outputs": [],
   "source": [
    "A_sub_clear_edges_check = list(A_sub_clear.edges())"
   ]
  },
  {
   "cell_type": "code",
   "execution_count": 231,
   "id": "922b07b5",
   "metadata": {},
   "outputs": [
    {
     "name": "stderr",
     "output_type": "stream",
     "text": [
      "100%|██████████| 223434/223434 [00:03<00:00, 62042.73it/s]\n"
     ]
    }
   ],
   "source": [
    "for edge in tqdm(A_sub_clear_edges_check):\n",
    "    if len(authors_edges_papers[\"papers_indices\"][edge_to_index_A[edge]]) == 0:\n",
    "        print(edge)"
   ]
  },
  {
   "cell_type": "markdown",
   "id": "d00da94b",
   "metadata": {},
   "source": [
    "Delete unwanted authors that remain separated after collaboration removing:"
   ]
  },
  {
   "cell_type": "code",
   "execution_count": 232,
   "id": "119c4377",
   "metadata": {},
   "outputs": [],
   "source": [
    "Gcc_a = sorted(nx.connected_components(A_sub_clear.to_undirected()), key=len, reverse=True)"
   ]
  },
  {
   "cell_type": "code",
   "execution_count": 234,
   "id": "685453d5",
   "metadata": {
    "collapsed": true
   },
   "outputs": [
    {
     "name": "stdout",
     "output_type": "stream",
     "text": [
      "Connected compontents in clear graph:  [22306, 12, 6, 6, 4, 4, 4, 4, 3, 3, 3, 3, 3, 3, 3, 3, 3, 3, 3, 2, 2, 2, 2, 2, 2, 2, 2, 2, 2, 2, 2, 2, 2, 2, 2, 2, 2, 2, 2, 2, 2, 2, 2, 2, 2, 2, 2, 2, 2, 2, 2, 2, 2, 2, 2, 2, 2, 2, 2, 2, 2, 2, 2, 2, 2, 2, 2, 2, 2, 2, 2, 2, 1, 1, 1, 1, 1, 1, 1, 1, 1, 1, 1, 1, 1, 1, 1, 1, 1, 1, 1, 1, 1, 1, 1, 1, 1, 1, 1, 1, 1, 1, 1, 1, 1, 1, 1, 1, 1, 1, 1, 1, 1, 1, 1, 1, 1, 1, 1, 1, 1, 1, 1, 1, 1, 1, 1, 1, 1, 1, 1, 1, 1, 1, 1, 1, 1, 1, 1, 1, 1, 1, 1, 1, 1, 1, 1, 1, 1, 1, 1, 1, 1, 1, 1, 1, 1, 1, 1, 1, 1, 1, 1, 1, 1, 1, 1, 1, 1, 1, 1, 1, 1, 1, 1, 1, 1, 1, 1, 1, 1, 1, 1, 1, 1, 1, 1, 1, 1, 1, 1, 1, 1, 1, 1, 1, 1, 1, 1, 1, 1, 1, 1, 1, 1, 1, 1, 1, 1, 1, 1, 1, 1, 1, 1, 1, 1, 1, 1, 1, 1, 1, 1, 1, 1, 1, 1, 1, 1, 1, 1, 1, 1, 1, 1, 1, 1, 1, 1, 1, 1, 1, 1, 1, 1, 1, 1, 1, 1, 1, 1, 1, 1, 1, 1, 1, 1, 1, 1, 1, 1, 1, 1, 1, 1, 1, 1, 1, 1, 1, 1, 1, 1, 1, 1, 1, 1, 1, 1, 1, 1, 1, 1, 1, 1, 1, 1, 1, 1, 1, 1, 1, 1, 1, 1, 1, 1, 1, 1, 1, 1, 1, 1, 1, 1, 1, 1, 1, 1, 1, 1, 1, 1, 1, 1, 1, 1, 1, 1, 1, 1, 1, 1, 1, 1, 1, 1, 1, 1, 1, 1, 1, 1, 1, 1, 1, 1, 1, 1, 1, 1, 1, 1, 1, 1, 1, 1, 1, 1, 1, 1, 1, 1, 1, 1, 1, 1, 1, 1, 1, 1, 1, 1, 1, 1, 1, 1, 1, 1, 1, 1, 1, 1, 1, 1, 1, 1, 1, 1, 1, 1, 1, 1, 1, 1, 1, 1, 1, 1, 1, 1, 1, 1, 1, 1, 1, 1, 1, 1, 1, 1, 1, 1, 1, 1, 1, 1, 1, 1, 1, 1, 1, 1, 1, 1, 1, 1, 1, 1, 1, 1, 1, 1, 1, 1, 1, 1, 1, 1, 1, 1, 1, 1, 1, 1, 1, 1, 1, 1, 1, 1, 1, 1, 1, 1, 1, 1, 1, 1, 1, 1, 1, 1, 1, 1, 1, 1, 1, 1, 1, 1, 1, 1, 1, 1, 1, 1, 1, 1, 1, 1, 1, 1, 1, 1, 1, 1, 1, 1, 1, 1, 1, 1, 1, 1, 1, 1, 1, 1, 1, 1, 1, 1, 1, 1, 1, 1, 1, 1, 1, 1, 1, 1, 1, 1, 1, 1, 1, 1, 1, 1, 1, 1, 1, 1, 1, 1, 1, 1, 1, 1, 1, 1, 1, 1, 1, 1, 1, 1, 1, 1, 1, 1, 1, 1, 1, 1, 1, 1, 1, 1, 1, 1, 1, 1, 1, 1, 1, 1, 1, 1, 1, 1, 1, 1, 1, 1, 1, 1, 1, 1, 1, 1, 1, 1, 1, 1, 1, 1, 1, 1, 1, 1, 1, 1, 1, 1, 1, 1, 1, 1, 1, 1, 1, 1, 1, 1, 1, 1, 1, 1, 1, 1, 1, 1, 1, 1, 1, 1, 1, 1, 1, 1, 1, 1, 1, 1, 1, 1, 1, 1, 1, 1, 1, 1, 1, 1, 1, 1, 1, 1, 1, 1, 1, 1, 1, 1, 1, 1, 1, 1, 1, 1, 1, 1, 1, 1, 1, 1, 1, 1, 1, 1, 1, 1, 1, 1, 1, 1, 1, 1, 1, 1, 1, 1, 1, 1, 1, 1, 1, 1, 1, 1, 1, 1, 1, 1, 1, 1, 1, 1, 1, 1, 1, 1, 1, 1, 1, 1, 1, 1, 1, 1, 1, 1, 1, 1, 1, 1, 1, 1, 1, 1, 1, 1, 1, 1, 1, 1, 1, 1, 1, 1, 1, 1, 1, 1, 1, 1, 1, 1, 1, 1, 1, 1, 1, 1, 1, 1, 1, 1, 1, 1, 1, 1, 1, 1, 1, 1, 1, 1, 1, 1, 1, 1, 1, 1, 1, 1, 1, 1, 1, 1, 1, 1, 1, 1, 1, 1, 1, 1, 1, 1, 1, 1, 1, 1, 1, 1, 1, 1, 1, 1, 1, 1, 1, 1, 1, 1, 1, 1, 1, 1, 1, 1, 1, 1, 1, 1, 1, 1, 1, 1, 1, 1, 1, 1, 1, 1, 1, 1, 1, 1, 1, 1, 1, 1, 1, 1, 1, 1, 1, 1, 1, 1, 1, 1, 1, 1, 1, 1, 1, 1, 1, 1, 1, 1, 1, 1, 1, 1, 1, 1, 1, 1, 1, 1, 1, 1, 1, 1, 1, 1, 1, 1, 1, 1, 1, 1, 1, 1, 1, 1, 1, 1, 1, 1, 1, 1, 1, 1, 1, 1, 1, 1, 1, 1, 1, 1, 1, 1, 1, 1, 1, 1, 1, 1, 1, 1, 1, 1, 1, 1, 1, 1, 1, 1, 1, 1, 1, 1, 1, 1, 1, 1, 1, 1, 1, 1, 1, 1, 1, 1, 1, 1, 1, 1, 1, 1, 1, 1, 1, 1, 1, 1, 1, 1, 1, 1, 1, 1, 1, 1, 1, 1, 1, 1, 1, 1, 1, 1, 1, 1, 1, 1, 1, 1, 1, 1, 1, 1, 1, 1, 1, 1, 1, 1, 1, 1, 1, 1, 1, 1, 1, 1, 1, 1, 1, 1, 1, 1, 1, 1, 1, 1, 1, 1, 1, 1, 1, 1, 1, 1, 1, 1, 1, 1, 1, 1, 1, 1, 1, 1, 1, 1, 1, 1, 1, 1, 1, 1, 1, 1, 1, 1, 1, 1, 1, 1, 1, 1, 1, 1, 1, 1, 1, 1, 1, 1, 1, 1, 1, 1, 1, 1, 1, 1, 1, 1, 1, 1, 1, 1, 1, 1, 1, 1, 1, 1, 1, 1, 1, 1, 1, 1, 1, 1, 1, 1, 1, 1, 1, 1, 1, 1, 1, 1, 1, 1, 1, 1, 1, 1, 1, 1, 1, 1, 1, 1, 1, 1, 1, 1, 1, 1, 1, 1, 1, 1, 1, 1, 1, 1, 1, 1, 1, 1, 1, 1, 1, 1, 1, 1, 1, 1, 1, 1, 1, 1, 1, 1, 1, 1, 1, 1, 1, 1, 1, 1, 1, 1, 1, 1, 1, 1, 1, 1, 1, 1, 1, 1, 1, 1, 1, 1, 1, 1, 1, 1, 1, 1, 1, 1, 1, 1, 1, 1, 1, 1, 1, 1, 1, 1, 1, 1, 1, 1, 1, 1, 1, 1, 1, 1, 1, 1, 1, 1, 1, 1, 1, 1, 1, 1, 1, 1, 1, 1, 1, 1, 1, 1, 1, 1, 1, 1, 1, 1, 1, 1, 1, 1, 1, 1, 1, 1, 1, 1, 1, 1, 1, 1, 1, 1, 1, 1, 1, 1, 1, 1, 1, 1, 1, 1, 1, 1, 1, 1, 1, 1, 1, 1, 1, 1, 1, 1, 1, 1, 1, 1, 1, 1, 1, 1, 1, 1, 1, 1, 1, 1, 1, 1, 1, 1, 1, 1, 1, 1, 1, 1, 1, 1, 1, 1, 1, 1, 1, 1, 1, 1, 1, 1, 1, 1, 1, 1, 1, 1, 1, 1, 1, 1, 1, 1, 1, 1, 1, 1, 1, 1, 1, 1, 1, 1, 1, 1, 1, 1, 1, 1, 1, 1, 1, 1, 1, 1, 1, 1, 1, 1, 1, 1, 1, 1, 1, 1, 1, 1, 1, 1, 1, 1, 1, 1, 1, 1, 1, 1, 1, 1, 1, 1, 1, 1, 1, 1, 1, 1, 1, 1, 1, 1, 1, 1, 1, 1, 1, 1, 1, 1, 1, 1, 1, 1, 1, 1, 1, 1, 1, 1, 1, 1, 1, 1, 1, 1, 1, 1, 1, 1, 1, 1, 1, 1, 1, 1, 1, 1, 1, 1, 1, 1, 1, 1, 1, 1, 1, 1, 1, 1, 1, 1, 1, 1, 1, 1, 1, 1, 1, 1, 1, 1, 1, 1, 1, 1, 1, 1, 1, 1, 1, 1, 1, 1, 1, 1, 1, 1, 1, 1, 1, 1, 1, 1, 1, 1, 1, 1, 1, 1, 1, 1, 1, 1, 1, 1, 1, 1, 1, 1, 1, 1, 1, 1, 1, 1, 1, 1, 1, 1, 1, 1, 1, 1, 1, 1, 1, 1, 1, 1, 1, 1, 1, 1, 1, 1, 1, 1, 1, 1, 1, 1, 1, 1, 1, 1, 1, 1, 1, 1, 1, 1, 1, 1, 1, 1, 1, 1, 1, 1, 1, 1, 1, 1, 1, 1, 1, 1, 1, 1, 1, 1, 1, 1, 1, 1, 1, 1, 1, 1, 1, 1, 1, 1, 1, 1, 1, 1, 1, 1, 1, 1, 1, 1, 1, 1, 1, 1, 1, 1, 1, 1, 1, 1, 1, 1, 1, 1, 1, 1, 1, 1, 1, 1, 1, 1, 1, 1, 1, 1, 1, 1, 1, 1, 1, 1, 1, 1, 1, 1, 1, 1, 1, 1, 1, 1, 1, 1, 1, 1, 1, 1, 1, 1, 1, 1, 1, 1, 1, 1, 1, 1, 1, 1, 1, 1, 1, 1, 1, 1, 1, 1, 1, 1, 1, 1, 1, 1, 1, 1, 1, 1, 1, 1, 1, 1, 1, 1, 1, 1, 1, 1, 1, 1, 1, 1, 1, 1, 1, 1, 1, 1, 1, 1, 1, 1, 1, 1, 1, 1, 1, 1, 1, 1, 1, 1, 1, 1, 1, 1, 1, 1, 1, 1, 1, 1, 1, 1, 1, 1, 1, 1, 1, 1, 1, 1, 1, 1, 1, 1, 1, 1, 1, 1, 1, 1, 1, 1, 1, 1, 1, 1, 1, 1, 1, 1, 1, 1, 1, 1, 1, 1, 1, 1, 1, 1, 1, 1, 1, 1, 1, 1, 1, 1, 1, 1, 1, 1, 1, 1, 1, 1, 1, 1, 1, 1, 1, 1, 1, 1, 1, 1, 1, 1, 1, 1, 1, 1, 1, 1, 1, 1, 1, 1, 1, 1, 1, 1, 1, 1, 1, 1, 1, 1, 1, 1, 1, 1, 1, 1, 1, 1, 1, 1, 1, 1, 1, 1, 1, 1, 1, 1, 1, 1, 1, 1, 1, 1, 1, 1, 1, 1, 1, 1, 1, 1, 1, 1, 1, 1, 1, 1, 1, 1, 1, 1, 1, 1, 1, 1, 1, 1, 1, 1, 1, 1, 1, 1, 1, 1, 1, 1, 1, 1, 1, 1, 1, 1, 1, 1, 1, 1, 1, 1, 1, 1, 1, 1, 1, 1, 1, 1, 1, 1, 1, 1, 1, 1, 1, 1, 1, 1, 1, 1, 1, 1, 1, 1, 1, 1, 1, 1, 1, 1, 1, 1, 1, 1, 1, 1, 1, 1, 1, 1, 1, 1, 1, 1, 1, 1, 1, 1, 1, 1, 1, 1, 1, 1, 1, 1, 1, 1, 1, 1, 1, 1, 1, 1, 1, 1, 1, 1, 1, 1, 1, 1, 1, 1, 1, 1, 1, 1, 1, 1, 1, 1, 1, 1, 1, 1, 1, 1, 1, 1, 1, 1, 1, 1, 1, 1, 1, 1, 1, 1, 1, 1, 1, 1, 1, 1, 1, 1, 1, 1, 1, 1, 1, 1, 1, 1, 1, 1, 1, 1, 1, 1, 1, 1, 1, 1, 1, 1, 1, 1, 1, 1, 1, 1, 1, 1, 1, 1, 1, 1, 1, 1, 1, 1, 1, 1, 1, 1, 1, 1, 1, 1, 1, 1, 1, 1, 1, 1, 1, 1, 1, 1, 1, 1, 1, 1, 1, 1, 1, 1, 1, 1, 1, 1, 1, 1, 1, 1, 1, 1, 1, 1, 1, 1, 1, 1, 1, 1, 1, 1, 1, 1, 1, 1, 1, 1, 1, 1, 1, 1, 1, 1, 1, 1, 1, 1, 1, 1, 1, 1, 1, 1, 1, 1, 1, 1, 1, 1, 1, 1, 1, 1, 1, 1, 1, 1, 1, 1, 1, 1, 1, 1, 1, 1, 1, 1, 1, 1, 1, 1, 1, 1, 1, 1, 1, 1, 1, 1, 1, 1, 1, 1, 1, 1, 1, 1, 1, 1, 1, 1, 1, 1, 1, 1, 1, 1, 1, 1, 1, 1, 1, 1, 1, 1, 1, 1, 1, 1, 1, 1, 1, 1, 1, 1, 1, 1, 1, 1, 1, 1, 1, 1, 1, 1, 1, 1, 1, 1, 1, 1, 1, 1, 1, 1, 1, 1, 1, 1, 1, 1, 1, 1, 1, 1, 1, 1, 1, 1, 1, 1, 1, 1, 1, 1, 1, 1, 1, 1, 1, 1, 1, 1, 1, 1, 1, 1, 1, 1, 1, 1, 1, 1, 1, 1, 1, 1, 1, 1, 1, 1, 1, 1, 1, 1, 1, 1, 1, 1, 1, 1, 1, 1, 1, 1, 1, 1, 1, 1, 1, 1, 1, 1, 1, 1, 1, 1, 1, 1, 1, 1, 1, 1, 1, 1, 1, 1, 1, 1, 1, 1, 1, 1, 1, 1, 1, 1, 1, 1, 1, 1, 1, 1, 1, 1, 1, 1, 1, 1, 1, 1, 1, 1, 1, 1, 1, 1, 1, 1, 1, 1, 1, 1, 1, 1, 1, 1, 1, 1, 1, 1, 1, 1, 1, 1, 1, 1, 1, 1, 1, 1, 1, 1, 1, 1, 1, 1, 1, 1, 1, 1, 1, 1, 1, 1, 1, 1, 1, 1, 1, 1, 1, 1, 1, 1, 1, 1, 1, 1, 1, 1, 1, 1, 1, 1, 1, 1, 1, 1, 1, 1, 1, 1, 1, 1, 1, 1, 1, 1, 1, 1, 1, 1, 1, 1, 1, 1, 1, 1, 1, 1, 1, 1, 1, 1, 1, 1, 1, 1, 1, 1, 1, 1, 1, 1, 1, 1, 1, 1, 1, 1, 1, 1, 1, 1, 1, 1, 1, 1, 1, 1, 1, 1, 1, 1, 1, 1, 1, 1, 1, 1, 1, 1, 1, 1, 1, 1, 1, 1, 1, 1, 1, 1, 1, 1, 1, 1, 1, 1, 1, 1, 1, 1, 1, 1, 1, 1, 1, 1, 1, 1, 1, 1, 1, 1, 1, 1, 1, 1, 1, 1, 1, 1, 1, 1, 1, 1, 1, 1, 1, 1, 1, 1, 1, 1, 1, 1, 1, 1, 1, 1, 1, 1, 1, 1, 1, 1, 1, 1, 1, 1, 1, 1, 1, 1, 1, 1, 1, 1, 1, 1, 1, 1, 1, 1, 1, 1, 1, 1, 1, 1, 1, 1, 1, 1, 1, 1, 1, 1, 1, 1, 1, 1, 1, 1, 1, 1, 1, 1, 1, 1, 1, 1, 1, 1, 1, 1, 1, 1, 1, 1, 1, 1, 1, 1, 1, 1, 1, 1, 1, 1, 1, 1, 1, 1, 1, 1, 1, 1, 1, 1, 1, 1, 1, 1, 1, 1, 1, 1, 1, 1, 1, 1, 1, 1, 1, 1, 1, 1, 1, 1, 1, 1, 1, 1, 1, 1, 1, 1, 1, 1, 1, 1, 1, 1, 1, 1, 1, 1, 1, 1, 1, 1, 1, 1, 1, 1, 1, 1, 1, 1, 1, 1, 1, 1, 1, 1, 1, 1, 1, 1, 1, 1, 1, 1, 1, 1, 1, 1, 1, 1, 1, 1, 1, 1, 1, 1, 1, 1, 1, 1, 1, 1, 1, 1, 1, 1, 1, 1, 1, 1, 1, 1, 1, 1, 1, 1, 1, 1, 1, 1, 1, 1, 1, 1, 1, 1, 1, 1, 1, 1, 1, 1, 1, 1, 1, 1, 1, 1, 1, 1, 1, 1, 1, 1, 1, 1, 1, 1, 1, 1, 1, 1, 1, 1, 1, 1, 1, 1, 1, 1, 1, 1, 1, 1, 1, 1, 1, 1, 1, 1, 1, 1, 1, 1, 1, 1, 1, 1, 1, 1, 1, 1, 1, 1, 1, 1, 1, 1, 1, 1, 1, 1, 1, 1, 1, 1, 1, 1, 1, 1, 1, 1, 1, 1, 1, 1, 1, 1, 1, 1, 1, 1, 1, 1, 1, 1, 1, 1, 1, 1, 1, 1, 1, 1, 1, 1, 1, 1, 1, 1, 1, 1, 1, 1, 1, 1, 1, 1, 1, 1, 1, 1, 1, 1, 1, 1, 1, 1, 1, 1, 1, 1, 1, 1, 1, 1, 1, 1, 1, 1, 1, 1, 1, 1, 1, 1, 1, 1, 1, 1, 1, 1, 1, 1, 1, 1, 1, 1, 1, 1, 1, 1, 1, 1, 1, 1, 1, 1, 1, 1, 1, 1, 1, 1, 1, 1, 1, 1, 1, 1, 1, 1, 1, 1, 1, 1, 1, 1, 1, 1, 1, 1, 1, 1, 1, 1, 1, 1, 1, 1, 1, 1, 1, 1, 1, 1, 1, 1, 1, 1, 1, 1, 1, 1, 1, 1, 1, 1, 1, 1, 1, 1, 1, 1, 1, 1, 1, 1, 1, 1, 1, 1, 1, 1, 1, 1, 1, 1, 1, 1, 1, 1, 1, 1, 1, 1, 1, 1, 1, 1, 1, 1, 1, 1, 1, 1, 1, 1, 1, 1, 1, 1, 1, 1, 1, 1, 1, 1, 1, 1, 1, 1, 1, 1, 1, 1, 1, 1, 1, 1, 1, 1, 1, 1, 1, 1, 1, 1, 1, 1, 1, 1, 1, 1, 1, 1, 1, 1, 1, 1, 1, 1, 1, 1, 1, 1, 1, 1, 1, 1, 1, 1, 1, 1, 1, 1, 1, 1, 1, 1, 1, 1, 1, 1, 1, 1, 1, 1, 1, 1, 1, 1, 1, 1, 1, 1, 1, 1, 1, 1, 1, 1, 1, 1, 1, 1, 1, 1, 1, 1, 1, 1, 1, 1, 1, 1, 1, 1, 1, 1, 1, 1, 1, 1, 1, 1, 1, 1, 1, 1, 1, 1, 1, 1, 1, 1, 1, 1, 1, 1, 1, 1, 1, 1, 1, 1, 1, 1, 1, 1, 1, 1, 1, 1, 1, 1, 1, 1, 1, 1, 1, 1, 1, 1, 1, 1, 1, 1, 1, 1, 1, 1, 1, 1, 1, 1, 1, 1, 1, 1, 1, 1, 1, 1, 1, 1, 1, 1, 1, 1, 1, 1, 1, 1, 1, 1, 1, 1, 1, 1, 1, 1, 1, 1, 1, 1, 1, 1, 1, 1, 1, 1, 1, 1, 1, 1, 1, 1, 1, 1, 1, 1, 1, 1, 1, 1, 1, 1, 1, 1, 1, 1, 1, 1, 1, 1, 1, 1, 1, 1, 1, 1, 1, 1, 1, 1, 1, 1, 1, 1, 1, 1, 1, 1, 1, 1, 1, 1, 1, 1, 1, 1, 1, 1, 1, 1, 1, 1, 1, 1, 1, 1, 1, 1, 1, 1, 1, 1]\n"
     ]
    }
   ],
   "source": [
    "print(\"Connected compontents in the clear graph: \", [len(Gcc_a[i]) for i in range(len(Gcc_a))])"
   ]
  },
  {
   "cell_type": "code",
   "execution_count": 235,
   "id": "35946f83",
   "metadata": {},
   "outputs": [],
   "source": [
    "for i in range(1, len(Gcc_a)):\n",
    "    authors_2_delete = list(Gcc_a[i])\n",
    "    for j in range(len(authors_2_delete)):\n",
    "        node = authors_2_delete[j]\n",
    "        A_sub_clear.remove_node(node) "
   ]
  },
  {
   "cell_type": "code",
   "execution_count": 236,
   "id": "171f076b",
   "metadata": {},
   "outputs": [],
   "source": [
    "Gcc_a_f = sorted(nx.connected_components(A_sub_clear.to_undirected()), key=len, reverse=True)"
   ]
  },
  {
   "cell_type": "code",
   "execution_count": 237,
   "id": "9a953c6f",
   "metadata": {},
   "outputs": [
    {
     "name": "stdout",
     "output_type": "stream",
     "text": [
      "Connected compontents in final graph:  [22306]\n"
     ]
    }
   ],
   "source": [
    "print(\"Connected compontents in the final graph: \", [len(Gcc_a_f[i]) for i in range(len(Gcc_a_f))])"
   ]
  },
  {
   "cell_type": "markdown",
   "id": "67a895fe",
   "metadata": {},
   "source": [
    "### Final check\n",
    "<a id='final_check'></a>"
   ]
  },
  {
   "cell_type": "code",
   "execution_count": 253,
   "id": "58564e0b",
   "metadata": {},
   "outputs": [
    {
     "name": "stdout",
     "output_type": "stream",
     "text": [
      "Number of connected components in the final graphs:  1 1\n"
     ]
    }
   ],
   "source": [
    "A_nc, G_nc = nx.number_connected_components(A_sub_clear.to_undirected()),\\\n",
    "nx.number_connected_components(G_sub_clear.to_undirected()) \n",
    "print(\"Number of connected components in the final graphs: \", \\\n",
    "      A_nc, \\\n",
    "      G_nc)\n",
    "assert A_nc == 1 and G_nc == 1, \"The number of connected components is not equal to 1 in the graphs\""
   ]
  },
  {
   "cell_type": "code",
   "execution_count": 263,
   "id": "ff0e8cc4",
   "metadata": {},
   "outputs": [],
   "source": [
    "def get_graph_properties(H):\n",
    "    print(\"Nodes in in the final subgraph: \", len(H.nodes()), \"\\nEdges in the final subgraph: \", len(H.edges()))\n",
    "#    print(\"Diameter: \", nx.diameter(H.to_undirected()))\n",
    "    print(\"Average clustering coefficient: \", nx.average_clustering(H.to_undirected()))"
   ]
  },
  {
   "cell_type": "code",
   "execution_count": 264,
   "id": "90b4c218",
   "metadata": {},
   "outputs": [
    {
     "name": "stdout",
     "output_type": "stream",
     "text": [
      "Co-authorship graph properties: \n",
      "Nodes in in the final subgraph:  22306 \n",
      "Edges in the final subgraph:  223268\n",
      "Average clustering coefficient:  0.5843096324886987\n",
      "\n",
      "Citation graph properties: \n",
      "Nodes in in the final subgraph:  115907 \n",
      "Edges in the final subgraph:  521901\n",
      "Average clustering coefficient:  0.19744282542548652\n"
     ]
    }
   ],
   "source": [
    "print(\"Co-authorship graph properties: \")\n",
    "get_graph_properties(A_sub_clear)\n",
    "print(\"\\nCitation graph properties: \")\n",
    "get_graph_properties(G_sub_clear)"
   ]
  },
  {
   "cell_type": "markdown",
   "id": "19850c08",
   "metadata": {},
   "source": [
    "### Save data\n",
    "<a id='save_data'></a>"
   ]
  },
  {
   "cell_type": "code",
   "execution_count": 266,
   "id": "e96e98cc",
   "metadata": {},
   "outputs": [],
   "source": [
    "dataset_name = \"SSORC_CS_10_21_22306_115907_primus\" "
   ]
  },
  {
   "cell_type": "markdown",
   "id": "8a07518b",
   "metadata": {},
   "source": [
    "_Recommended format:_ name_of_SSORC_subset (e. g., SSORC_CS_10_21) + _ + co-authorsip graph node number + _ + citation graph node number + _ + fancy latin word"
   ]
  },
  {
   "cell_type": "code",
   "execution_count": 267,
   "id": "5be0d0ad",
   "metadata": {},
   "outputs": [],
   "source": [
    "!mkdir datasets/{dataset_name}"
   ]
  },
  {
   "cell_type": "code",
   "execution_count": 274,
   "id": "f935692b",
   "metadata": {},
   "outputs": [],
   "source": [
    "pd.DataFrame(list(A_sub_clear.edges()), columns = [\"from\", \"to\"]).to_csv(\"datasets/\" + dataset_name + \"/\"\\\n",
    "                                                                         + dataset_name + \"_\" + \"authors_edge_list.csv\")"
   ]
  },
  {
   "cell_type": "code",
   "execution_count": 275,
   "id": "a84eb6af",
   "metadata": {},
   "outputs": [],
   "source": [
    "pd.DataFrame(list(G_sub_clear.edges()), columns = [\"from\", \"to\"]).to_csv(\"datasets/\" + dataset_name + \"/\"\\\n",
    "                                                                         + dataset_name + \"_\" + \"papers_edge_list.csv\")"
   ]
  },
  {
   "cell_type": "code",
   "execution_count": 280,
   "id": "04db3add",
   "metadata": {},
   "outputs": [],
   "source": [
    "pd.DataFrame(list(A_sub_clear.nodes()), columns = [\"node_id\"]).to_csv(\"datasets/\" + dataset_name + \"/\"\\\n",
    "                                                                         + dataset_name + \"_\" + \"authors_nodes.csv\")"
   ]
  },
  {
   "cell_type": "code",
   "execution_count": 279,
   "id": "23f4ebe9",
   "metadata": {},
   "outputs": [],
   "source": [
    "pd.DataFrame(list(G_sub_clear.nodes()), columns = [\"node_id\"]).to_csv(\"datasets/\" + dataset_name + \"/\"\\\n",
    "                                                                         + dataset_name + \"_\" + \"papers_nodes.csv\")"
   ]
  }
 ],
 "metadata": {
  "kernelspec": {
   "display_name": "Python 3 (ipykernel)",
   "language": "python",
   "name": "python3"
  },
  "language_info": {
   "codemirror_mode": {
    "name": "ipython",
    "version": 3
   },
   "file_extension": ".py",
   "mimetype": "text/x-python",
   "name": "python",
   "nbconvert_exporter": "python",
   "pygments_lexer": "ipython3",
   "version": "3.7.10"
  }
 },
 "nbformat": 4,
 "nbformat_minor": 5
}
