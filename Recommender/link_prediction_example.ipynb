{
 "cells": [
  {
   "cell_type": "code",
   "execution_count": 69,
   "id": "537b90f4",
   "metadata": {},
   "outputs": [],
   "source": [
    "from tqdm import tqdm\n",
    "from collections import Counter\n",
    "\n",
    "import pandas as pd\n",
    "import numpy as np\n",
    "\n",
    "import networkx as nx\n",
    "\n",
    "import torch\n",
    "import torch.nn.functional as F\n",
    "import torch.nn as nn\n",
    "from torch.autograd import Variable\n",
    "\n",
    "import torch_geometric.transforms as T\n",
    "from torch_geometric.nn import GCNConv\n",
    "from torch_geometric.nn import SAGEConv\n",
    "from torch_geometric.data import Data\n",
    "from torch_geometric.utils import negative_sampling\n",
    "from torch_geometric.utils import erdos_renyi_graph, to_networkx, from_networkx\n",
    "from torch_geometric.transforms import RandomLinkSplit\n",
    "\n",
    "from sklearn.metrics import mean_absolute_error, mean_squared_error, mean_absolute_percentage_error, roc_auc_score, accuracy_score"
   ]
  },
  {
   "cell_type": "markdown",
   "id": "d4e013cf",
   "metadata": {},
   "source": [
    "### Notebook navigation\n",
    "\n",
    "[Data load](#data_load)\n",
    "\n",
    "[Data processing](#data_processing)\n",
    "\n",
    "[Simple link prediction model](#model)"
   ]
  },
  {
   "cell_type": "markdown",
   "id": "37a52536",
   "metadata": {},
   "source": [
    "### Data load\n",
    "<a id='data_load'></a>"
   ]
  },
  {
   "cell_type": "code",
   "execution_count": 3,
   "id": "9b988c95",
   "metadata": {},
   "outputs": [
    {
     "name": "stderr",
     "output_type": "stream",
     "text": [
      "/home/user/conda/lib/python3.7/site-packages/numpy/lib/arraysetops.py:569: FutureWarning: elementwise comparison failed; returning scalar instead, but in the future will perform elementwise comparison\n",
      "  mask |= (ar1 == a)\n"
     ]
    }
   ],
   "source": [
    "authors_edges_general = pd.read_csv(\"processed_data/SSORC_CS_2010_2021_authors_edge_list.csv\", index_col = 0)"
   ]
  },
  {
   "cell_type": "code",
   "execution_count": 4,
   "id": "afa057a3",
   "metadata": {},
   "outputs": [],
   "source": [
    "authors_edges_papers_general = pd.read_csv(\"processed_data/SSORC_CS_2010_2021_authors_edges_papers_indices.csv\", index_col = 0, \\\n",
    "                                   converters={\"papers_indices\": lambda x: x.strip(\"[]\").replace(\"'\",\"\").split(\", \")})"
   ]
  },
  {
   "cell_type": "code",
   "execution_count": 5,
   "id": "16a15ec8",
   "metadata": {},
   "outputs": [],
   "source": [
    "authors_papers_features_general = pd.read_csv(\"processed_data/SSORC_CS_2010_2021_papers_features_vectorized_compressed_32.csv\", index_col = 0)"
   ]
  },
  {
   "cell_type": "code",
   "execution_count": 6,
   "id": "75f0d6ab",
   "metadata": {},
   "outputs": [],
   "source": [
    "dataset = \"SSORC_CS_10_21_22306_115907_primus\""
   ]
  },
  {
   "cell_type": "code",
   "execution_count": 7,
   "id": "88eec88f",
   "metadata": {},
   "outputs": [],
   "source": [
    "authors_edges = pd.read_csv(\"datasets/\" + dataset + \"/\" + dataset + \"_authors_edge_list.csv\", index_col = 0)\n",
    "authors_nodes = pd.read_csv(\"datasets/\" + dataset + \"/\" + dataset + \"_authors_nodes.csv\", index_col = 0)\n",
    "papers_edges = pd.read_csv(\"datasets/\" + dataset + \"/\" + dataset + \"_papers_edge_list.csv\", index_col = 0)\n",
    "papers_nodes = pd.read_csv(\"datasets/\" + dataset + \"/\" + dataset + \"_papers_nodes.csv\", index_col = 0)"
   ]
  },
  {
   "cell_type": "markdown",
   "id": "41476ffd",
   "metadata": {},
   "source": [
    "### Data processing\n",
    "<a id='data_processing'></a>"
   ]
  },
  {
   "cell_type": "code",
   "execution_count": 8,
   "id": "f30fa615",
   "metadata": {},
   "outputs": [],
   "source": [
    "papers_node_features = authors_papers_features_general.iloc[papers_nodes[\"node_id\"], :]"
   ]
  },
  {
   "cell_type": "code",
   "execution_count": 9,
   "id": "38a12b53",
   "metadata": {},
   "outputs": [
    {
     "name": "stderr",
     "output_type": "stream",
     "text": [
      "100%|██████████| 521901/521901 [00:00<00:00, 1320379.00it/s]\n",
      "100%|██████████| 521901/521901 [00:00<00:00, 1029780.42it/s]\n",
      "100%|██████████| 521901/521901 [00:01<00:00, 395576.91it/s]\n"
     ]
    }
   ],
   "source": [
    "aev = papers_edges.values\n",
    "edges_list_t = [(aev[i][0], aev[i][1]) for i in tqdm(range(len(aev)))]\n",
    "citation_graph = nx.DiGraph((x, y) for (x, y) in tqdm(Counter(edges_list_t)))    "
   ]
  },
  {
   "cell_type": "code",
   "execution_count": 10,
   "id": "babc251f",
   "metadata": {},
   "outputs": [
    {
     "name": "stderr",
     "output_type": "stream",
     "text": [
      "100%|██████████| 115907/115907 [00:18<00:00, 6396.77it/s]\n"
     ]
    }
   ],
   "source": [
    "for node in tqdm(citation_graph.nodes):\n",
    "    citation_graph.nodes[node]['x'] = list(papers_node_features.loc[[node]].values[0])\n",
    "    "
   ]
  },
  {
   "cell_type": "code",
   "execution_count": 11,
   "id": "a45f551d",
   "metadata": {},
   "outputs": [],
   "source": [
    "data = from_networkx(citation_graph)"
   ]
  },
  {
   "cell_type": "code",
   "execution_count": 12,
   "id": "1719f6f9",
   "metadata": {},
   "outputs": [
    {
     "data": {
      "text/plain": [
       "Data(x=[115907, 32], edge_index=[2, 521901])"
      ]
     },
     "execution_count": 12,
     "metadata": {},
     "output_type": "execute_result"
    }
   ],
   "source": [
    "data"
   ]
  },
  {
   "cell_type": "code",
   "execution_count": 15,
   "id": "567b2cb2",
   "metadata": {},
   "outputs": [],
   "source": [
    "transform = RandomLinkSplit(is_undirected=False)"
   ]
  },
  {
   "cell_type": "code",
   "execution_count": 16,
   "id": "7137c378",
   "metadata": {},
   "outputs": [],
   "source": [
    "train_data, val_data, test_data = transform(data)"
   ]
  },
  {
   "cell_type": "markdown",
   "id": "ebeb2bf5",
   "metadata": {},
   "source": [
    "### Simple link prediction model\n",
    "<a id='model'></a>"
   ]
  },
  {
   "cell_type": "code",
   "execution_count": 43,
   "id": "e22d1167",
   "metadata": {},
   "outputs": [],
   "source": [
    "class Net(torch.nn.Module):\n",
    "    def __init__(self):\n",
    "        super(Net, self).__init__()\n",
    "        self.conv1 = GCNConv(32, 128)\n",
    "        self.conv2 = GCNConv(128, 64)\n",
    "\n",
    "    def forward(self):\n",
    "        # node embeddings construction\n",
    "        x = self.conv1(train_data.x, train_data.edge_index)\n",
    "        x = x.relu()\n",
    "        x = self.conv2(x, train_data.edge_index)        \n",
    "        return x"
   ]
  },
  {
   "cell_type": "code",
   "execution_count": 96,
   "id": "b4bb58a3",
   "metadata": {},
   "outputs": [
    {
     "data": {
      "text/plain": [
       "device(type='cuda')"
      ]
     },
     "execution_count": 96,
     "metadata": {},
     "output_type": "execute_result"
    }
   ],
   "source": [
    "device = torch.device('cuda' if torch.cuda.is_available() else 'cpu')\n",
    "device"
   ]
  },
  {
   "cell_type": "code",
   "execution_count": 101,
   "id": "e4724f2f",
   "metadata": {},
   "outputs": [],
   "source": [
    "model, train_data, val_data, test_data = Net().to(device), train_data.to(device), val_data.to(device), test_data.to(device)\n",
    "optimizer = torch.optim.Adam(params=model.parameters(), lr=0.0001)"
   ]
  },
  {
   "cell_type": "code",
   "execution_count": 102,
   "id": "06a9ba33",
   "metadata": {},
   "outputs": [],
   "source": [
    "def train():\n",
    "    model.train()\n",
    "    optimizer.zero_grad()\n",
    "    z = model()\n",
    "    edge_index = train_data.edge_label_index\n",
    "    link_embeddings = (z[edge_index[0]] * z[edge_index[1]]).sum(dim=-1)  # dot product \n",
    "    link_labels = train_data.edge_label\n",
    "    loss = F.binary_cross_entropy_with_logits(link_embeddings, link_labels)\n",
    "    loss.backward()\n",
    "    optimizer.step()\n",
    "    return loss\n",
    "\n",
    "@torch.no_grad()\n",
    "def test():\n",
    "    model.eval()\n",
    "    perfs = []\n",
    "    z = model()\n",
    "    for sample in [val_data, test_data]: \n",
    "        edge_index = sample.edge_label_index\n",
    "        link_embeddings = (z[edge_index[0]] * z[edge_index[1]]).sum(dim=-1)  # dot product \n",
    "        link_probs = link_embeddings.sigmoid()\n",
    "        link_labels = sample.edge_label\n",
    "        perfs.append(roc_auc_score(link_labels.cpu(), link_probs.cpu()))\n",
    "    return perfs"
   ]
  },
  {
   "cell_type": "code",
   "execution_count": 103,
   "id": "98c6293b",
   "metadata": {},
   "outputs": [
    {
     "name": "stdout",
     "output_type": "stream",
     "text": [
      "Loss: 0.6335689425468445 Val ROC AUC: 0.8505025176076874 Test ROC AUC: 0.8490941032168304\n",
      "Loss: 0.5926809310913086 Val ROC AUC: 0.8903955727449643 Test ROC AUC: 0.8886420504273429\n",
      "Loss: 0.5264583826065063 Val ROC AUC: 0.9136736409894999 Test ROC AUC: 0.9116997942687413\n",
      "Loss: 0.49002188444137573 Val ROC AUC: 0.9167409251008178 Test ROC AUC: 0.9151879533126581\n",
      "Loss: 0.4737541675567627 Val ROC AUC: 0.9268957836087657 Test ROC AUC: 0.9253539349457912\n",
      "Loss: 0.4624984562397003 Val ROC AUC: 0.9342709171585935 Test ROC AUC: 0.9327097880509485\n",
      "Loss: 0.4548185169696808 Val ROC AUC: 0.9388555830225324 Test ROC AUC: 0.9373728798477243\n",
      "Loss: 0.4490970969200134 Val ROC AUC: 0.9419713107379807 Test ROC AUC: 0.9405718301564496\n",
      "Loss: 0.44466134905815125 Val ROC AUC: 0.9440818148979653 Test ROC AUC: 0.9427475215105124\n",
      "Loss: 0.4411512017250061 Val ROC AUC: 0.9456004963073411 Test ROC AUC: 0.9442823092558214\n"
     ]
    }
   ],
   "source": [
    "epochs = 1000\n",
    "for i in range(epochs):\n",
    "    train_loss = train()\n",
    "    if i % 100 == 0:\n",
    "        metrics = test()\n",
    "        print(\"Loss:\", float(train_loss), \"Val ROC AUC:\", metrics[0], \"Test ROC AUC:\", metrics[1])"
   ]
  }
 ],
 "metadata": {
  "kernelspec": {
   "display_name": "Python 3 (ipykernel)",
   "language": "python",
   "name": "python3"
  },
  "language_info": {
   "codemirror_mode": {
    "name": "ipython",
    "version": 3
   },
   "file_extension": ".py",
   "mimetype": "text/x-python",
   "name": "python",
   "nbconvert_exporter": "python",
   "pygments_lexer": "ipython3",
   "version": "3.7.10"
  }
 },
 "nbformat": 4,
 "nbformat_minor": 5
}
