{
 "cells": [
  {
   "cell_type": "code",
   "execution_count": 1,
   "id": "340096a3",
   "metadata": {
    "collapsed": true
   },
   "outputs": [
    {
     "name": "stdout",
     "output_type": "stream",
     "text": [
      "Requirement already satisfied: wandb in /home/user/conda/lib/python3.7/site-packages (0.12.5)\n",
      "Collecting wandb\n",
      "  Using cached wandb-0.12.5-py2.py3-none-any.whl (1.7 MB)\n",
      "  Downloading wandb-0.12.4-py2.py3-none-any.whl (1.7 MB)\n",
      "\u001b[K     |████████████████████████████████| 1.7 MB 1.3 MB/s eta 0:00:01\n",
      "\u001b[?25hRequirement already satisfied: yaspin>=1.0.0 in /home/user/conda/lib/python3.7/site-packages (from wandb) (2.1.0)\n",
      "Requirement already satisfied: docker-pycreds>=0.4.0 in /home/user/conda/lib/python3.7/site-packages (from wandb) (0.4.0)\n",
      "Requirement already satisfied: PyYAML in /home/user/conda/lib/python3.7/site-packages (from wandb) (5.4.1)\n",
      "Requirement already satisfied: pathtools in /home/user/conda/lib/python3.7/site-packages (from wandb) (0.1.2)\n",
      "Requirement already satisfied: six>=1.13.0 in /home/user/conda/lib/python3.7/site-packages (from wandb) (1.16.0)\n",
      "Requirement already satisfied: requests<3,>=2.0.0 in /home/user/conda/lib/python3.7/site-packages (from wandb) (2.26.0)\n",
      "Requirement already satisfied: Click!=8.0.0,>=7.0 in /home/user/conda/lib/python3.7/site-packages (from wandb) (7.1.2)\n",
      "Requirement already satisfied: protobuf>=3.12.0 in /home/user/conda/lib/python3.7/site-packages (from wandb) (3.17.3)\n",
      "Requirement already satisfied: subprocess32>=3.5.3 in /home/user/conda/lib/python3.7/site-packages (from wandb) (3.5.4)\n",
      "Requirement already satisfied: GitPython>=1.0.0 in /home/user/conda/lib/python3.7/site-packages (from wandb) (3.1.18)\n",
      "Requirement already satisfied: promise<3,>=2.0 in /home/user/conda/lib/python3.7/site-packages (from wandb) (2.3)\n",
      "Requirement already satisfied: configparser>=3.8.1 in /home/user/conda/lib/python3.7/site-packages (from wandb) (5.0.2)\n",
      "Requirement already satisfied: shortuuid>=0.5.0 in /home/user/conda/lib/python3.7/site-packages (from wandb) (1.0.1)\n",
      "Requirement already satisfied: python-dateutil>=2.6.1 in /home/user/conda/lib/python3.7/site-packages (from wandb) (2.8.1)\n",
      "Requirement already satisfied: sentry-sdk>=1.0.0 in /home/user/conda/lib/python3.7/site-packages (from wandb) (1.4.3)\n",
      "Requirement already satisfied: psutil>=5.0.0 in /home/user/conda/lib/python3.7/site-packages (from wandb) (5.8.0)\n",
      "Requirement already satisfied: gitdb<5,>=4.0.1 in /home/user/conda/lib/python3.7/site-packages (from GitPython>=1.0.0->wandb) (4.0.7)\n",
      "Requirement already satisfied: typing-extensions>=3.7.4.0 in /home/user/conda/lib/python3.7/site-packages (from GitPython>=1.0.0->wandb) (3.10.0.0)\n",
      "Requirement already satisfied: smmap<5,>=3.0.1 in /home/user/conda/lib/python3.7/site-packages (from gitdb<5,>=4.0.1->GitPython>=1.0.0->wandb) (4.0.0)\n",
      "Requirement already satisfied: certifi>=2017.4.17 in /home/user/conda/lib/python3.7/site-packages (from requests<3,>=2.0.0->wandb) (2021.5.30)\n",
      "Requirement already satisfied: charset-normalizer~=2.0.0 in /home/user/conda/lib/python3.7/site-packages (from requests<3,>=2.0.0->wandb) (2.0.3)\n",
      "Requirement already satisfied: idna<4,>=2.5 in /home/user/conda/lib/python3.7/site-packages (from requests<3,>=2.0.0->wandb) (3.2)\n",
      "Requirement already satisfied: urllib3<1.27,>=1.21.1 in /home/user/conda/lib/python3.7/site-packages (from requests<3,>=2.0.0->wandb) (1.26.6)\n",
      "Requirement already satisfied: termcolor<2.0.0,>=1.1.0 in /home/jovyan/.local/lib/python3.7/site-packages (from yaspin>=1.0.0->wandb) (1.1.0)\n",
      "\u001b[33mWARNING: You are using pip version 20.3.4; however, version 21.3 is available.\n",
      "You should consider upgrading via the '/home/user/conda/bin/python3.7 -m pip install --upgrade pip' command.\u001b[0m\n"
     ]
    }
   ],
   "source": [
    "!pip install wandb"
   ]
  },
  {
   "cell_type": "code",
   "execution_count": 2,
   "id": "c6cc8a49",
   "metadata": {},
   "outputs": [],
   "source": [
    "import pandas as pd\n",
    "import numpy as np\n",
    "from tqdm import tqdm\n",
    "\n",
    "import torch\n",
    "import torch.nn.functional as F\n",
    "import torch.nn as nn\n",
    "from torch.autograd import Variable\n",
    "\n",
    "from sklearn.decomposition import PCA\n",
    "\n",
    "from sklearn.metrics import mean_absolute_error\n",
    "from sklearn.metrics import mean_squared_error\n",
    "from sklearn.metrics import mean_absolute_percentage_error\n",
    "\n",
    "import wandb "
   ]
  },
  {
   "cell_type": "code",
   "execution_count": 3,
   "id": "2560687b",
   "metadata": {},
   "outputs": [],
   "source": [
    "graph = pd.read_csv(\"graph_abakan_F_encoded.csv\", index_col = 0)\n",
    "X = pd.read_csv(\"abakan_full_routes_final_weather_L_NaN_filtered_FIXED.csv\", index_col = 0).dropna().drop([\"real_dist\", \"speed\", \"time\", \"length\", \"route_type\",\"start_timestamp\"], axis = 1).reset_index(drop=True)"
   ]
  },
  {
   "cell_type": "code",
   "execution_count": 4,
   "id": "85c5d1aa",
   "metadata": {},
   "outputs": [],
   "source": [
    "X = X[(X[\"rebuildCount\"] <= 1) & (X[\"RTA\"] > 30) & (X[\"RTA\"] < 3000)]\n",
    "X = X.drop([\"rebuildCount\"], axis = 1)"
   ]
  },
  {
   "cell_type": "code",
   "execution_count": 6,
   "id": "96656840",
   "metadata": {},
   "outputs": [],
   "source": [
    "X.reset_index(drop = True, inplace = True)"
   ]
  },
  {
   "cell_type": "code",
   "execution_count": 8,
   "id": "6cea0cef",
   "metadata": {},
   "outputs": [],
   "source": [
    "route_edges = np.array(X[\"edges\"].map(lambda x: x.replace(\"'\", \"\")))"
   ]
  },
  {
   "cell_type": "code",
   "execution_count": 9,
   "id": "13e7e76a",
   "metadata": {},
   "outputs": [],
   "source": [
    "wind_dir_classes = pd.get_dummies(X.wind_dir, prefix='wind_dir_class')\n",
    "day_classes = pd.get_dummies(X.day_period, prefix='day_class')\n",
    "Y = X[\"RTA\"]\n",
    "X = X.join(wind_dir_classes).join(day_classes).drop([\"edges\", \"wind_dir\", \"day_period\", \"RTA\"], axis = 1)"
   ]
  },
  {
   "cell_type": "code",
   "execution_count": 10,
   "id": "17f50bdb",
   "metadata": {},
   "outputs": [],
   "source": [
    "dense = X.iloc[:, 0:7].join(X[[\"temperature\", \"pressure\", \"wind_speed\", \"clouds\", \"snow\"]])\n",
    "sparse = X.iloc[:, 7::].drop([\"temperature\", \"pressure\", \"wind_speed\", \"clouds\", \"snow\"], axis =1)"
   ]
  },
  {
   "cell_type": "code",
   "execution_count": 11,
   "id": "8da610ca",
   "metadata": {},
   "outputs": [],
   "source": [
    "pca = PCA(n_components=5)\n",
    "sparse_compressed = pca.fit_transform(sparse)\n",
    "deep_input = np.array(dense.join(pd.DataFrame(sparse_compressed))).astype(\"float32\")"
   ]
  },
  {
   "cell_type": "code",
   "execution_count": 12,
   "id": "fee41e20",
   "metadata": {},
   "outputs": [
    {
     "name": "stderr",
     "output_type": "stream",
     "text": [
      "/home/user/conda/lib/python3.7/site-packages/ipykernel_launcher.py:11: PerformanceWarning: DataFrame is highly fragmented.  This is usually the result of calling `frame.insert` many times, which has poor performance.  Consider using pd.concat instead.  To get a de-fragmented frame, use `newframe = frame.copy()`\n",
      "  # This is added back by InteractiveShellApp.init_path()\n"
     ]
    }
   ],
   "source": [
    "joined = dense.join(sparse)\n",
    "features = list(joined.columns)\n",
    "cross_product_features = []\n",
    "\n",
    "for i in range(len(features)):\n",
    "    for j in range(i+1, len(features)):\n",
    "            cross_product_features.append([features[i], features[j]])\n",
    "\n",
    "for i in range(len(cross_product_features)):\n",
    "    joined[cross_product_features[i][0] + \"_AND_\" + cross_product_features[i][1]] = \\\n",
    "    joined[cross_product_features[i][0]]*joined[cross_product_features[i][1]]\n",
    "    \n",
    "wide_input = np.array(joined).astype(\"float32\")"
   ]
  },
  {
   "cell_type": "code",
   "execution_count": 13,
   "id": "9df476b5",
   "metadata": {},
   "outputs": [],
   "source": [
    "graph_features = graph.drop([\"edge_id\", \"adjacent\"], axis = 1)\n",
    "embs = np.array(graph_features)"
   ]
  },
  {
   "cell_type": "code",
   "execution_count": 14,
   "id": "57fb5d1b",
   "metadata": {},
   "outputs": [
    {
     "name": "stderr",
     "output_type": "stream",
     "text": [
      "100%|██████████| 82202/82202 [12:06<00:00, 113.10it/s]\n"
     ]
    }
   ],
   "source": [
    "embs_dict = {}\n",
    "for i in tqdm(range(len(route_edges))):\n",
    "    arr = route_edges[i].split(\",\")\n",
    "    route_embeddings = []\n",
    "    for j in range(len(arr)):\n",
    "        ind = graph[graph[\"edge_id\"] == int(arr[j])].index\n",
    "        if (len(ind) != 0):\n",
    "            ind = ind[0]\n",
    "        else:\n",
    "#                print(str(i) + \" \" + str(j) + \" \" + arr[j] + \" \"+ str(graph[graph[\"edge_id\"] == int(arr[j])].index[0]))\n",
    "            print(\"index not found\")\n",
    "        route_embeddings.append(embs[ind])\n",
    "    embs_dict[i] = route_embeddings"
   ]
  },
  {
   "cell_type": "code",
   "execution_count": 15,
   "id": "f98c864e",
   "metadata": {},
   "outputs": [
    {
     "name": "stderr",
     "output_type": "stream",
     "text": [
      "100%|██████████| 82202/82202 [00:00<00:00, 150135.57it/s]\n"
     ]
    }
   ],
   "source": [
    "lens = set([len(embs_dict[i]) for i in range(len(embs_dict))])\n",
    "batch_dict = {}\n",
    "for i in tqdm(range(len(embs_dict))):\n",
    "    if (len(embs_dict[i])) in batch_dict:\n",
    "        batch_dict[len(embs_dict[i])].append([embs_dict[i], Y[i], i])\n",
    "    else:\n",
    "        batch_dict[len(embs_dict[i])] = []\n",
    "        batch_dict[len(embs_dict[i])].append([embs_dict[i], Y[i], i])"
   ]
  },
  {
   "cell_type": "code",
   "execution_count": 16,
   "id": "32f365a5",
   "metadata": {},
   "outputs": [],
   "source": [
    "batch_list = list(batch_dict.values())"
   ]
  },
  {
   "cell_type": "code",
   "execution_count": 16,
   "id": "82e8daa0",
   "metadata": {},
   "outputs": [
    {
     "name": "stdout",
     "output_type": "stream",
     "text": [
      "(82202, 325) (82202, 17)\n"
     ]
    }
   ],
   "source": [
    "print(np.array(wide_input).shape, np.array(deep_input).shape)"
   ]
  },
  {
   "cell_type": "code",
   "execution_count": 110,
   "id": "a0e2eb67",
   "metadata": {
    "scrolled": false
   },
   "outputs": [
    {
     "data": {
      "text/html": [
       "Finishing last run (ID:20tvyw4j) before initializing another..."
      ],
      "text/plain": [
       "<IPython.core.display.HTML object>"
      ]
     },
     "metadata": {},
     "output_type": "display_data"
    },
    {
     "data": {
      "text/html": [
       "Successfully finished last run (ID:20tvyw4j). Initializing new run:<br/>"
      ],
      "text/plain": [
       "<IPython.core.display.HTML object>"
      ]
     },
     "metadata": {},
     "output_type": "display_data"
    },
    {
     "name": "stderr",
     "output_type": "stream",
     "text": [
      "\n",
      "CondaEnvException: Unable to determine environment\n",
      "\n",
      "Please re-run this command with one of the following options:\n",
      "\n",
      "* Provide an environment name via --name or -n\n",
      "* Re-run this command inside an activated conda environment.\n",
      "\n"
     ]
    },
    {
     "data": {
      "text/html": [
       "\n",
       "                    Syncing run <strong><a href=\"https://wandb.ai/eighonet/ETA_second_stage/runs/3uuq7ezw\" target=\"_blank\">glad-puddle-68</a></strong> to <a href=\"https://wandb.ai/eighonet/ETA_second_stage\" target=\"_blank\">Weights & Biases</a> (<a href=\"https://docs.wandb.com/integrations/jupyter.html\" target=\"_blank\">docs</a>).<br/>\n",
       "\n",
       "                "
      ],
      "text/plain": [
       "<IPython.core.display.HTML object>"
      ]
     },
     "metadata": {},
     "output_type": "display_data"
    },
    {
     "name": "stderr",
     "output_type": "stream",
     "text": [
      "\u001b[34m\u001b[1mwandb\u001b[0m: \u001b[33mWARNING\u001b[0m Calling run.save without any arguments is deprecated.Changes to attributes are automatically persisted.\n"
     ]
    },
    {
     "data": {
      "text/plain": [
       "True"
      ]
     },
     "execution_count": 110,
     "metadata": {},
     "output_type": "execute_result"
    }
   ],
   "source": [
    "import wandb\n",
    "wandb.init(project='ETA_second_stage', entity='eighonet')\n",
    "wandb.run.name = \"wdr_begin_lstm_full_deep_wide_final_filtered_SAMPLED\"#\"gs_3_ffd_3_128_test_MAEloss_lr_10^{-4}_10000\"\n",
    "wandb.run.save()\n"
   ]
  },
  {
   "cell_type": "code",
   "execution_count": 101,
   "id": "06d3688a",
   "metadata": {},
   "outputs": [],
   "source": [
    "class WDR(nn.Module):\n",
    "    def __init__(self, \n",
    "                 recurrent_input_size, wide_input_size, deep_input_size, \n",
    "                 lstm_hidden_size, lstm_num_layers, \n",
    "                 device):\n",
    "        super(WDR, self).__init__()\n",
    "\n",
    "        self.device = device\n",
    "        \n",
    "        # Recurrent part\n",
    "        self.num_layers = lstm_num_layers\n",
    "        self.hidden_size = lstm_hidden_size\n",
    "        \n",
    "        self.linear_preprocess_lstm = nn.Linear(recurrent_input_size, 256)\n",
    "        self.lstm = nn.LSTM(input_size=256, hidden_size=lstm_hidden_size,\n",
    "                    num_layers=lstm_num_layers, batch_first=True)\n",
    "        \n",
    "        # Deep part\n",
    "        self.linear_1 = nn.Linear(deep_input_size, 256)\n",
    "        self.linear_2 = nn.Linear(256, 256)\n",
    "        self.linear_2_1 = nn.Linear(256, 256)\n",
    "        \n",
    "        # Wide part\n",
    "        self.linear_3 = nn.Linear(wide_input_size, 256)\n",
    "        \n",
    "        # Final regression\n",
    "        self.linear_4 = nn.Linear(512 + 256, 256)\n",
    "        self.linear_5 = nn.Linear(256, 1)\n",
    "        \n",
    "        # Test layers\n",
    "        self.linear_test = nn.Linear(256, 1)\n",
    "        self.branch_test = nn.Linear(deep_input_size, 256)\n",
    "        \n",
    "        \n",
    "    def forward(self, x, deep_input, wide_input, indices):\n",
    "        def merge_deep_branch(h_out, indices):\n",
    "            deep_output = Variable(torch.Tensor(deep_input[indices])).to(self.device)\n",
    "            deep_output = F.relu(self.linear_1(deep_output))\n",
    "            deep_output = F.relu(self.linear_2(deep_output))\n",
    "            deep_output = F.relu(self.linear_2_1(deep_output))\n",
    "            return torch.cat((h_out, deep_output), 1)\n",
    "        \n",
    "        def merge_wide_branch(final_input, indices):\n",
    "            wide_output = Variable(torch.Tensor(wide_input[indices])).to(self.device)\n",
    "            wide_output = F.relu(self.linear_3(wide_output))\n",
    "            return torch.cat((final_input, wide_output), 1)\n",
    "        \n",
    "#        print(x.shape)\n",
    "        preprocessed_lstm_data = F.relu(self.linear_preprocess_lstm(x))\n",
    "        \n",
    "        h_0 = Variable(torch.zeros(\n",
    "            self.num_layers, x.size(0), self.hidden_size)).to(self.device)\n",
    "        \n",
    "        c_0 = Variable(torch.zeros(\n",
    "            self.num_layers, x.size(0), self.hidden_size)).to(self.device)\n",
    "\n",
    "        ula, (h_out, _) = self.lstm(preprocessed_lstm_data, (h_0, c_0))        \n",
    "        h_out = h_out.view(-1, self.hidden_size)\n",
    "        \n",
    "        final_input = merge_deep_branch(h_out, indices)\n",
    "        final_input = merge_wide_branch(final_input, indices)\n",
    "        \n",
    "        linear_out = F.relu(self.linear_4(final_input))\n",
    "        linear_out = F.relu(self.linear_5(linear_out))\n",
    "        return linear_out"
   ]
  },
  {
   "cell_type": "code",
   "execution_count": 106,
   "id": "c82737b9",
   "metadata": {},
   "outputs": [
    {
     "name": "stdout",
     "output_type": "stream",
     "text": [
      "cuda:0\n"
     ]
    }
   ],
   "source": [
    "num_epochs = 200\n",
    "learning_rate = 0.000001\n",
    "\n",
    "device = \"\"\n",
    "gpu_ids = []\n",
    "if torch.cuda.is_available():\n",
    "    gpu_ids += [gpu_id for gpu_id in range(torch.cuda.device_count())]\n",
    "    device = torch.device(f'cuda:{gpu_ids[0]}')\n",
    "    torch.cuda.set_device(device)\n",
    "else:\n",
    "    device = torch.device('cpu')\n",
    "print(device)\n",
    "device = \"cuda\"\n",
    "\n",
    "# Recurrent parameters\n",
    "recurrent_input_size = np.array(batch_list[0][0][0]).shape[-1]\n",
    "hidden_size = 256\n",
    "num_layers = 1\n",
    "\n",
    "# Deep parameters\n",
    "deep_input_size = deep_input.shape[1]\n",
    "\n",
    "# Wide parameters\n",
    "wide_input_size = wide_input.shape[1]\n",
    "\n",
    "wdr7 = WDR(recurrent_input_size, wide_input_size, deep_input_size,\n",
    "          hidden_size, num_layers, \n",
    "          device)\n",
    "wdr7 = wdr7.to(device)\n",
    "\n",
    "criterion = torch.nn.L1Loss()\n",
    "optimizer = torch.optim.Adam(wdr7.parameters(), lr=learning_rate)"
   ]
  },
  {
   "cell_type": "code",
   "execution_count": 107,
   "id": "9e932581",
   "metadata": {},
   "outputs": [],
   "source": [
    "ratio = 0.8\n",
    "train_mask = {i for i in range(int(ratio*82200), 120000)} \n",
    "test_mask = {i for i in range(int(ratio*82200))}"
   ]
  },
  {
   "cell_type": "code",
   "execution_count": 113,
   "id": "9c410621",
   "metadata": {},
   "outputs": [
    {
     "name": "stderr",
     "output_type": "stream",
     "text": [
      "100%|██████████| 225/225 [00:25<00:00,  8.72it/s]\n",
      "100%|██████████| 225/225 [00:13<00:00, 17.02it/s]\n"
     ]
    },
    {
     "name": "stdout",
     "output_type": "stream",
     "text": [
      "0 {'train_MAE': 489.5816154649523} {'test_MAE': 273.5765378994412}\n"
     ]
    },
    {
     "name": "stderr",
     "output_type": "stream",
     "text": [
      "100%|██████████| 225/225 [00:25<00:00,  8.93it/s]\n",
      "100%|██████████| 225/225 [00:13<00:00, 16.42it/s] \n"
     ]
    },
    {
     "name": "stdout",
     "output_type": "stream",
     "text": [
      "1 {'train_MAE': 328.7494549899631} {'test_MAE': 369.3745949130588}\n"
     ]
    },
    {
     "name": "stderr",
     "output_type": "stream",
     "text": [
      "100%|██████████| 225/225 [00:25<00:00,  8.93it/s]\n",
      "100%|██████████| 225/225 [00:14<00:00, 15.19it/s] \n"
     ]
    },
    {
     "name": "stdout",
     "output_type": "stream",
     "text": [
      "2 {'train_MAE': 461.64828269110785} {'test_MAE': 371.2703334384494}\n"
     ]
    },
    {
     "name": "stderr",
     "output_type": "stream",
     "text": [
      "100%|██████████| 225/225 [00:25<00:00,  8.97it/s]\n",
      "100%|██████████| 225/225 [00:14<00:00, 15.94it/s] \n"
     ]
    },
    {
     "name": "stdout",
     "output_type": "stream",
     "text": [
      "3 {'train_MAE': 511.4765318637424} {'test_MAE': 236.90262736002603}\n"
     ]
    },
    {
     "name": "stderr",
     "output_type": "stream",
     "text": [
      "100%|██████████| 225/225 [00:25<00:00,  8.71it/s]\n",
      "100%|██████████| 225/225 [00:14<00:00, 15.26it/s] \n"
     ]
    },
    {
     "name": "stdout",
     "output_type": "stream",
     "text": [
      "4 {'train_MAE': 340.24128941853843} {'test_MAE': 228.59674002753363}\n"
     ]
    },
    {
     "name": "stderr",
     "output_type": "stream",
     "text": [
      "100%|██████████| 225/225 [00:25<00:00,  8.92it/s]\n",
      "100%|██████████| 225/225 [00:14<00:00, 15.86it/s]\n"
     ]
    },
    {
     "name": "stdout",
     "output_type": "stream",
     "text": [
      "5 {'train_MAE': 353.98450037638344} {'test_MAE': 263.56873708089194}\n"
     ]
    },
    {
     "name": "stderr",
     "output_type": "stream",
     "text": [
      "100%|██████████| 225/225 [00:25<00:00,  8.97it/s]\n",
      "100%|██████████| 225/225 [00:13<00:00, 16.86it/s]\n"
     ]
    },
    {
     "name": "stdout",
     "output_type": "stream",
     "text": [
      "6 {'train_MAE': 361.34044445461694} {'test_MAE': 283.07451651679145}\n"
     ]
    },
    {
     "name": "stderr",
     "output_type": "stream",
     "text": [
      "100%|██████████| 225/225 [00:25<00:00,  8.99it/s]\n",
      "100%|██████████| 225/225 [00:13<00:00, 16.51it/s] \n"
     ]
    },
    {
     "name": "stdout",
     "output_type": "stream",
     "text": [
      "7 {'train_MAE': 335.2665064154731} {'test_MAE': 299.43805608113604}\n"
     ]
    },
    {
     "name": "stderr",
     "output_type": "stream",
     "text": [
      "100%|██████████| 225/225 [00:24<00:00,  9.12it/s]\n",
      "100%|██████████| 225/225 [00:14<00:00, 15.83it/s] \n"
     ]
    },
    {
     "name": "stdout",
     "output_type": "stream",
     "text": [
      "8 {'train_MAE': 340.5997260708279} {'test_MAE': 251.78134318033855}\n"
     ]
    },
    {
     "name": "stderr",
     "output_type": "stream",
     "text": [
      "100%|██████████| 225/225 [00:25<00:00,  8.69it/s]\n",
      "100%|██████████| 225/225 [00:14<00:00, 15.93it/s] \n"
     ]
    },
    {
     "name": "stdout",
     "output_type": "stream",
     "text": [
      "9 {'train_MAE': 328.959036187066} {'test_MAE': 324.33760209825306}\n"
     ]
    },
    {
     "name": "stderr",
     "output_type": "stream",
     "text": [
      "100%|██████████| 225/225 [00:25<00:00,  8.83it/s]\n",
      "100%|██████████| 225/225 [00:14<00:00, 15.94it/s] \n"
     ]
    },
    {
     "name": "stdout",
     "output_type": "stream",
     "text": [
      "10 {'train_MAE': 353.914564581977} {'test_MAE': 232.81061986287435}\n"
     ]
    },
    {
     "name": "stderr",
     "output_type": "stream",
     "text": [
      "100%|██████████| 225/225 [00:25<00:00,  8.84it/s]\n",
      "100%|██████████| 225/225 [00:13<00:00, 16.26it/s]\n"
     ]
    },
    {
     "name": "stdout",
     "output_type": "stream",
     "text": [
      "11 {'train_MAE': 294.45272618611654} {'test_MAE': 219.3668361409505}\n"
     ]
    },
    {
     "name": "stderr",
     "output_type": "stream",
     "text": [
      "100%|██████████| 225/225 [00:25<00:00,  8.88it/s]\n",
      "100%|██████████| 225/225 [00:13<00:00, 16.58it/s] \n"
     ]
    },
    {
     "name": "stdout",
     "output_type": "stream",
     "text": [
      "12 {'train_MAE': 304.93553007337783} {'test_MAE': 228.75451799180772}\n"
     ]
    },
    {
     "name": "stderr",
     "output_type": "stream",
     "text": [
      "100%|██████████| 225/225 [00:26<00:00,  8.60it/s]\n",
      "100%|██████████| 225/225 [00:14<00:00, 15.70it/s] \n"
     ]
    },
    {
     "name": "stdout",
     "output_type": "stream",
     "text": [
      "13 {'train_MAE': 307.51138003879123} {'test_MAE': 297.37114045884874}\n"
     ]
    },
    {
     "name": "stderr",
     "output_type": "stream",
     "text": [
      "100%|██████████| 225/225 [00:24<00:00,  9.14it/s]\n",
      "100%|██████████| 225/225 [00:13<00:00, 16.33it/s] \n"
     ]
    },
    {
     "name": "stdout",
     "output_type": "stream",
     "text": [
      "14 {'train_MAE': 304.78695185343423} {'test_MAE': 222.19769912719727}\n"
     ]
    },
    {
     "name": "stderr",
     "output_type": "stream",
     "text": [
      "100%|██████████| 225/225 [00:24<00:00,  9.00it/s]\n",
      "100%|██████████| 225/225 [00:13<00:00, 16.63it/s] \n"
     ]
    },
    {
     "name": "stdout",
     "output_type": "stream",
     "text": [
      "15 {'train_MAE': 332.72744330512154} {'test_MAE': 246.77933568318684}\n"
     ]
    },
    {
     "name": "stderr",
     "output_type": "stream",
     "text": [
      "100%|██████████| 225/225 [00:24<00:00,  9.05it/s]\n",
      "100%|██████████| 225/225 [00:14<00:00, 15.93it/s] \n"
     ]
    },
    {
     "name": "stdout",
     "output_type": "stream",
     "text": [
      "16 {'train_MAE': 293.94775851779514} {'test_MAE': 302.81363018459746}\n"
     ]
    },
    {
     "name": "stderr",
     "output_type": "stream",
     "text": [
      "100%|██████████| 225/225 [00:24<00:00,  9.05it/s]\n",
      "100%|██████████| 225/225 [00:13<00:00, 16.89it/s] \n"
     ]
    },
    {
     "name": "stdout",
     "output_type": "stream",
     "text": [
      "17 {'train_MAE': 318.1692540147569} {'test_MAE': 239.70462290445963}\n"
     ]
    },
    {
     "name": "stderr",
     "output_type": "stream",
     "text": [
      "100%|██████████| 225/225 [00:25<00:00,  8.90it/s]\n",
      "100%|██████████| 225/225 [00:13<00:00, 16.17it/s] \n"
     ]
    },
    {
     "name": "stdout",
     "output_type": "stream",
     "text": [
      "18 {'train_MAE': 311.9480675930447} {'test_MAE': 244.06914877997505}\n"
     ]
    },
    {
     "name": "stderr",
     "output_type": "stream",
     "text": [
      "100%|██████████| 225/225 [00:25<00:00,  8.85it/s]\n",
      "100%|██████████| 225/225 [00:14<00:00, 15.53it/s] \n"
     ]
    },
    {
     "name": "stdout",
     "output_type": "stream",
     "text": [
      "19 {'train_MAE': 324.4009492323134} {'test_MAE': 225.89145670572915}\n"
     ]
    },
    {
     "name": "stderr",
     "output_type": "stream",
     "text": [
      "100%|██████████| 225/225 [00:25<00:00,  8.90it/s]\n",
      "100%|██████████| 225/225 [00:13<00:00, 16.16it/s] \n"
     ]
    },
    {
     "name": "stdout",
     "output_type": "stream",
     "text": [
      "20 {'train_MAE': 328.21813320583766} {'test_MAE': 320.77834262424045}\n"
     ]
    },
    {
     "name": "stderr",
     "output_type": "stream",
     "text": [
      "100%|██████████| 225/225 [00:25<00:00,  8.72it/s]\n",
      "100%|██████████| 225/225 [00:13<00:00, 16.19it/s] \n"
     ]
    },
    {
     "name": "stdout",
     "output_type": "stream",
     "text": [
      "21 {'train_MAE': 307.6688671535916} {'test_MAE': 213.2446683078342}\n"
     ]
    },
    {
     "name": "stderr",
     "output_type": "stream",
     "text": [
      "100%|██████████| 225/225 [00:25<00:00,  8.80it/s]\n",
      "100%|██████████| 225/225 [00:14<00:00, 15.59it/s]\n"
     ]
    },
    {
     "name": "stdout",
     "output_type": "stream",
     "text": [
      "22 {'train_MAE': 323.4502533976237} {'test_MAE': 318.64207729763456}\n"
     ]
    },
    {
     "name": "stderr",
     "output_type": "stream",
     "text": [
      "100%|██████████| 225/225 [00:25<00:00,  8.87it/s]\n",
      "100%|██████████| 225/225 [00:13<00:00, 16.29it/s] \n"
     ]
    },
    {
     "name": "stdout",
     "output_type": "stream",
     "text": [
      "23 {'train_MAE': 309.2405639648438} {'test_MAE': 229.42875484890408}\n"
     ]
    },
    {
     "name": "stderr",
     "output_type": "stream",
     "text": [
      "100%|██████████| 225/225 [00:24<00:00,  9.01it/s]\n",
      "100%|██████████| 225/225 [00:14<00:00, 15.19it/s] \n"
     ]
    },
    {
     "name": "stdout",
     "output_type": "stream",
     "text": [
      "24 {'train_MAE': 327.16859144422745} {'test_MAE': 322.108306511773}\n"
     ]
    },
    {
     "name": "stderr",
     "output_type": "stream",
     "text": [
      "100%|██████████| 225/225 [00:25<00:00,  8.73it/s]\n",
      "100%|██████████| 225/225 [00:14<00:00, 15.18it/s] \n"
     ]
    },
    {
     "name": "stdout",
     "output_type": "stream",
     "text": [
      "25 {'train_MAE': 283.6801249186198} {'test_MAE': 240.96335042317708}\n"
     ]
    },
    {
     "name": "stderr",
     "output_type": "stream",
     "text": [
      "100%|██████████| 225/225 [00:25<00:00,  8.97it/s]\n",
      "100%|██████████| 225/225 [00:15<00:00, 14.66it/s]\n"
     ]
    },
    {
     "name": "stdout",
     "output_type": "stream",
     "text": [
      "26 {'train_MAE': 278.49058064778643} {'test_MAE': 247.3914333258735}\n"
     ]
    },
    {
     "name": "stderr",
     "output_type": "stream",
     "text": [
      "100%|██████████| 225/225 [00:25<00:00,  8.83it/s]\n",
      "100%|██████████| 225/225 [00:14<00:00, 15.97it/s] \n"
     ]
    },
    {
     "name": "stdout",
     "output_type": "stream",
     "text": [
      "27 {'train_MAE': 326.8445289781358} {'test_MAE': 250.45934865315755}\n"
     ]
    },
    {
     "name": "stderr",
     "output_type": "stream",
     "text": [
      "100%|██████████| 225/225 [00:25<00:00,  8.86it/s]\n",
      "100%|██████████| 225/225 [00:14<00:00, 15.62it/s] \n"
     ]
    },
    {
     "name": "stdout",
     "output_type": "stream",
     "text": [
      "28 {'train_MAE': 283.78186313205293} {'test_MAE': 239.15640867445205}\n"
     ]
    },
    {
     "name": "stderr",
     "output_type": "stream",
     "text": [
      "100%|██████████| 225/225 [00:24<00:00,  9.11it/s]\n",
      "100%|██████████| 225/225 [00:14<00:00, 15.73it/s]\n"
     ]
    },
    {
     "name": "stdout",
     "output_type": "stream",
     "text": [
      "29 {'train_MAE': 279.09865834554034} {'test_MAE': 264.404601304796}\n"
     ]
    },
    {
     "name": "stderr",
     "output_type": "stream",
     "text": [
      "100%|██████████| 225/225 [00:26<00:00,  8.63it/s]\n",
      "100%|██████████| 225/225 [00:14<00:00, 15.60it/s] \n"
     ]
    },
    {
     "name": "stdout",
     "output_type": "stream",
     "text": [
      "30 {'train_MAE': 294.33859649658206} {'test_MAE': 288.4171528116862}\n"
     ]
    },
    {
     "name": "stderr",
     "output_type": "stream",
     "text": [
      "100%|██████████| 225/225 [00:25<00:00,  8.72it/s]\n",
      "100%|██████████| 225/225 [00:14<00:00, 15.43it/s] \n"
     ]
    },
    {
     "name": "stdout",
     "output_type": "stream",
     "text": [
      "31 {'train_MAE': 308.43726145426433} {'test_MAE': 204.12507334391276}\n"
     ]
    },
    {
     "name": "stderr",
     "output_type": "stream",
     "text": [
      "100%|██████████| 225/225 [00:24<00:00,  9.12it/s]\n",
      "100%|██████████| 225/225 [00:14<00:00, 15.71it/s] \n"
     ]
    },
    {
     "name": "stdout",
     "output_type": "stream",
     "text": [
      "32 {'train_MAE': 285.44376692030164} {'test_MAE': 203.38324829101563}\n"
     ]
    },
    {
     "name": "stderr",
     "output_type": "stream",
     "text": [
      "100%|██████████| 225/225 [00:25<00:00,  8.87it/s]\n",
      "100%|██████████| 225/225 [00:13<00:00, 16.41it/s] \n"
     ]
    },
    {
     "name": "stdout",
     "output_type": "stream",
     "text": [
      "33 {'train_MAE': 318.2769142659505} {'test_MAE': 410.59354668511287}\n"
     ]
    },
    {
     "name": "stderr",
     "output_type": "stream",
     "text": [
      "100%|██████████| 225/225 [00:25<00:00,  8.93it/s]\n",
      "100%|██████████| 225/225 [00:14<00:00, 15.83it/s] \n"
     ]
    },
    {
     "name": "stdout",
     "output_type": "stream",
     "text": [
      "34 {'train_MAE': 278.4948094346788} {'test_MAE': 205.56681047227647}\n"
     ]
    },
    {
     "name": "stderr",
     "output_type": "stream",
     "text": [
      "100%|██████████| 225/225 [00:24<00:00,  9.16it/s]\n",
      "100%|██████████| 225/225 [00:14<00:00, 15.56it/s]\n"
     ]
    },
    {
     "name": "stdout",
     "output_type": "stream",
     "text": [
      "35 {'train_MAE': 301.32797658284505} {'test_MAE': 221.19911031087238}\n"
     ]
    },
    {
     "name": "stderr",
     "output_type": "stream",
     "text": [
      "100%|██████████| 225/225 [00:25<00:00,  8.94it/s]\n",
      "100%|██████████| 225/225 [00:14<00:00, 15.68it/s] \n"
     ]
    },
    {
     "name": "stdout",
     "output_type": "stream",
     "text": [
      "36 {'train_MAE': 280.7252377319336} {'test_MAE': 243.88542805989584}\n"
     ]
    },
    {
     "name": "stderr",
     "output_type": "stream",
     "text": [
      "100%|██████████| 225/225 [00:25<00:00,  8.86it/s]\n",
      "100%|██████████| 225/225 [00:14<00:00, 15.72it/s] \n"
     ]
    },
    {
     "name": "stdout",
     "output_type": "stream",
     "text": [
      "37 {'train_MAE': 280.8797422281901} {'test_MAE': 233.7019489542643}\n"
     ]
    },
    {
     "name": "stderr",
     "output_type": "stream",
     "text": [
      "100%|██████████| 225/225 [00:25<00:00,  8.90it/s]\n",
      "100%|██████████| 225/225 [00:13<00:00, 16.78it/s]\n"
     ]
    },
    {
     "name": "stdout",
     "output_type": "stream",
     "text": [
      "38 {'train_MAE': 317.8576113213433} {'test_MAE': 347.1805241902669}\n"
     ]
    },
    {
     "name": "stderr",
     "output_type": "stream",
     "text": [
      "100%|██████████| 225/225 [00:25<00:00,  8.95it/s]\n",
      "100%|██████████| 225/225 [00:13<00:00, 16.11it/s]\n"
     ]
    },
    {
     "name": "stdout",
     "output_type": "stream",
     "text": [
      "39 {'train_MAE': 284.1077346462674} {'test_MAE': 210.06633541531033}\n"
     ]
    },
    {
     "name": "stderr",
     "output_type": "stream",
     "text": [
      "100%|██████████| 225/225 [00:25<00:00,  8.95it/s]\n",
      "100%|██████████| 225/225 [00:14<00:00, 15.77it/s] \n"
     ]
    },
    {
     "name": "stdout",
     "output_type": "stream",
     "text": [
      "40 {'train_MAE': 277.90894100613065} {'test_MAE': 200.48914608425565}\n"
     ]
    },
    {
     "name": "stderr",
     "output_type": "stream",
     "text": [
      "100%|██████████| 225/225 [00:24<00:00,  9.00it/s]\n",
      "100%|██████████| 225/225 [00:14<00:00, 15.83it/s]\n"
     ]
    },
    {
     "name": "stdout",
     "output_type": "stream",
     "text": [
      "41 {'train_MAE': 284.7489400906033} {'test_MAE': 223.0327173529731}\n"
     ]
    },
    {
     "name": "stderr",
     "output_type": "stream",
     "text": [
      "100%|██████████| 225/225 [00:25<00:00,  8.83it/s]\n",
      "100%|██████████| 225/225 [00:14<00:00, 15.58it/s] \n"
     ]
    },
    {
     "name": "stdout",
     "output_type": "stream",
     "text": [
      "42 {'train_MAE': 290.5626956854926} {'test_MAE': 203.52756130642362}\n"
     ]
    },
    {
     "name": "stderr",
     "output_type": "stream",
     "text": [
      "100%|██████████| 225/225 [00:26<00:00,  8.64it/s]\n",
      "100%|██████████| 225/225 [00:13<00:00, 16.15it/s] \n"
     ]
    },
    {
     "name": "stdout",
     "output_type": "stream",
     "text": [
      "43 {'train_MAE': 307.18622331407335} {'test_MAE': 252.3339000108507}\n"
     ]
    },
    {
     "name": "stderr",
     "output_type": "stream",
     "text": [
      "100%|██████████| 225/225 [00:25<00:00,  8.66it/s]\n",
      "100%|██████████| 225/225 [00:13<00:00, 16.28it/s] \n"
     ]
    },
    {
     "name": "stdout",
     "output_type": "stream",
     "text": [
      "44 {'train_MAE': 285.8931240505642} {'test_MAE': 219.97893720838758}\n"
     ]
    },
    {
     "name": "stderr",
     "output_type": "stream",
     "text": [
      "100%|██████████| 225/225 [00:24<00:00,  9.08it/s]\n",
      "100%|██████████| 225/225 [00:14<00:00, 16.02it/s]\n"
     ]
    },
    {
     "name": "stdout",
     "output_type": "stream",
     "text": [
      "45 {'train_MAE': 289.10981502956815} {'test_MAE': 207.63427117241753}\n"
     ]
    },
    {
     "name": "stderr",
     "output_type": "stream",
     "text": [
      "100%|██████████| 225/225 [00:25<00:00,  8.77it/s]\n",
      "100%|██████████| 225/225 [00:13<00:00, 17.27it/s] \n"
     ]
    },
    {
     "name": "stdout",
     "output_type": "stream",
     "text": [
      "46 {'train_MAE': 271.35394982231986} {'test_MAE': 203.21662055121527}\n"
     ]
    },
    {
     "name": "stderr",
     "output_type": "stream",
     "text": [
      "100%|██████████| 225/225 [00:25<00:00,  8.81it/s]\n",
      "100%|██████████| 225/225 [00:13<00:00, 16.27it/s] \n"
     ]
    },
    {
     "name": "stdout",
     "output_type": "stream",
     "text": [
      "47 {'train_MAE': 302.18707875569663} {'test_MAE': 259.4832622612847}\n"
     ]
    },
    {
     "name": "stderr",
     "output_type": "stream",
     "text": [
      "100%|██████████| 225/225 [00:25<00:00,  8.88it/s]\n",
      "100%|██████████| 225/225 [00:13<00:00, 16.32it/s] \n"
     ]
    },
    {
     "name": "stdout",
     "output_type": "stream",
     "text": [
      "48 {'train_MAE': 316.08882568359377} {'test_MAE': 340.8963451809353}\n"
     ]
    },
    {
     "name": "stderr",
     "output_type": "stream",
     "text": [
      "100%|██████████| 225/225 [00:24<00:00,  9.04it/s]\n",
      "100%|██████████| 225/225 [00:14<00:00, 15.95it/s] \n"
     ]
    },
    {
     "name": "stdout",
     "output_type": "stream",
     "text": [
      "49 {'train_MAE': 300.4181499226888} {'test_MAE': 221.2637011379666}\n"
     ]
    },
    {
     "name": "stderr",
     "output_type": "stream",
     "text": [
      "100%|██████████| 225/225 [00:25<00:00,  8.87it/s]\n",
      "100%|██████████| 225/225 [00:13<00:00, 16.37it/s] \n"
     ]
    },
    {
     "name": "stdout",
     "output_type": "stream",
     "text": [
      "50 {'train_MAE': 275.92505520290797} {'test_MAE': 222.49572330050998}\n"
     ]
    },
    {
     "name": "stderr",
     "output_type": "stream",
     "text": [
      "100%|██████████| 225/225 [00:25<00:00,  8.86it/s]\n",
      "100%|██████████| 225/225 [00:13<00:00, 16.08it/s] \n"
     ]
    },
    {
     "name": "stdout",
     "output_type": "stream",
     "text": [
      "51 {'train_MAE': 298.7178366088867} {'test_MAE': 214.60465671115452}\n"
     ]
    },
    {
     "name": "stderr",
     "output_type": "stream",
     "text": [
      "100%|██████████| 225/225 [00:25<00:00,  8.93it/s]\n",
      "100%|██████████| 225/225 [00:13<00:00, 16.63it/s] \n"
     ]
    },
    {
     "name": "stdout",
     "output_type": "stream",
     "text": [
      "52 {'train_MAE': 278.6909752400716} {'test_MAE': 196.6785625881619}\n"
     ]
    },
    {
     "name": "stderr",
     "output_type": "stream",
     "text": [
      "100%|██████████| 225/225 [00:25<00:00,  8.92it/s]\n",
      "100%|██████████| 225/225 [00:13<00:00, 16.29it/s] \n"
     ]
    },
    {
     "name": "stdout",
     "output_type": "stream",
     "text": [
      "53 {'train_MAE': 278.20135586208767} {'test_MAE': 210.77910512288412}\n"
     ]
    },
    {
     "name": "stderr",
     "output_type": "stream",
     "text": [
      "100%|██████████| 225/225 [00:25<00:00,  8.94it/s]\n",
      "100%|██████████| 225/225 [00:14<00:00, 15.71it/s] \n"
     ]
    },
    {
     "name": "stdout",
     "output_type": "stream",
     "text": [
      "54 {'train_MAE': 280.3000519137912} {'test_MAE': 197.22637068006728}\n"
     ]
    },
    {
     "name": "stderr",
     "output_type": "stream",
     "text": [
      "100%|██████████| 225/225 [00:24<00:00,  9.11it/s]\n",
      "100%|██████████| 225/225 [00:14<00:00, 15.84it/s]\n"
     ]
    },
    {
     "name": "stdout",
     "output_type": "stream",
     "text": [
      "55 {'train_MAE': 271.76891462537975} {'test_MAE': 198.77767032199435}\n"
     ]
    },
    {
     "name": "stderr",
     "output_type": "stream",
     "text": [
      "100%|██████████| 225/225 [00:24<00:00,  9.04it/s]\n",
      "100%|██████████| 225/225 [00:14<00:00, 15.72it/s] \n"
     ]
    },
    {
     "name": "stdout",
     "output_type": "stream",
     "text": [
      "56 {'train_MAE': 317.22057067871094} {'test_MAE': 231.93814785427517}\n"
     ]
    },
    {
     "name": "stderr",
     "output_type": "stream",
     "text": [
      "100%|██████████| 225/225 [00:24<00:00,  9.03it/s]\n",
      "100%|██████████| 225/225 [00:14<00:00, 15.88it/s] \n"
     ]
    },
    {
     "name": "stdout",
     "output_type": "stream",
     "text": [
      "57 {'train_MAE': 278.30695288764105} {'test_MAE': 200.44143886990017}\n"
     ]
    },
    {
     "name": "stderr",
     "output_type": "stream",
     "text": [
      "100%|██████████| 225/225 [00:24<00:00,  9.02it/s]\n",
      "100%|██████████| 225/225 [00:14<00:00, 15.89it/s] \n"
     ]
    },
    {
     "name": "stdout",
     "output_type": "stream",
     "text": [
      "58 {'train_MAE': 294.02679609510636} {'test_MAE': 201.39539031982423}\n"
     ]
    },
    {
     "name": "stderr",
     "output_type": "stream",
     "text": [
      "100%|██████████| 225/225 [00:25<00:00,  8.96it/s]\n",
      "100%|██████████| 225/225 [00:13<00:00, 16.08it/s] \n"
     ]
    },
    {
     "name": "stdout",
     "output_type": "stream",
     "text": [
      "59 {'train_MAE': 306.518103773329} {'test_MAE': 225.73097042507595}\n"
     ]
    },
    {
     "name": "stderr",
     "output_type": "stream",
     "text": [
      "100%|██████████| 225/225 [00:25<00:00,  8.98it/s]\n",
      "100%|██████████| 225/225 [00:14<00:00, 15.81it/s] \n"
     ]
    },
    {
     "name": "stdout",
     "output_type": "stream",
     "text": [
      "60 {'train_MAE': 280.4470996432834} {'test_MAE': 199.00887647840713}\n"
     ]
    },
    {
     "name": "stderr",
     "output_type": "stream",
     "text": [
      "100%|██████████| 225/225 [00:25<00:00,  8.90it/s]\n",
      "100%|██████████| 225/225 [00:13<00:00, 16.07it/s] \n"
     ]
    },
    {
     "name": "stdout",
     "output_type": "stream",
     "text": [
      "61 {'train_MAE': 301.5739468383789} {'test_MAE': 208.29813303629558}\n"
     ]
    },
    {
     "name": "stderr",
     "output_type": "stream",
     "text": [
      "100%|██████████| 225/225 [00:24<00:00,  9.08it/s]\n",
      "100%|██████████| 225/225 [00:13<00:00, 16.27it/s] \n"
     ]
    },
    {
     "name": "stdout",
     "output_type": "stream",
     "text": [
      "62 {'train_MAE': 311.95487616644965} {'test_MAE': 383.32564710828996}\n"
     ]
    },
    {
     "name": "stderr",
     "output_type": "stream",
     "text": [
      "100%|██████████| 225/225 [00:25<00:00,  8.66it/s]\n",
      "100%|██████████| 225/225 [00:14<00:00, 15.84it/s] \n"
     ]
    },
    {
     "name": "stdout",
     "output_type": "stream",
     "text": [
      "63 {'train_MAE': 273.948157687717} {'test_MAE': 257.01770477294923}\n"
     ]
    },
    {
     "name": "stderr",
     "output_type": "stream",
     "text": [
      "100%|██████████| 225/225 [00:24<00:00,  9.04it/s]\n",
      "100%|██████████| 225/225 [00:13<00:00, 16.17it/s]\n"
     ]
    },
    {
     "name": "stdout",
     "output_type": "stream",
     "text": [
      "64 {'train_MAE': 272.32744062635635} {'test_MAE': 211.94688327365452}\n"
     ]
    },
    {
     "name": "stderr",
     "output_type": "stream",
     "text": [
      "100%|██████████| 225/225 [00:25<00:00,  8.79it/s]\n",
      "100%|██████████| 225/225 [00:13<00:00, 16.18it/s] \n"
     ]
    },
    {
     "name": "stdout",
     "output_type": "stream",
     "text": [
      "65 {'train_MAE': 299.8479568481445} {'test_MAE': 292.09742970784504}\n"
     ]
    },
    {
     "name": "stderr",
     "output_type": "stream",
     "text": [
      "100%|██████████| 225/225 [00:25<00:00,  8.86it/s]\n",
      "100%|██████████| 225/225 [00:14<00:00, 16.06it/s] \n"
     ]
    },
    {
     "name": "stdout",
     "output_type": "stream",
     "text": [
      "66 {'train_MAE': 295.35138926188154} {'test_MAE': 216.56211703830294}\n"
     ]
    },
    {
     "name": "stderr",
     "output_type": "stream",
     "text": [
      "100%|██████████| 225/225 [00:26<00:00,  8.63it/s]\n",
      "100%|██████████| 225/225 [00:14<00:00, 15.60it/s] \n"
     ]
    },
    {
     "name": "stdout",
     "output_type": "stream",
     "text": [
      "67 {'train_MAE': 302.81642452663846} {'test_MAE': 364.262562628852}\n"
     ]
    },
    {
     "name": "stderr",
     "output_type": "stream",
     "text": [
      "100%|██████████| 225/225 [00:25<00:00,  8.84it/s]\n",
      "100%|██████████| 225/225 [00:14<00:00, 15.67it/s] \n"
     ]
    },
    {
     "name": "stdout",
     "output_type": "stream",
     "text": [
      "68 {'train_MAE': 294.0737998453776} {'test_MAE': 224.7222479248047}\n"
     ]
    },
    {
     "name": "stderr",
     "output_type": "stream",
     "text": [
      "100%|██████████| 225/225 [00:24<00:00,  9.06it/s]\n",
      "100%|██████████| 225/225 [00:14<00:00, 15.73it/s] \n"
     ]
    },
    {
     "name": "stdout",
     "output_type": "stream",
     "text": [
      "69 {'train_MAE': 277.58795369466145} {'test_MAE': 219.25431087917752}\n"
     ]
    },
    {
     "name": "stderr",
     "output_type": "stream",
     "text": [
      "100%|██████████| 225/225 [00:25<00:00,  8.87it/s]\n",
      "100%|██████████| 225/225 [00:14<00:00, 16.03it/s]\n"
     ]
    },
    {
     "name": "stdout",
     "output_type": "stream",
     "text": [
      "70 {'train_MAE': 314.92255652533635} {'test_MAE': 373.90268669976126}\n"
     ]
    },
    {
     "name": "stderr",
     "output_type": "stream",
     "text": [
      "100%|██████████| 225/225 [00:24<00:00,  9.03it/s]\n",
      "100%|██████████| 225/225 [00:13<00:00, 16.57it/s] \n"
     ]
    },
    {
     "name": "stdout",
     "output_type": "stream",
     "text": [
      "71 {'train_MAE': 305.3325735812717} {'test_MAE': 284.4427411227756}\n"
     ]
    },
    {
     "name": "stderr",
     "output_type": "stream",
     "text": [
      "100%|██████████| 225/225 [00:24<00:00,  9.15it/s]\n",
      "100%|██████████| 225/225 [00:13<00:00, 16.17it/s] \n"
     ]
    },
    {
     "name": "stdout",
     "output_type": "stream",
     "text": [
      "72 {'train_MAE': 272.28545532226565} {'test_MAE': 205.32458567301433}\n"
     ]
    },
    {
     "name": "stderr",
     "output_type": "stream",
     "text": [
      "100%|██████████| 225/225 [00:25<00:00,  8.85it/s]\n",
      "100%|██████████| 225/225 [00:14<00:00, 15.55it/s] \n"
     ]
    },
    {
     "name": "stdout",
     "output_type": "stream",
     "text": [
      "73 {'train_MAE': 267.7525831434462} {'test_MAE': 242.12780398898656}\n"
     ]
    },
    {
     "name": "stderr",
     "output_type": "stream",
     "text": [
      "100%|██████████| 225/225 [00:25<00:00,  8.86it/s]\n",
      "100%|██████████| 225/225 [00:14<00:00, 15.83it/s] \n"
     ]
    },
    {
     "name": "stdout",
     "output_type": "stream",
     "text": [
      "74 {'train_MAE': 293.5881457519531} {'test_MAE': 198.48706678602431}\n"
     ]
    },
    {
     "name": "stderr",
     "output_type": "stream",
     "text": [
      "100%|██████████| 225/225 [00:25<00:00,  8.87it/s]\n",
      "100%|██████████| 225/225 [00:13<00:00, 16.52it/s] \n"
     ]
    },
    {
     "name": "stdout",
     "output_type": "stream",
     "text": [
      "75 {'train_MAE': 268.5878705851237} {'test_MAE': 217.67253865559897}\n"
     ]
    },
    {
     "name": "stderr",
     "output_type": "stream",
     "text": [
      "100%|██████████| 225/225 [00:24<00:00,  9.18it/s]\n",
      "100%|██████████| 225/225 [00:14<00:00, 15.71it/s]\n"
     ]
    },
    {
     "name": "stdout",
     "output_type": "stream",
     "text": [
      "76 {'train_MAE': 273.1373442247179} {'test_MAE': 207.74800733778213}\n"
     ]
    },
    {
     "name": "stderr",
     "output_type": "stream",
     "text": [
      "100%|██████████| 225/225 [00:25<00:00,  8.87it/s]\n",
      "100%|██████████| 225/225 [00:13<00:00, 16.25it/s] \n"
     ]
    },
    {
     "name": "stdout",
     "output_type": "stream",
     "text": [
      "77 {'train_MAE': 265.30153493245444} {'test_MAE': 198.79931949191624}\n"
     ]
    },
    {
     "name": "stderr",
     "output_type": "stream",
     "text": [
      "100%|██████████| 225/225 [00:25<00:00,  8.83it/s]\n",
      "100%|██████████| 225/225 [00:14<00:00, 15.39it/s] \n"
     ]
    },
    {
     "name": "stdout",
     "output_type": "stream",
     "text": [
      "78 {'train_MAE': 312.8660141330295} {'test_MAE': 340.47065107557506}\n"
     ]
    },
    {
     "name": "stderr",
     "output_type": "stream",
     "text": [
      "100%|██████████| 225/225 [00:25<00:00,  8.86it/s]\n",
      "100%|██████████| 225/225 [00:13<00:00, 16.77it/s] \n"
     ]
    },
    {
     "name": "stdout",
     "output_type": "stream",
     "text": [
      "79 {'train_MAE': 266.16280554877386} {'test_MAE': 218.24446953667535}\n"
     ]
    },
    {
     "name": "stderr",
     "output_type": "stream",
     "text": [
      "100%|██████████| 225/225 [00:24<00:00,  9.06it/s]\n",
      "100%|██████████| 225/225 [00:13<00:00, 16.21it/s] \n"
     ]
    },
    {
     "name": "stdout",
     "output_type": "stream",
     "text": [
      "80 {'train_MAE': 270.5297294447157} {'test_MAE': 198.1953372870551}\n"
     ]
    },
    {
     "name": "stderr",
     "output_type": "stream",
     "text": [
      "100%|██████████| 225/225 [00:24<00:00,  9.08it/s]\n",
      "100%|██████████| 225/225 [00:14<00:00, 15.56it/s] \n"
     ]
    },
    {
     "name": "stdout",
     "output_type": "stream",
     "text": [
      "81 {'train_MAE': 274.6236801147461} {'test_MAE': 211.13214881049262}\n"
     ]
    },
    {
     "name": "stderr",
     "output_type": "stream",
     "text": [
      "100%|██████████| 225/225 [00:24<00:00,  9.05it/s]\n",
      "100%|██████████| 225/225 [00:13<00:00, 16.15it/s] \n"
     ]
    },
    {
     "name": "stdout",
     "output_type": "stream",
     "text": [
      "82 {'train_MAE': 288.1907590399848} {'test_MAE': 200.37100036621095}\n"
     ]
    },
    {
     "name": "stderr",
     "output_type": "stream",
     "text": [
      "100%|██████████| 225/225 [00:25<00:00,  8.93it/s]\n",
      "100%|██████████| 225/225 [00:14<00:00, 15.73it/s]\n"
     ]
    },
    {
     "name": "stdout",
     "output_type": "stream",
     "text": [
      "83 {'train_MAE': 275.65390635172525} {'test_MAE': 200.9970127020942}\n"
     ]
    },
    {
     "name": "stderr",
     "output_type": "stream",
     "text": [
      "100%|██████████| 225/225 [00:25<00:00,  8.97it/s]\n",
      "100%|██████████| 225/225 [00:13<00:00, 16.89it/s] \n"
     ]
    },
    {
     "name": "stdout",
     "output_type": "stream",
     "text": [
      "84 {'train_MAE': 273.05305962456595} {'test_MAE': 201.54155673556858}\n"
     ]
    },
    {
     "name": "stderr",
     "output_type": "stream",
     "text": [
      "100%|██████████| 225/225 [00:25<00:00,  8.97it/s]\n",
      "100%|██████████| 225/225 [00:14<00:00, 15.50it/s] \n"
     ]
    },
    {
     "name": "stdout",
     "output_type": "stream",
     "text": [
      "85 {'train_MAE': 284.6399609035916} {'test_MAE': 269.3059218343099}\n"
     ]
    },
    {
     "name": "stderr",
     "output_type": "stream",
     "text": [
      "100%|██████████| 225/225 [00:25<00:00,  8.80it/s]\n",
      "100%|██████████| 225/225 [00:13<00:00, 16.48it/s]\n"
     ]
    },
    {
     "name": "stdout",
     "output_type": "stream",
     "text": [
      "86 {'train_MAE': 309.5705756971571} {'test_MAE': 358.7368037584093}\n"
     ]
    },
    {
     "name": "stderr",
     "output_type": "stream",
     "text": [
      "100%|██████████| 225/225 [00:25<00:00,  8.86it/s]\n",
      "100%|██████████| 225/225 [00:13<00:00, 16.66it/s]\n"
     ]
    },
    {
     "name": "stdout",
     "output_type": "stream",
     "text": [
      "87 {'train_MAE': 270.8382664320204} {'test_MAE': 198.44129977756077}\n"
     ]
    },
    {
     "name": "stderr",
     "output_type": "stream",
     "text": [
      "100%|██████████| 225/225 [00:25<00:00,  8.66it/s]\n",
      "100%|██████████| 225/225 [00:14<00:00, 15.17it/s] \n"
     ]
    },
    {
     "name": "stdout",
     "output_type": "stream",
     "text": [
      "88 {'train_MAE': 279.3189409722222} {'test_MAE': 199.3947605726454}\n"
     ]
    },
    {
     "name": "stderr",
     "output_type": "stream",
     "text": [
      "100%|██████████| 225/225 [00:25<00:00,  8.80it/s]\n",
      "100%|██████████| 225/225 [00:14<00:00, 15.40it/s] \n"
     ]
    },
    {
     "name": "stdout",
     "output_type": "stream",
     "text": [
      "89 {'train_MAE': 265.3221632215712} {'test_MAE': 208.30850419786242}\n"
     ]
    },
    {
     "name": "stderr",
     "output_type": "stream",
     "text": [
      "100%|██████████| 225/225 [00:25<00:00,  8.76it/s]\n",
      "100%|██████████| 225/225 [00:13<00:00, 16.17it/s]\n"
     ]
    },
    {
     "name": "stdout",
     "output_type": "stream",
     "text": [
      "90 {'train_MAE': 267.59227261013456} {'test_MAE': 204.21823822021486}\n"
     ]
    },
    {
     "name": "stderr",
     "output_type": "stream",
     "text": [
      "100%|██████████| 225/225 [00:24<00:00,  9.08it/s]\n",
      "100%|██████████| 225/225 [00:14<00:00, 15.82it/s] \n"
     ]
    },
    {
     "name": "stdout",
     "output_type": "stream",
     "text": [
      "91 {'train_MAE': 280.38624793158635} {'test_MAE': 201.49207526312935}\n"
     ]
    },
    {
     "name": "stderr",
     "output_type": "stream",
     "text": [
      "100%|██████████| 225/225 [00:25<00:00,  8.90it/s]\n",
      "100%|██████████| 225/225 [00:14<00:00, 16.06it/s] \n"
     ]
    },
    {
     "name": "stdout",
     "output_type": "stream",
     "text": [
      "92 {'train_MAE': 278.2813579305013} {'test_MAE': 201.61972635904948}\n"
     ]
    },
    {
     "name": "stderr",
     "output_type": "stream",
     "text": [
      "100%|██████████| 225/225 [00:25<00:00,  8.73it/s]\n",
      "100%|██████████| 225/225 [00:14<00:00, 16.05it/s] \n"
     ]
    },
    {
     "name": "stdout",
     "output_type": "stream",
     "text": [
      "93 {'train_MAE': 283.43547471788196} {'test_MAE': 215.14662770589192}\n"
     ]
    },
    {
     "name": "stderr",
     "output_type": "stream",
     "text": [
      "100%|██████████| 225/225 [00:25<00:00,  8.80it/s]\n",
      "100%|██████████| 225/225 [00:13<00:00, 16.17it/s] \n"
     ]
    },
    {
     "name": "stdout",
     "output_type": "stream",
     "text": [
      "94 {'train_MAE': 276.39903934054905} {'test_MAE': 212.02626502143013}\n"
     ]
    },
    {
     "name": "stderr",
     "output_type": "stream",
     "text": [
      "100%|██████████| 225/225 [00:25<00:00,  8.90it/s]\n",
      "100%|██████████| 225/225 [00:14<00:00, 15.83it/s] \n"
     ]
    },
    {
     "name": "stdout",
     "output_type": "stream",
     "text": [
      "95 {'train_MAE': 290.053404168023} {'test_MAE': 253.7192600165473}\n"
     ]
    },
    {
     "name": "stderr",
     "output_type": "stream",
     "text": [
      "100%|██████████| 225/225 [00:25<00:00,  8.80it/s]\n",
      "100%|██████████| 225/225 [00:13<00:00, 16.86it/s] \n"
     ]
    },
    {
     "name": "stdout",
     "output_type": "stream",
     "text": [
      "96 {'train_MAE': 267.898236456977} {'test_MAE': 216.1929232449002}\n"
     ]
    },
    {
     "name": "stderr",
     "output_type": "stream",
     "text": [
      "100%|██████████| 225/225 [00:25<00:00,  8.83it/s]\n",
      "100%|██████████| 225/225 [00:13<00:00, 16.52it/s]\n"
     ]
    },
    {
     "name": "stdout",
     "output_type": "stream",
     "text": [
      "97 {'train_MAE': 297.99747260199655} {'test_MAE': 221.4991197374132}\n"
     ]
    },
    {
     "name": "stderr",
     "output_type": "stream",
     "text": [
      "100%|██████████| 225/225 [00:24<00:00,  9.07it/s]\n",
      "100%|██████████| 225/225 [00:13<00:00, 16.28it/s] \n"
     ]
    },
    {
     "name": "stdout",
     "output_type": "stream",
     "text": [
      "98 {'train_MAE': 271.3532626003689} {'test_MAE': 203.8096442667643}\n"
     ]
    },
    {
     "name": "stderr",
     "output_type": "stream",
     "text": [
      "100%|██████████| 225/225 [00:24<00:00,  9.12it/s]\n",
      "100%|██████████| 225/225 [00:14<00:00, 15.83it/s] \n"
     ]
    },
    {
     "name": "stdout",
     "output_type": "stream",
     "text": [
      "99 {'train_MAE': 297.0006776936849} {'test_MAE': 200.14935248480901}\n"
     ]
    },
    {
     "name": "stderr",
     "output_type": "stream",
     "text": [
      "100%|██████████| 225/225 [00:25<00:00,  8.83it/s]\n",
      "100%|██████████| 225/225 [00:14<00:00, 15.28it/s] \n"
     ]
    },
    {
     "name": "stdout",
     "output_type": "stream",
     "text": [
      "100 {'train_MAE': 281.1434836154514} {'test_MAE': 197.58320675320095}\n"
     ]
    },
    {
     "name": "stderr",
     "output_type": "stream",
     "text": [
      "100%|██████████| 225/225 [00:25<00:00,  8.97it/s]\n",
      "100%|██████████| 225/225 [00:14<00:00, 15.95it/s]\n"
     ]
    },
    {
     "name": "stdout",
     "output_type": "stream",
     "text": [
      "101 {'train_MAE': 264.76240898980035} {'test_MAE': 199.4275954522027}\n"
     ]
    },
    {
     "name": "stderr",
     "output_type": "stream",
     "text": [
      "100%|██████████| 225/225 [00:25<00:00,  8.87it/s]\n",
      "100%|██████████| 225/225 [00:13<00:00, 16.28it/s] \n"
     ]
    },
    {
     "name": "stdout",
     "output_type": "stream",
     "text": [
      "102 {'train_MAE': 261.57378121270074} {'test_MAE': 199.90829471164278}\n"
     ]
    },
    {
     "name": "stderr",
     "output_type": "stream",
     "text": [
      "100%|██████████| 225/225 [00:25<00:00,  8.83it/s]\n",
      "100%|██████████| 225/225 [00:14<00:00, 15.79it/s]\n"
     ]
    },
    {
     "name": "stdout",
     "output_type": "stream",
     "text": [
      "103 {'train_MAE': 270.10451866997613} {'test_MAE': 211.57223276774087}\n"
     ]
    },
    {
     "name": "stderr",
     "output_type": "stream",
     "text": [
      "100%|██████████| 225/225 [00:25<00:00,  8.83it/s]\n",
      "100%|██████████| 225/225 [00:14<00:00, 15.61it/s] \n"
     ]
    },
    {
     "name": "stdout",
     "output_type": "stream",
     "text": [
      "104 {'train_MAE': 288.8960208808051} {'test_MAE': 206.41956427680122}\n"
     ]
    },
    {
     "name": "stderr",
     "output_type": "stream",
     "text": [
      "100%|██████████| 225/225 [00:24<00:00,  9.04it/s]\n",
      "100%|██████████| 225/225 [00:13<00:00, 17.01it/s] \n"
     ]
    },
    {
     "name": "stdout",
     "output_type": "stream",
     "text": [
      "105 {'train_MAE': 257.0113353474935} {'test_MAE': 229.71103068033855}\n"
     ]
    },
    {
     "name": "stderr",
     "output_type": "stream",
     "text": [
      "100%|██████████| 225/225 [00:25<00:00,  8.97it/s]\n",
      "100%|██████████| 225/225 [00:14<00:00, 15.40it/s]\n"
     ]
    },
    {
     "name": "stdout",
     "output_type": "stream",
     "text": [
      "106 {'train_MAE': 261.8078715684679} {'test_MAE': 198.18929996066623}\n"
     ]
    },
    {
     "name": "stderr",
     "output_type": "stream",
     "text": [
      "100%|██████████| 225/225 [00:25<00:00,  8.81it/s]\n",
      "100%|██████████| 225/225 [00:14<00:00, 15.79it/s]\n"
     ]
    },
    {
     "name": "stdout",
     "output_type": "stream",
     "text": [
      "107 {'train_MAE': 285.55171946207685} {'test_MAE': 200.40776340060765}\n"
     ]
    },
    {
     "name": "stderr",
     "output_type": "stream",
     "text": [
      "100%|██████████| 225/225 [00:25<00:00,  8.94it/s]\n",
      "100%|██████████| 225/225 [00:13<00:00, 17.02it/s] \n"
     ]
    },
    {
     "name": "stdout",
     "output_type": "stream",
     "text": [
      "108 {'train_MAE': 283.07551245795355} {'test_MAE': 200.93251705593534}\n"
     ]
    },
    {
     "name": "stderr",
     "output_type": "stream",
     "text": [
      "100%|██████████| 225/225 [00:25<00:00,  8.90it/s]\n",
      "100%|██████████| 225/225 [00:14<00:00, 15.95it/s] \n"
     ]
    },
    {
     "name": "stdout",
     "output_type": "stream",
     "text": [
      "109 {'train_MAE': 275.3559905158149} {'test_MAE': 207.41524149576824}\n"
     ]
    },
    {
     "name": "stderr",
     "output_type": "stream",
     "text": [
      "100%|██████████| 225/225 [00:25<00:00,  8.76it/s]\n",
      "100%|██████████| 225/225 [00:14<00:00, 15.50it/s]\n"
     ]
    },
    {
     "name": "stdout",
     "output_type": "stream",
     "text": [
      "110 {'train_MAE': 288.44283718532984} {'test_MAE': 210.36558834499783}\n"
     ]
    },
    {
     "name": "stderr",
     "output_type": "stream",
     "text": [
      "100%|██████████| 225/225 [00:25<00:00,  8.97it/s]\n",
      "100%|██████████| 225/225 [00:12<00:00, 17.51it/s] \n"
     ]
    },
    {
     "name": "stdout",
     "output_type": "stream",
     "text": [
      "111 {'train_MAE': 273.3517238023546} {'test_MAE': 200.84831420898436}\n"
     ]
    },
    {
     "name": "stderr",
     "output_type": "stream",
     "text": [
      "100%|██████████| 225/225 [00:25<00:00,  8.99it/s]\n",
      "100%|██████████| 225/225 [00:14<00:00, 15.98it/s] \n"
     ]
    },
    {
     "name": "stdout",
     "output_type": "stream",
     "text": [
      "112 {'train_MAE': 262.4740932210286} {'test_MAE': 196.5543127102322}\n"
     ]
    },
    {
     "name": "stderr",
     "output_type": "stream",
     "text": [
      "100%|██████████| 225/225 [00:25<00:00,  8.87it/s]\n",
      "100%|██████████| 225/225 [00:13<00:00, 16.52it/s] \n"
     ]
    },
    {
     "name": "stdout",
     "output_type": "stream",
     "text": [
      "113 {'train_MAE': 297.08361050075956} {'test_MAE': 228.79043884277343}\n"
     ]
    },
    {
     "name": "stderr",
     "output_type": "stream",
     "text": [
      "100%|██████████| 225/225 [00:25<00:00,  8.90it/s]\n",
      "100%|██████████| 225/225 [00:14<00:00, 15.59it/s] \n"
     ]
    },
    {
     "name": "stdout",
     "output_type": "stream",
     "text": [
      "114 {'train_MAE': 269.6635187784831} {'test_MAE': 202.42422878689237}\n"
     ]
    },
    {
     "name": "stderr",
     "output_type": "stream",
     "text": [
      "100%|██████████| 225/225 [00:25<00:00,  8.76it/s]\n",
      "100%|██████████| 225/225 [00:13<00:00, 16.89it/s] \n"
     ]
    },
    {
     "name": "stdout",
     "output_type": "stream",
     "text": [
      "115 {'train_MAE': 263.49725321451825} {'test_MAE': 200.72567643907334}\n"
     ]
    },
    {
     "name": "stderr",
     "output_type": "stream",
     "text": [
      "100%|██████████| 225/225 [00:25<00:00,  8.76it/s]\n",
      "100%|██████████| 225/225 [00:13<00:00, 16.91it/s] \n"
     ]
    },
    {
     "name": "stdout",
     "output_type": "stream",
     "text": [
      "116 {'train_MAE': 302.38351186116535} {'test_MAE': 223.45718132866753}\n"
     ]
    },
    {
     "name": "stderr",
     "output_type": "stream",
     "text": [
      "100%|██████████| 225/225 [00:25<00:00,  8.94it/s]\n",
      "100%|██████████| 225/225 [00:14<00:00, 15.94it/s] \n"
     ]
    },
    {
     "name": "stdout",
     "output_type": "stream",
     "text": [
      "117 {'train_MAE': 297.86043528238935} {'test_MAE': 217.15735802544486}\n"
     ]
    },
    {
     "name": "stderr",
     "output_type": "stream",
     "text": [
      "100%|██████████| 225/225 [00:25<00:00,  8.94it/s]\n",
      "100%|██████████| 225/225 [00:14<00:00, 15.92it/s]\n"
     ]
    },
    {
     "name": "stdout",
     "output_type": "stream",
     "text": [
      "118 {'train_MAE': 268.01881629096135} {'test_MAE': 199.44996673583984}\n"
     ]
    },
    {
     "name": "stderr",
     "output_type": "stream",
     "text": [
      "100%|██████████| 225/225 [00:25<00:00,  8.86it/s]\n",
      "100%|██████████| 225/225 [00:14<00:00, 15.51it/s] \n"
     ]
    },
    {
     "name": "stdout",
     "output_type": "stream",
     "text": [
      "119 {'train_MAE': 259.7237420654297} {'test_MAE': 219.48214982774522}\n"
     ]
    },
    {
     "name": "stderr",
     "output_type": "stream",
     "text": [
      "100%|██████████| 225/225 [00:25<00:00,  8.97it/s]\n",
      "100%|██████████| 225/225 [00:13<00:00, 16.49it/s] \n"
     ]
    },
    {
     "name": "stdout",
     "output_type": "stream",
     "text": [
      "120 {'train_MAE': 282.8946702745226} {'test_MAE': 201.30245012071398}\n"
     ]
    },
    {
     "name": "stderr",
     "output_type": "stream",
     "text": [
      "100%|██████████| 225/225 [00:24<00:00,  9.02it/s]\n",
      "100%|██████████| 225/225 [00:13<00:00, 16.39it/s] \n"
     ]
    },
    {
     "name": "stdout",
     "output_type": "stream",
     "text": [
      "121 {'train_MAE': 250.00180909898546} {'test_MAE': 219.03086917453342}\n"
     ]
    },
    {
     "name": "stderr",
     "output_type": "stream",
     "text": [
      "100%|██████████| 225/225 [00:25<00:00,  8.69it/s]\n",
      "100%|██████████| 225/225 [00:14<00:00, 15.58it/s] \n"
     ]
    },
    {
     "name": "stdout",
     "output_type": "stream",
     "text": [
      "122 {'train_MAE': 257.81803127712675} {'test_MAE': 206.2573614501953}\n"
     ]
    },
    {
     "name": "stderr",
     "output_type": "stream",
     "text": [
      "100%|██████████| 225/225 [00:25<00:00,  8.97it/s]\n",
      "100%|██████████| 225/225 [00:13<00:00, 16.52it/s] \n"
     ]
    },
    {
     "name": "stdout",
     "output_type": "stream",
     "text": [
      "123 {'train_MAE': 297.33383880615236} {'test_MAE': 262.9289310370551}\n"
     ]
    },
    {
     "name": "stderr",
     "output_type": "stream",
     "text": [
      "100%|██████████| 225/225 [00:24<00:00,  9.01it/s]\n",
      "100%|██████████| 225/225 [00:14<00:00, 15.39it/s] \n"
     ]
    },
    {
     "name": "stdout",
     "output_type": "stream",
     "text": [
      "124 {'train_MAE': 265.57005654229056} {'test_MAE': 198.26342702229817}\n"
     ]
    },
    {
     "name": "stderr",
     "output_type": "stream",
     "text": [
      "100%|██████████| 225/225 [00:26<00:00,  8.63it/s]\n",
      "100%|██████████| 225/225 [00:13<00:00, 16.50it/s] \n"
     ]
    },
    {
     "name": "stdout",
     "output_type": "stream",
     "text": [
      "125 {'train_MAE': 288.09320844862197} {'test_MAE': 212.8216801622179}\n"
     ]
    },
    {
     "name": "stderr",
     "output_type": "stream",
     "text": [
      "100%|██████████| 225/225 [00:25<00:00,  8.83it/s]\n",
      "100%|██████████| 225/225 [00:13<00:00, 16.25it/s] \n"
     ]
    },
    {
     "name": "stdout",
     "output_type": "stream",
     "text": [
      "126 {'train_MAE': 263.6280859375} {'test_MAE': 205.17627065022788}\n"
     ]
    },
    {
     "name": "stderr",
     "output_type": "stream",
     "text": [
      "100%|██████████| 225/225 [00:26<00:00,  8.62it/s]\n",
      "100%|██████████| 225/225 [00:14<00:00, 15.95it/s]\n"
     ]
    },
    {
     "name": "stdout",
     "output_type": "stream",
     "text": [
      "127 {'train_MAE': 273.38031124538844} {'test_MAE': 220.86758783976236}\n"
     ]
    },
    {
     "name": "stderr",
     "output_type": "stream",
     "text": [
      "100%|██████████| 225/225 [00:25<00:00,  8.90it/s]\n",
      "100%|██████████| 225/225 [00:14<00:00, 15.81it/s] \n"
     ]
    },
    {
     "name": "stdout",
     "output_type": "stream",
     "text": [
      "128 {'train_MAE': 256.2297753567166} {'test_MAE': 211.90069458007812}\n"
     ]
    },
    {
     "name": "stderr",
     "output_type": "stream",
     "text": [
      "100%|██████████| 225/225 [00:25<00:00,  8.90it/s]\n",
      "100%|██████████| 225/225 [00:14<00:00, 15.19it/s] \n"
     ]
    },
    {
     "name": "stdout",
     "output_type": "stream",
     "text": [
      "129 {'train_MAE': 294.10393897162544} {'test_MAE': 216.53144409179689}\n"
     ]
    },
    {
     "name": "stderr",
     "output_type": "stream",
     "text": [
      "100%|██████████| 225/225 [00:25<00:00,  8.97it/s]\n",
      "100%|██████████| 225/225 [00:13<00:00, 16.90it/s] \n"
     ]
    },
    {
     "name": "stdout",
     "output_type": "stream",
     "text": [
      "130 {'train_MAE': 276.2338230726454} {'test_MAE': 198.23090308295355}\n"
     ]
    },
    {
     "name": "stderr",
     "output_type": "stream",
     "text": [
      "100%|██████████| 225/225 [00:25<00:00,  8.95it/s]\n",
      "100%|██████████| 225/225 [00:13<00:00, 16.84it/s] \n"
     ]
    },
    {
     "name": "stdout",
     "output_type": "stream",
     "text": [
      "131 {'train_MAE': 258.7536350165473} {'test_MAE': 219.45304173787434}\n"
     ]
    },
    {
     "name": "stderr",
     "output_type": "stream",
     "text": [
      "100%|██████████| 225/225 [00:25<00:00,  8.90it/s]\n",
      "100%|██████████| 225/225 [00:14<00:00, 16.06it/s]\n"
     ]
    },
    {
     "name": "stdout",
     "output_type": "stream",
     "text": [
      "132 {'train_MAE': 302.7723286268446} {'test_MAE': 313.3778260464139}\n"
     ]
    },
    {
     "name": "stderr",
     "output_type": "stream",
     "text": [
      "100%|██████████| 225/225 [00:25<00:00,  8.86it/s]\n",
      "100%|██████████| 225/225 [00:13<00:00, 16.17it/s] \n"
     ]
    },
    {
     "name": "stdout",
     "output_type": "stream",
     "text": [
      "133 {'train_MAE': 281.19148667229547} {'test_MAE': 252.51919521755642}\n"
     ]
    },
    {
     "name": "stderr",
     "output_type": "stream",
     "text": [
      "100%|██████████| 225/225 [00:25<00:00,  8.86it/s]\n",
      "100%|██████████| 225/225 [00:14<00:00, 15.84it/s]\n"
     ]
    },
    {
     "name": "stdout",
     "output_type": "stream",
     "text": [
      "134 {'train_MAE': 276.8020366753472} {'test_MAE': 197.79822987874348}\n"
     ]
    },
    {
     "name": "stderr",
     "output_type": "stream",
     "text": [
      "100%|██████████| 225/225 [00:25<00:00,  8.97it/s]\n",
      "100%|██████████| 225/225 [00:13<00:00, 16.89it/s]\n"
     ]
    },
    {
     "name": "stdout",
     "output_type": "stream",
     "text": [
      "135 {'train_MAE': 269.3367320421007} {'test_MAE': 204.3418617078993}\n"
     ]
    },
    {
     "name": "stderr",
     "output_type": "stream",
     "text": [
      "100%|██████████| 225/225 [00:25<00:00,  8.87it/s]\n",
      "100%|██████████| 225/225 [00:13<00:00, 16.51it/s] \n"
     ]
    },
    {
     "name": "stdout",
     "output_type": "stream",
     "text": [
      "136 {'train_MAE': 295.78884575737845} {'test_MAE': 294.7175379096137}\n"
     ]
    },
    {
     "name": "stderr",
     "output_type": "stream",
     "text": [
      "100%|██████████| 225/225 [00:25<00:00,  9.00it/s]\n",
      "100%|██████████| 225/225 [00:13<00:00, 16.19it/s] \n"
     ]
    },
    {
     "name": "stdout",
     "output_type": "stream",
     "text": [
      "137 {'train_MAE': 272.31314980400936} {'test_MAE': 203.75600697835287}\n"
     ]
    },
    {
     "name": "stderr",
     "output_type": "stream",
     "text": [
      "100%|██████████| 225/225 [00:24<00:00,  9.00it/s]\n",
      "100%|██████████| 225/225 [00:13<00:00, 16.66it/s] \n"
     ]
    },
    {
     "name": "stdout",
     "output_type": "stream",
     "text": [
      "138 {'train_MAE': 276.6668099127875} {'test_MAE': 283.1207022942437}\n"
     ]
    },
    {
     "name": "stderr",
     "output_type": "stream",
     "text": [
      "100%|██████████| 225/225 [00:24<00:00,  9.07it/s]\n",
      "100%|██████████| 225/225 [00:13<00:00, 16.27it/s] \n"
     ]
    },
    {
     "name": "stdout",
     "output_type": "stream",
     "text": [
      "139 {'train_MAE': 291.5360624525282} {'test_MAE': 201.60333965725368}\n"
     ]
    },
    {
     "name": "stderr",
     "output_type": "stream",
     "text": [
      "100%|██████████| 225/225 [00:25<00:00,  8.73it/s]\n",
      "100%|██████████| 225/225 [00:14<00:00, 15.83it/s]\n"
     ]
    },
    {
     "name": "stdout",
     "output_type": "stream",
     "text": [
      "140 {'train_MAE': 280.4484900580512} {'test_MAE': 197.06269066704644}\n"
     ]
    },
    {
     "name": "stderr",
     "output_type": "stream",
     "text": [
      "100%|██████████| 225/225 [00:25<00:00,  8.76it/s]\n",
      "100%|██████████| 225/225 [00:13<00:00, 16.78it/s] \n"
     ]
    },
    {
     "name": "stdout",
     "output_type": "stream",
     "text": [
      "141 {'train_MAE': 264.72023885091147} {'test_MAE': 197.26806611802843}\n"
     ]
    },
    {
     "name": "stderr",
     "output_type": "stream",
     "text": [
      " 11%|█         | 24/225 [00:04<00:34,  5.82it/s]IOPub message rate exceeded.\n",
      "The notebook server will temporarily stop sending output\n",
      "to the client in order to avoid crashing it.\n",
      "To change this limit, set the config variable\n",
      "`--NotebookApp.iopub_msg_rate_limit`.\n",
      "\n",
      "Current values:\n",
      "NotebookApp.iopub_msg_rate_limit=1000.0 (msgs/sec)\n",
      "NotebookApp.rate_limit_window=3.0 (secs)\n",
      "\n",
      "100%|██████████| 225/225 [00:24<00:00,  9.08it/s]\n",
      "100%|██████████| 225/225 [00:14<00:00, 16.04it/s] \n"
     ]
    },
    {
     "name": "stdout",
     "output_type": "stream",
     "text": [
      "186 {'train_MAE': 261.2826957872179} {'test_MAE': 226.17927100287542}\n"
     ]
    },
    {
     "name": "stderr",
     "output_type": "stream",
     "text": [
      "100%|██████████| 225/225 [00:25<00:00,  8.83it/s]\n",
      "100%|██████████| 225/225 [00:14<00:00, 15.19it/s] \n"
     ]
    },
    {
     "name": "stdout",
     "output_type": "stream",
     "text": [
      "187 {'train_MAE': 286.1049081759983} {'test_MAE': 284.28769460042315}\n"
     ]
    },
    {
     "name": "stderr",
     "output_type": "stream",
     "text": [
      "100%|██████████| 225/225 [00:25<00:00,  8.86it/s]\n",
      "100%|██████████| 225/225 [00:13<00:00, 16.18it/s] \n"
     ]
    },
    {
     "name": "stdout",
     "output_type": "stream",
     "text": [
      "188 {'train_MAE': 270.9381395975749} {'test_MAE': 195.79010711669923}\n"
     ]
    },
    {
     "name": "stderr",
     "output_type": "stream",
     "text": [
      "100%|██████████| 225/225 [00:25<00:00,  8.83it/s]\n",
      "100%|██████████| 225/225 [00:14<00:00, 15.82it/s] \n"
     ]
    },
    {
     "name": "stdout",
     "output_type": "stream",
     "text": [
      "189 {'train_MAE': 272.5763627794054} {'test_MAE': 200.40728680080838}\n"
     ]
    },
    {
     "name": "stderr",
     "output_type": "stream",
     "text": [
      "100%|██████████| 225/225 [00:24<00:00,  9.05it/s]\n",
      "100%|██████████| 225/225 [00:13<00:00, 16.13it/s] \n"
     ]
    },
    {
     "name": "stdout",
     "output_type": "stream",
     "text": [
      "190 {'train_MAE': 263.10090547349716} {'test_MAE': 202.66024944729276}\n"
     ]
    },
    {
     "name": "stderr",
     "output_type": "stream",
     "text": [
      "100%|██████████| 225/225 [00:25<00:00,  8.73it/s]\n",
      "100%|██████████| 225/225 [00:13<00:00, 17.27it/s] \n"
     ]
    },
    {
     "name": "stdout",
     "output_type": "stream",
     "text": [
      "191 {'train_MAE': 288.93268091837564} {'test_MAE': 299.4064279683431}\n"
     ]
    },
    {
     "name": "stderr",
     "output_type": "stream",
     "text": [
      "100%|██████████| 225/225 [00:24<00:00,  9.12it/s]\n",
      "100%|██████████| 225/225 [00:14<00:00, 15.82it/s] \n"
     ]
    },
    {
     "name": "stdout",
     "output_type": "stream",
     "text": [
      "192 {'train_MAE': 257.4378934902615} {'test_MAE': 206.2794294060601}\n"
     ]
    },
    {
     "name": "stderr",
     "output_type": "stream",
     "text": [
      "100%|██████████| 225/225 [00:25<00:00,  8.76it/s]\n",
      "100%|██████████| 225/225 [00:13<00:00, 16.77it/s] \n"
     ]
    },
    {
     "name": "stdout",
     "output_type": "stream",
     "text": [
      "193 {'train_MAE': 264.70812494913736} {'test_MAE': 205.23478931003146}\n"
     ]
    },
    {
     "name": "stderr",
     "output_type": "stream",
     "text": [
      "100%|██████████| 225/225 [00:25<00:00,  8.87it/s]\n",
      "100%|██████████| 225/225 [00:13<00:00, 16.17it/s] \n"
     ]
    },
    {
     "name": "stdout",
     "output_type": "stream",
     "text": [
      "194 {'train_MAE': 279.39620532565647} {'test_MAE': 204.4604758199056}\n"
     ]
    },
    {
     "name": "stderr",
     "output_type": "stream",
     "text": [
      "100%|██████████| 225/225 [00:25<00:00,  8.97it/s]\n",
      "100%|██████████| 225/225 [00:14<00:00, 15.61it/s]\n"
     ]
    },
    {
     "name": "stdout",
     "output_type": "stream",
     "text": [
      "195 {'train_MAE': 260.983843299018} {'test_MAE': 195.6820169236925}\n"
     ]
    },
    {
     "name": "stderr",
     "output_type": "stream",
     "text": [
      "100%|██████████| 225/225 [00:25<00:00,  8.82it/s]\n",
      "100%|██████████| 225/225 [00:12<00:00, 17.46it/s]\n"
     ]
    },
    {
     "name": "stdout",
     "output_type": "stream",
     "text": [
      "196 {'train_MAE': 323.66776809692385} {'test_MAE': 216.79281533135307}\n"
     ]
    },
    {
     "name": "stderr",
     "output_type": "stream",
     "text": [
      "100%|██████████| 225/225 [00:25<00:00,  8.70it/s]\n",
      "100%|██████████| 225/225 [00:13<00:00, 16.17it/s] \n"
     ]
    },
    {
     "name": "stdout",
     "output_type": "stream",
     "text": [
      "197 {'train_MAE': 306.85791870117185} {'test_MAE': 199.36454530504014}\n"
     ]
    },
    {
     "name": "stderr",
     "output_type": "stream",
     "text": [
      "100%|██████████| 225/225 [00:24<00:00,  9.16it/s]\n",
      "100%|██████████| 225/225 [00:13<00:00, 16.40it/s] \n"
     ]
    },
    {
     "name": "stdout",
     "output_type": "stream",
     "text": [
      "198 {'train_MAE': 261.31643498738606} {'test_MAE': 197.58060406155056}\n"
     ]
    },
    {
     "name": "stderr",
     "output_type": "stream",
     "text": [
      " 76%|███████▌  | 170/225 [00:23<00:05, 10.48it/s]IOPub message rate exceeded.\n",
      "The notebook server will temporarily stop sending output\n",
      "to the client in order to avoid crashing it.\n",
      "To change this limit, set the config variable\n",
      "`--NotebookApp.iopub_msg_rate_limit`.\n",
      "\n",
      "Current values:\n",
      "NotebookApp.iopub_msg_rate_limit=1000.0 (msgs/sec)\n",
      "NotebookApp.rate_limit_window=3.0 (secs)\n",
      "\n"
     ]
    }
   ],
   "source": [
    "wdr7.train()\n",
    "for epoch in range(num_epochs):\n",
    "    losses = []\n",
    "    overall_loss, loss_test = 0, 0\n",
    "    \n",
    "    for i in tqdm(range(len(batch_list))):\n",
    "        indices = np.array([batch_list[i][j][2] for j in range(len(batch_list[i]))])\n",
    "        indices = np.array(list(set(indices) - train_mask))\n",
    "        if len(indices) == 0:\n",
    "            continue\n",
    "        trainX = Variable(torch.Tensor(np.array([batch_list[i][j][0] for j in range(len(batch_list[i])) if batch_list[i][j][2] in indices])), requires_grad=True).to(device)\n",
    "        trainY = Variable(torch.Tensor(np.array([batch_list[i][j][1] for j in range(len(batch_list[i])) if batch_list[i][j][2] in indices])), requires_grad=True).to(device)\n",
    "        outputs = wdr7(x = trainX, deep_input = deep_input, wide_input = wide_input, indices = indices)\n",
    "        optimizer.zero_grad()\n",
    "#        print(torch.autograd.grad(outputs=outputs[0], inputs=wo, retain_graph=True)[0][0])\n",
    "        # obtain the loss function\n",
    "        loss = criterion(outputs, trainY.unsqueeze(-1))\n",
    "        loss.backward(retain_graph=True)\n",
    "        optimizer.step()\n",
    "        losses.append(loss.item()/trainX.shape[0])\n",
    "        overall_loss += loss.item()\n",
    "    \n",
    "    for i in tqdm(range(len(batch_list))):\n",
    "        indices = np.array([batch_list[i][j][2] for j in range(len(batch_list[i]))])\n",
    "        indices = np.array(list(set(indices) - test_mask))\n",
    "        if len(indices) == 0:\n",
    "            continue\n",
    "        testX = Variable(torch.Tensor(np.array([batch_list[i][j][0] for j in range(len(batch_list[i])) if batch_list[i][j][2] in indices])), requires_grad=True).to(device)\n",
    "        testY = Variable(torch.Tensor(np.array([batch_list[i][j][1] for j in range(len(batch_list[i])) if batch_list[i][j][2] in indices])), requires_grad=True).to(device)\n",
    "        outputs = wdr7(x = testX, deep_input = deep_input, wide_input = wide_input, indices = indices)\n",
    "        loss = criterion(outputs, testY.unsqueeze(-1))\n",
    "        loss_test += loss.item()\n",
    "        \n",
    "    print(epoch, {\"train_MAE\": overall_loss/len(batch_list)}, {\"test_MAE\": loss_test/len(batch_list)})\n",
    "    wandb.log({\"train_MAE\":  overall_loss/len(batch_list),\n",
    "              \"test_MAE\": loss_test/len(batch_list)})"
   ]
  }
 ],
 "metadata": {
  "kernelspec": {
   "display_name": "Python 3 (ipykernel)",
   "language": "python",
   "name": "python3"
  },
  "language_info": {
   "codemirror_mode": {
    "name": "ipython",
    "version": 3
   },
   "file_extension": ".py",
   "mimetype": "text/x-python",
   "name": "python",
   "nbconvert_exporter": "python",
   "pygments_lexer": "ipython3",
   "version": "3.7.10"
  }
 },
 "nbformat": 4,
 "nbformat_minor": 5
}
