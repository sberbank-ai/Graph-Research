{
 "cells": [
  {
   "cell_type": "code",
   "execution_count": 1,
   "id": "123b1eaf",
   "metadata": {
    "collapsed": true
   },
   "outputs": [
    {
     "name": "stdout",
     "output_type": "stream",
     "text": [
      "Requirement already satisfied: wandb in /home/user/conda/lib/python3.7/site-packages (0.12.5)\n",
      "Collecting wandb\n",
      "  Using cached wandb-0.12.5-py2.py3-none-any.whl (1.7 MB)\n",
      "  Downloading wandb-0.12.4-py2.py3-none-any.whl (1.7 MB)\n",
      "\u001b[K     |████████████████████████████████| 1.7 MB 1.3 MB/s eta 0:00:01\n",
      "\u001b[?25hRequirement already satisfied: yaspin>=1.0.0 in /home/user/conda/lib/python3.7/site-packages (from wandb) (2.1.0)\n",
      "Requirement already satisfied: docker-pycreds>=0.4.0 in /home/user/conda/lib/python3.7/site-packages (from wandb) (0.4.0)\n",
      "Requirement already satisfied: PyYAML in /home/user/conda/lib/python3.7/site-packages (from wandb) (5.4.1)\n",
      "Requirement already satisfied: pathtools in /home/user/conda/lib/python3.7/site-packages (from wandb) (0.1.2)\n",
      "Requirement already satisfied: six>=1.13.0 in /home/user/conda/lib/python3.7/site-packages (from wandb) (1.16.0)\n",
      "Requirement already satisfied: requests<3,>=2.0.0 in /home/user/conda/lib/python3.7/site-packages (from wandb) (2.26.0)\n",
      "Requirement already satisfied: Click!=8.0.0,>=7.0 in /home/user/conda/lib/python3.7/site-packages (from wandb) (7.1.2)\n",
      "Requirement already satisfied: protobuf>=3.12.0 in /home/user/conda/lib/python3.7/site-packages (from wandb) (3.17.3)\n",
      "Requirement already satisfied: subprocess32>=3.5.3 in /home/user/conda/lib/python3.7/site-packages (from wandb) (3.5.4)\n",
      "Requirement already satisfied: GitPython>=1.0.0 in /home/user/conda/lib/python3.7/site-packages (from wandb) (3.1.18)\n",
      "Requirement already satisfied: promise<3,>=2.0 in /home/user/conda/lib/python3.7/site-packages (from wandb) (2.3)\n",
      "Requirement already satisfied: configparser>=3.8.1 in /home/user/conda/lib/python3.7/site-packages (from wandb) (5.0.2)\n",
      "Requirement already satisfied: shortuuid>=0.5.0 in /home/user/conda/lib/python3.7/site-packages (from wandb) (1.0.1)\n",
      "Requirement already satisfied: python-dateutil>=2.6.1 in /home/user/conda/lib/python3.7/site-packages (from wandb) (2.8.1)\n",
      "Requirement already satisfied: sentry-sdk>=1.0.0 in /home/user/conda/lib/python3.7/site-packages (from wandb) (1.4.3)\n",
      "Requirement already satisfied: psutil>=5.0.0 in /home/user/conda/lib/python3.7/site-packages (from wandb) (5.8.0)\n",
      "Requirement already satisfied: gitdb<5,>=4.0.1 in /home/user/conda/lib/python3.7/site-packages (from GitPython>=1.0.0->wandb) (4.0.7)\n",
      "Requirement already satisfied: typing-extensions>=3.7.4.0 in /home/user/conda/lib/python3.7/site-packages (from GitPython>=1.0.0->wandb) (3.10.0.0)\n",
      "Requirement already satisfied: smmap<5,>=3.0.1 in /home/user/conda/lib/python3.7/site-packages (from gitdb<5,>=4.0.1->GitPython>=1.0.0->wandb) (4.0.0)\n",
      "Requirement already satisfied: certifi>=2017.4.17 in /home/user/conda/lib/python3.7/site-packages (from requests<3,>=2.0.0->wandb) (2021.5.30)\n",
      "Requirement already satisfied: charset-normalizer~=2.0.0 in /home/user/conda/lib/python3.7/site-packages (from requests<3,>=2.0.0->wandb) (2.0.3)\n",
      "Requirement already satisfied: idna<4,>=2.5 in /home/user/conda/lib/python3.7/site-packages (from requests<3,>=2.0.0->wandb) (3.2)\n",
      "Requirement already satisfied: urllib3<1.27,>=1.21.1 in /home/user/conda/lib/python3.7/site-packages (from requests<3,>=2.0.0->wandb) (1.26.6)\n",
      "Requirement already satisfied: termcolor<2.0.0,>=1.1.0 in /home/jovyan/.local/lib/python3.7/site-packages (from yaspin>=1.0.0->wandb) (1.1.0)\n",
      "\u001b[33mWARNING: You are using pip version 20.3.4; however, version 21.3 is available.\n",
      "You should consider upgrading via the '/home/user/conda/bin/python3.7 -m pip install --upgrade pip' command.\u001b[0m\n"
     ]
    }
   ],
   "source": [
    "!pip install wandb"
   ]
  },
  {
   "cell_type": "code",
   "execution_count": null,
   "id": "b375879b",
   "metadata": {},
   "outputs": [],
   "source": [
    "!pip install torchvision==0.6.0"
   ]
  },
  {
   "cell_type": "code",
   "execution_count": 156,
   "id": "ffdead67",
   "metadata": {},
   "outputs": [],
   "source": [
    "import pandas as pd\n",
    "pd.set_option(\"display.max_columns\", None)\n",
    "import numpy as np\n",
    "from tqdm import tqdm\n",
    "\n",
    "import torch\n",
    "import torch.nn.functional as F\n",
    "import torch.nn as nn\n",
    "from torch.autograd import Variable\n",
    "\n",
    "from torch_geometric.nn import Node2Vec\n",
    "from torch_geometric.data import Data\n",
    "\n",
    "import networkx as nx\n",
    "\n",
    "from sklearn.metrics import mean_absolute_error\n",
    "from sklearn.metrics import mean_squared_error\n",
    "from sklearn.metrics import mean_absolute_percentage_error\n",
    "from sklearn.manifold import TSNE\n",
    "\n",
    "from scipy.spatial import distance\n",
    "\n",
    "import matplotlib.pyplot as plt\n",
    "\n",
    "import wandb "
   ]
  },
  {
   "cell_type": "code",
   "execution_count": 46,
   "id": "125dd9e9",
   "metadata": {
    "collapsed": true
   },
   "outputs": [
    {
     "data": {
      "text/html": [
       "<div>\n",
       "<style scoped>\n",
       "    .dataframe tbody tr th:only-of-type {\n",
       "        vertical-align: middle;\n",
       "    }\n",
       "\n",
       "    .dataframe tbody tr th {\n",
       "        vertical-align: top;\n",
       "    }\n",
       "\n",
       "    .dataframe thead th {\n",
       "        text-align: right;\n",
       "    }\n",
       "</style>\n",
       "<table border=\"1\" class=\"dataframe\">\n",
       "  <thead>\n",
       "    <tr style=\"text-align: right;\">\n",
       "      <th></th>\n",
       "      <th>ts</th>\n",
       "      <th>version</th>\n",
       "      <th>year_month</th>\n",
       "      <th>edge_id</th>\n",
       "      <th>fiji_id</th>\n",
       "      <th>seg_begin</th>\n",
       "      <th>seg_end</th>\n",
       "      <th>tile_from</th>\n",
       "      <th>tile_to</th>\n",
       "      <th>node_from</th>\n",
       "      <th>node_to</th>\n",
       "      <th>length</th>\n",
       "      <th>width</th>\n",
       "      <th>azimuth_begin</th>\n",
       "      <th>azimuth_end</th>\n",
       "      <th>road_class</th>\n",
       "      <th>sm_class</th>\n",
       "      <th>rm_car_class</th>\n",
       "      <th>rm_car_speed</th>\n",
       "      <th>type</th>\n",
       "      <th>light_begin</th>\n",
       "      <th>light_end</th>\n",
       "      <th>zlevel_from</th>\n",
       "      <th>zlevel_to</th>\n",
       "      <th>turn_to</th>\n",
       "      <th>payments_flags</th>\n",
       "      <th>is_city_edge</th>\n",
       "      <th>barrier</th>\n",
       "      <th>turn_restrictions</th>\n",
       "      <th>quartal_id</th>\n",
       "      <th>truck_zone_id</th>\n",
       "      <th>traverse</th>\n",
       "      <th>passability</th>\n",
       "      <th>pedo_offset</th>\n",
       "      <th>bad_road</th>\n",
       "      <th>alt_road</th>\n",
       "      <th>style</th>\n",
       "      <th>lanes</th>\n",
       "      <th>def_speed</th>\n",
       "      <th>road_exit</th>\n",
       "      <th>street</th>\n",
       "      <th>geom</th>\n",
       "      <th>sign_segment_begin</th>\n",
       "      <th>sign_segment_end</th>\n",
       "    </tr>\n",
       "    <tr>\n",
       "      <th>city</th>\n",
       "      <th></th>\n",
       "      <th></th>\n",
       "      <th></th>\n",
       "      <th></th>\n",
       "      <th></th>\n",
       "      <th></th>\n",
       "      <th></th>\n",
       "      <th></th>\n",
       "      <th></th>\n",
       "      <th></th>\n",
       "      <th></th>\n",
       "      <th></th>\n",
       "      <th></th>\n",
       "      <th></th>\n",
       "      <th></th>\n",
       "      <th></th>\n",
       "      <th></th>\n",
       "      <th></th>\n",
       "      <th></th>\n",
       "      <th></th>\n",
       "      <th></th>\n",
       "      <th></th>\n",
       "      <th></th>\n",
       "      <th></th>\n",
       "      <th></th>\n",
       "      <th></th>\n",
       "      <th></th>\n",
       "      <th></th>\n",
       "      <th></th>\n",
       "      <th></th>\n",
       "      <th></th>\n",
       "      <th></th>\n",
       "      <th></th>\n",
       "      <th></th>\n",
       "      <th></th>\n",
       "      <th></th>\n",
       "      <th></th>\n",
       "      <th></th>\n",
       "      <th></th>\n",
       "      <th></th>\n",
       "      <th></th>\n",
       "      <th></th>\n",
       "      <th></th>\n",
       "      <th></th>\n",
       "    </tr>\n",
       "  </thead>\n",
       "  <tbody>\n",
       "    <tr>\n",
       "      <th>abakan</th>\n",
       "      <td>1607674440</td>\n",
       "      <td>2020-12_1607674440</td>\n",
       "      <td>202012</td>\n",
       "      <td>19423207912112130</td>\n",
       "      <td>9711603956056065</td>\n",
       "      <td>0</td>\n",
       "      <td>1</td>\n",
       "      <td>296624533920</td>\n",
       "      <td>296624533920</td>\n",
       "      <td>1.091739e+17</td>\n",
       "      <td>1.091751e+17</td>\n",
       "      <td>104</td>\n",
       "      <td>7</td>\n",
       "      <td>42</td>\n",
       "      <td>42</td>\n",
       "      <td>6</td>\n",
       "      <td>18</td>\n",
       "      <td>8</td>\n",
       "      <td>90</td>\n",
       "      <td>0</td>\n",
       "      <td>0</td>\n",
       "      <td>0</td>\n",
       "      <td>0</td>\n",
       "      <td>0</td>\n",
       "      <td>0</td>\n",
       "      <td>0</td>\n",
       "      <td>0</td>\n",
       "      <td>0</td>\n",
       "      <td>0</td>\n",
       "      <td>0</td>\n",
       "      <td>0</td>\n",
       "      <td>1</td>\n",
       "      <td>1</td>\n",
       "      <td>0</td>\n",
       "      <td>0</td>\n",
       "      <td>0</td>\n",
       "      <td>7</td>\n",
       "      <td>2</td>\n",
       "      <td>90</td>\n",
       "      <td>0</td>\n",
       "      <td>NaN</td>\n",
       "      <td>LINESTRING(91.337229694 53.5716834537,91.33723...</td>\n",
       "      <td>0</td>\n",
       "      <td>1</td>\n",
       "    </tr>\n",
       "    <tr>\n",
       "      <th>abakan</th>\n",
       "      <td>1607674440</td>\n",
       "      <td>2020-12_1607674440</td>\n",
       "      <td>202012</td>\n",
       "      <td>19423207912112131</td>\n",
       "      <td>9711603956056065</td>\n",
       "      <td>0</td>\n",
       "      <td>1</td>\n",
       "      <td>296624533920</td>\n",
       "      <td>296624533920</td>\n",
       "      <td>1.091751e+17</td>\n",
       "      <td>1.091739e+17</td>\n",
       "      <td>104</td>\n",
       "      <td>7</td>\n",
       "      <td>222</td>\n",
       "      <td>222</td>\n",
       "      <td>6</td>\n",
       "      <td>18</td>\n",
       "      <td>8</td>\n",
       "      <td>90</td>\n",
       "      <td>0</td>\n",
       "      <td>0</td>\n",
       "      <td>0</td>\n",
       "      <td>0</td>\n",
       "      <td>0</td>\n",
       "      <td>0</td>\n",
       "      <td>0</td>\n",
       "      <td>0</td>\n",
       "      <td>0</td>\n",
       "      <td>0</td>\n",
       "      <td>0</td>\n",
       "      <td>0</td>\n",
       "      <td>1</td>\n",
       "      <td>1</td>\n",
       "      <td>0</td>\n",
       "      <td>0</td>\n",
       "      <td>0</td>\n",
       "      <td>7</td>\n",
       "      <td>2</td>\n",
       "      <td>90</td>\n",
       "      <td>0</td>\n",
       "      <td>NaN</td>\n",
       "      <td>LINESTRING(91.3382073305 53.5724154795,91.3372...</td>\n",
       "      <td>0</td>\n",
       "      <td>1</td>\n",
       "    </tr>\n",
       "    <tr>\n",
       "      <th>abakan</th>\n",
       "      <td>1607674440</td>\n",
       "      <td>2020-12_1607674440</td>\n",
       "      <td>202012</td>\n",
       "      <td>19423207912112132</td>\n",
       "      <td>9711603956056066</td>\n",
       "      <td>0</td>\n",
       "      <td>1</td>\n",
       "      <td>296624533934</td>\n",
       "      <td>296624553972</td>\n",
       "      <td>1.094721e+17</td>\n",
       "      <td>1.094652e+17</td>\n",
       "      <td>553</td>\n",
       "      <td>3</td>\n",
       "      <td>324</td>\n",
       "      <td>318</td>\n",
       "      <td>2</td>\n",
       "      <td>8</td>\n",
       "      <td>8</td>\n",
       "      <td>90</td>\n",
       "      <td>0</td>\n",
       "      <td>0</td>\n",
       "      <td>0</td>\n",
       "      <td>0</td>\n",
       "      <td>0</td>\n",
       "      <td>1</td>\n",
       "      <td>0</td>\n",
       "      <td>0</td>\n",
       "      <td>0</td>\n",
       "      <td>0</td>\n",
       "      <td>0</td>\n",
       "      <td>0</td>\n",
       "      <td>1</td>\n",
       "      <td>1</td>\n",
       "      <td>0</td>\n",
       "      <td>0</td>\n",
       "      <td>0</td>\n",
       "      <td>7</td>\n",
       "      <td>1</td>\n",
       "      <td>90</td>\n",
       "      <td>0</td>\n",
       "      <td>NaN</td>\n",
       "      <td>LINESTRING(91.5867024485 53.5748962611,91.5866...</td>\n",
       "      <td>0</td>\n",
       "      <td>1</td>\n",
       "    </tr>\n",
       "    <tr>\n",
       "      <th>abakan</th>\n",
       "      <td>1607674440</td>\n",
       "      <td>2020-12_1607674440</td>\n",
       "      <td>202012</td>\n",
       "      <td>19423207912112133</td>\n",
       "      <td>9711603956056066</td>\n",
       "      <td>0</td>\n",
       "      <td>1</td>\n",
       "      <td>296624553972</td>\n",
       "      <td>296624533934</td>\n",
       "      <td>1.094652e+17</td>\n",
       "      <td>1.094721e+17</td>\n",
       "      <td>553</td>\n",
       "      <td>3</td>\n",
       "      <td>138</td>\n",
       "      <td>144</td>\n",
       "      <td>2</td>\n",
       "      <td>8</td>\n",
       "      <td>8</td>\n",
       "      <td>90</td>\n",
       "      <td>0</td>\n",
       "      <td>0</td>\n",
       "      <td>0</td>\n",
       "      <td>0</td>\n",
       "      <td>0</td>\n",
       "      <td>1</td>\n",
       "      <td>0</td>\n",
       "      <td>0</td>\n",
       "      <td>0</td>\n",
       "      <td>0</td>\n",
       "      <td>0</td>\n",
       "      <td>0</td>\n",
       "      <td>1</td>\n",
       "      <td>1</td>\n",
       "      <td>0</td>\n",
       "      <td>0</td>\n",
       "      <td>0</td>\n",
       "      <td>7</td>\n",
       "      <td>1</td>\n",
       "      <td>90</td>\n",
       "      <td>0</td>\n",
       "      <td>NaN</td>\n",
       "      <td>LINESTRING(91.5809012182 53.5784671832,91.5841...</td>\n",
       "      <td>0</td>\n",
       "      <td>1</td>\n",
       "    </tr>\n",
       "    <tr>\n",
       "      <th>abakan</th>\n",
       "      <td>1607674440</td>\n",
       "      <td>2020-12_1607674440</td>\n",
       "      <td>202012</td>\n",
       "      <td>19423207912112134</td>\n",
       "      <td>9711603956056067</td>\n",
       "      <td>0</td>\n",
       "      <td>1</td>\n",
       "      <td>296624533911</td>\n",
       "      <td>296624533910</td>\n",
       "      <td>1.089704e+17</td>\n",
       "      <td>1.089663e+17</td>\n",
       "      <td>500</td>\n",
       "      <td>7</td>\n",
       "      <td>210</td>\n",
       "      <td>210</td>\n",
       "      <td>6</td>\n",
       "      <td>18</td>\n",
       "      <td>8</td>\n",
       "      <td>90</td>\n",
       "      <td>0</td>\n",
       "      <td>0</td>\n",
       "      <td>0</td>\n",
       "      <td>0</td>\n",
       "      <td>0</td>\n",
       "      <td>0</td>\n",
       "      <td>0</td>\n",
       "      <td>0</td>\n",
       "      <td>0</td>\n",
       "      <td>0</td>\n",
       "      <td>0</td>\n",
       "      <td>0</td>\n",
       "      <td>1</td>\n",
       "      <td>1</td>\n",
       "      <td>0</td>\n",
       "      <td>0</td>\n",
       "      <td>0</td>\n",
       "      <td>7</td>\n",
       "      <td>2</td>\n",
       "      <td>90</td>\n",
       "      <td>0</td>\n",
       "      <td>NaN</td>\n",
       "      <td>LINESTRING(91.1669185484 53.5731552273,91.1669...</td>\n",
       "      <td>0</td>\n",
       "      <td>1</td>\n",
       "    </tr>\n",
       "    <tr>\n",
       "      <th>...</th>\n",
       "      <td>...</td>\n",
       "      <td>...</td>\n",
       "      <td>...</td>\n",
       "      <td>...</td>\n",
       "      <td>...</td>\n",
       "      <td>...</td>\n",
       "      <td>...</td>\n",
       "      <td>...</td>\n",
       "      <td>...</td>\n",
       "      <td>...</td>\n",
       "      <td>...</td>\n",
       "      <td>...</td>\n",
       "      <td>...</td>\n",
       "      <td>...</td>\n",
       "      <td>...</td>\n",
       "      <td>...</td>\n",
       "      <td>...</td>\n",
       "      <td>...</td>\n",
       "      <td>...</td>\n",
       "      <td>...</td>\n",
       "      <td>...</td>\n",
       "      <td>...</td>\n",
       "      <td>...</td>\n",
       "      <td>...</td>\n",
       "      <td>...</td>\n",
       "      <td>...</td>\n",
       "      <td>...</td>\n",
       "      <td>...</td>\n",
       "      <td>...</td>\n",
       "      <td>...</td>\n",
       "      <td>...</td>\n",
       "      <td>...</td>\n",
       "      <td>...</td>\n",
       "      <td>...</td>\n",
       "      <td>...</td>\n",
       "      <td>...</td>\n",
       "      <td>...</td>\n",
       "      <td>...</td>\n",
       "      <td>...</td>\n",
       "      <td>...</td>\n",
       "      <td>...</td>\n",
       "      <td>...</td>\n",
       "      <td>...</td>\n",
       "      <td>...</td>\n",
       "    </tr>\n",
       "    <tr>\n",
       "      <th>abakan</th>\n",
       "      <td>1607674440</td>\n",
       "      <td>2020-12_1607674440</td>\n",
       "      <td>202012</td>\n",
       "      <td>140060152502123605</td>\n",
       "      <td>70030076251061802</td>\n",
       "      <td>0</td>\n",
       "      <td>1</td>\n",
       "      <td>296624774400</td>\n",
       "      <td>296624774400</td>\n",
       "      <td>1.096813e+17</td>\n",
       "      <td>1.096815e+17</td>\n",
       "      <td>91</td>\n",
       "      <td>3</td>\n",
       "      <td>6</td>\n",
       "      <td>6</td>\n",
       "      <td>2</td>\n",
       "      <td>2</td>\n",
       "      <td>5</td>\n",
       "      <td>60</td>\n",
       "      <td>0</td>\n",
       "      <td>0</td>\n",
       "      <td>0</td>\n",
       "      <td>0</td>\n",
       "      <td>0</td>\n",
       "      <td>1</td>\n",
       "      <td>0</td>\n",
       "      <td>1</td>\n",
       "      <td>0</td>\n",
       "      <td>0</td>\n",
       "      <td>0</td>\n",
       "      <td>0</td>\n",
       "      <td>1</td>\n",
       "      <td>1</td>\n",
       "      <td>0</td>\n",
       "      <td>0</td>\n",
       "      <td>0</td>\n",
       "      <td>7</td>\n",
       "      <td>1</td>\n",
       "      <td>60</td>\n",
       "      <td>0</td>\n",
       "      <td>NaN</td>\n",
       "      <td>LINESTRING(91.7617266052 53.6960142902,91.7619...</td>\n",
       "      <td>0</td>\n",
       "      <td>1</td>\n",
       "    </tr>\n",
       "    <tr>\n",
       "      <th>abakan</th>\n",
       "      <td>1607674440</td>\n",
       "      <td>2020-12_1607674440</td>\n",
       "      <td>202012</td>\n",
       "      <td>140060152502123620</td>\n",
       "      <td>70030076251061810</td>\n",
       "      <td>0</td>\n",
       "      <td>1</td>\n",
       "      <td>296624774400</td>\n",
       "      <td>296624774400</td>\n",
       "      <td>1.096813e+17</td>\n",
       "      <td>1.096839e+17</td>\n",
       "      <td>144</td>\n",
       "      <td>3</td>\n",
       "      <td>96</td>\n",
       "      <td>96</td>\n",
       "      <td>2</td>\n",
       "      <td>2</td>\n",
       "      <td>5</td>\n",
       "      <td>60</td>\n",
       "      <td>0</td>\n",
       "      <td>0</td>\n",
       "      <td>0</td>\n",
       "      <td>0</td>\n",
       "      <td>0</td>\n",
       "      <td>1</td>\n",
       "      <td>0</td>\n",
       "      <td>1</td>\n",
       "      <td>0</td>\n",
       "      <td>0</td>\n",
       "      <td>0</td>\n",
       "      <td>0</td>\n",
       "      <td>1</td>\n",
       "      <td>1</td>\n",
       "      <td>0</td>\n",
       "      <td>0</td>\n",
       "      <td>0</td>\n",
       "      <td>7</td>\n",
       "      <td>1</td>\n",
       "      <td>60</td>\n",
       "      <td>0</td>\n",
       "      <td>ru_nom='Тобольская',ru_dat='Тобольская',ru_acc...</td>\n",
       "      <td>LINESTRING(91.7617168135 53.6960097694,91.7638...</td>\n",
       "      <td>0</td>\n",
       "      <td>1</td>\n",
       "    </tr>\n",
       "    <tr>\n",
       "      <th>abakan</th>\n",
       "      <td>1607674440</td>\n",
       "      <td>2020-12_1607674440</td>\n",
       "      <td>202012</td>\n",
       "      <td>140060152502123621</td>\n",
       "      <td>70030076251061810</td>\n",
       "      <td>0</td>\n",
       "      <td>1</td>\n",
       "      <td>296624774400</td>\n",
       "      <td>296624774400</td>\n",
       "      <td>1.096839e+17</td>\n",
       "      <td>1.096813e+17</td>\n",
       "      <td>144</td>\n",
       "      <td>3</td>\n",
       "      <td>276</td>\n",
       "      <td>276</td>\n",
       "      <td>2</td>\n",
       "      <td>2</td>\n",
       "      <td>5</td>\n",
       "      <td>60</td>\n",
       "      <td>0</td>\n",
       "      <td>0</td>\n",
       "      <td>0</td>\n",
       "      <td>0</td>\n",
       "      <td>0</td>\n",
       "      <td>1</td>\n",
       "      <td>0</td>\n",
       "      <td>1</td>\n",
       "      <td>0</td>\n",
       "      <td>0</td>\n",
       "      <td>0</td>\n",
       "      <td>0</td>\n",
       "      <td>1</td>\n",
       "      <td>1</td>\n",
       "      <td>0</td>\n",
       "      <td>0</td>\n",
       "      <td>0</td>\n",
       "      <td>7</td>\n",
       "      <td>1</td>\n",
       "      <td>60</td>\n",
       "      <td>0</td>\n",
       "      <td>ru_nom='Тобольская',ru_dat='Тобольская',ru_acc...</td>\n",
       "      <td>LINESTRING(91.763899001 53.6958676549,91.76171...</td>\n",
       "      <td>0</td>\n",
       "      <td>1</td>\n",
       "    </tr>\n",
       "    <tr>\n",
       "      <th>abakan</th>\n",
       "      <td>1607674440</td>\n",
       "      <td>2020-12_1607674440</td>\n",
       "      <td>202012</td>\n",
       "      <td>140060152502123644</td>\n",
       "      <td>70030076251061822</td>\n",
       "      <td>0</td>\n",
       "      <td>1</td>\n",
       "      <td>296624774400</td>\n",
       "      <td>296624774400</td>\n",
       "      <td>1.096839e+17</td>\n",
       "      <td>1.096850e+17</td>\n",
       "      <td>58</td>\n",
       "      <td>3</td>\n",
       "      <td>96</td>\n",
       "      <td>96</td>\n",
       "      <td>2</td>\n",
       "      <td>2</td>\n",
       "      <td>5</td>\n",
       "      <td>60</td>\n",
       "      <td>0</td>\n",
       "      <td>0</td>\n",
       "      <td>0</td>\n",
       "      <td>0</td>\n",
       "      <td>0</td>\n",
       "      <td>1</td>\n",
       "      <td>0</td>\n",
       "      <td>1</td>\n",
       "      <td>0</td>\n",
       "      <td>0</td>\n",
       "      <td>0</td>\n",
       "      <td>0</td>\n",
       "      <td>1</td>\n",
       "      <td>1</td>\n",
       "      <td>0</td>\n",
       "      <td>0</td>\n",
       "      <td>0</td>\n",
       "      <td>7</td>\n",
       "      <td>1</td>\n",
       "      <td>60</td>\n",
       "      <td>0</td>\n",
       "      <td>ru_nom='Тобольская',ru_dat='Тобольская',ru_acc...</td>\n",
       "      <td>LINESTRING(91.7638967552 53.6958571771,91.7647...</td>\n",
       "      <td>0</td>\n",
       "      <td>1</td>\n",
       "    </tr>\n",
       "    <tr>\n",
       "      <th>abakan</th>\n",
       "      <td>1607674440</td>\n",
       "      <td>2020-12_1607674440</td>\n",
       "      <td>202012</td>\n",
       "      <td>140060152502123645</td>\n",
       "      <td>70030076251061822</td>\n",
       "      <td>0</td>\n",
       "      <td>1</td>\n",
       "      <td>296624774400</td>\n",
       "      <td>296624774400</td>\n",
       "      <td>1.096850e+17</td>\n",
       "      <td>1.096839e+17</td>\n",
       "      <td>58</td>\n",
       "      <td>3</td>\n",
       "      <td>276</td>\n",
       "      <td>276</td>\n",
       "      <td>2</td>\n",
       "      <td>2</td>\n",
       "      <td>5</td>\n",
       "      <td>60</td>\n",
       "      <td>0</td>\n",
       "      <td>0</td>\n",
       "      <td>0</td>\n",
       "      <td>0</td>\n",
       "      <td>0</td>\n",
       "      <td>1</td>\n",
       "      <td>0</td>\n",
       "      <td>1</td>\n",
       "      <td>0</td>\n",
       "      <td>0</td>\n",
       "      <td>0</td>\n",
       "      <td>0</td>\n",
       "      <td>1</td>\n",
       "      <td>1</td>\n",
       "      <td>0</td>\n",
       "      <td>0</td>\n",
       "      <td>0</td>\n",
       "      <td>7</td>\n",
       "      <td>1</td>\n",
       "      <td>60</td>\n",
       "      <td>0</td>\n",
       "      <td>ru_nom='Тобольская',ru_dat='Тобольская',ru_acc...</td>\n",
       "      <td>LINESTRING(91.7647679414 53.6957910128,91.7638...</td>\n",
       "      <td>0</td>\n",
       "      <td>1</td>\n",
       "    </tr>\n",
       "  </tbody>\n",
       "</table>\n",
       "<p>65524 rows × 44 columns</p>\n",
       "</div>"
      ],
      "text/plain": [
       "                ts             version  year_month             edge_id  \\\n",
       "city                                                                     \n",
       "abakan  1607674440  2020-12_1607674440      202012   19423207912112130   \n",
       "abakan  1607674440  2020-12_1607674440      202012   19423207912112131   \n",
       "abakan  1607674440  2020-12_1607674440      202012   19423207912112132   \n",
       "abakan  1607674440  2020-12_1607674440      202012   19423207912112133   \n",
       "abakan  1607674440  2020-12_1607674440      202012   19423207912112134   \n",
       "...            ...                 ...         ...                 ...   \n",
       "abakan  1607674440  2020-12_1607674440      202012  140060152502123605   \n",
       "abakan  1607674440  2020-12_1607674440      202012  140060152502123620   \n",
       "abakan  1607674440  2020-12_1607674440      202012  140060152502123621   \n",
       "abakan  1607674440  2020-12_1607674440      202012  140060152502123644   \n",
       "abakan  1607674440  2020-12_1607674440      202012  140060152502123645   \n",
       "\n",
       "                  fiji_id  seg_begin  seg_end     tile_from       tile_to  \\\n",
       "city                                                                        \n",
       "abakan   9711603956056065          0        1  296624533920  296624533920   \n",
       "abakan   9711603956056065          0        1  296624533920  296624533920   \n",
       "abakan   9711603956056066          0        1  296624533934  296624553972   \n",
       "abakan   9711603956056066          0        1  296624553972  296624533934   \n",
       "abakan   9711603956056067          0        1  296624533911  296624533910   \n",
       "...                   ...        ...      ...           ...           ...   \n",
       "abakan  70030076251061802          0        1  296624774400  296624774400   \n",
       "abakan  70030076251061810          0        1  296624774400  296624774400   \n",
       "abakan  70030076251061810          0        1  296624774400  296624774400   \n",
       "abakan  70030076251061822          0        1  296624774400  296624774400   \n",
       "abakan  70030076251061822          0        1  296624774400  296624774400   \n",
       "\n",
       "           node_from       node_to  length  width  azimuth_begin  azimuth_end  \\\n",
       "city                                                                            \n",
       "abakan  1.091739e+17  1.091751e+17     104      7             42           42   \n",
       "abakan  1.091751e+17  1.091739e+17     104      7            222          222   \n",
       "abakan  1.094721e+17  1.094652e+17     553      3            324          318   \n",
       "abakan  1.094652e+17  1.094721e+17     553      3            138          144   \n",
       "abakan  1.089704e+17  1.089663e+17     500      7            210          210   \n",
       "...              ...           ...     ...    ...            ...          ...   \n",
       "abakan  1.096813e+17  1.096815e+17      91      3              6            6   \n",
       "abakan  1.096813e+17  1.096839e+17     144      3             96           96   \n",
       "abakan  1.096839e+17  1.096813e+17     144      3            276          276   \n",
       "abakan  1.096839e+17  1.096850e+17      58      3             96           96   \n",
       "abakan  1.096850e+17  1.096839e+17      58      3            276          276   \n",
       "\n",
       "        road_class  sm_class  rm_car_class  rm_car_speed  type  light_begin  \\\n",
       "city                                                                          \n",
       "abakan           6        18             8            90     0            0   \n",
       "abakan           6        18             8            90     0            0   \n",
       "abakan           2         8             8            90     0            0   \n",
       "abakan           2         8             8            90     0            0   \n",
       "abakan           6        18             8            90     0            0   \n",
       "...            ...       ...           ...           ...   ...          ...   \n",
       "abakan           2         2             5            60     0            0   \n",
       "abakan           2         2             5            60     0            0   \n",
       "abakan           2         2             5            60     0            0   \n",
       "abakan           2         2             5            60     0            0   \n",
       "abakan           2         2             5            60     0            0   \n",
       "\n",
       "        light_end  zlevel_from  zlevel_to  turn_to  payments_flags  \\\n",
       "city                                                                 \n",
       "abakan          0            0          0        0               0   \n",
       "abakan          0            0          0        0               0   \n",
       "abakan          0            0          0        1               0   \n",
       "abakan          0            0          0        1               0   \n",
       "abakan          0            0          0        0               0   \n",
       "...           ...          ...        ...      ...             ...   \n",
       "abakan          0            0          0        1               0   \n",
       "abakan          0            0          0        1               0   \n",
       "abakan          0            0          0        1               0   \n",
       "abakan          0            0          0        1               0   \n",
       "abakan          0            0          0        1               0   \n",
       "\n",
       "        is_city_edge  barrier  turn_restrictions  quartal_id  truck_zone_id  \\\n",
       "city                                                                          \n",
       "abakan             0        0                  0           0              0   \n",
       "abakan             0        0                  0           0              0   \n",
       "abakan             0        0                  0           0              0   \n",
       "abakan             0        0                  0           0              0   \n",
       "abakan             0        0                  0           0              0   \n",
       "...              ...      ...                ...         ...            ...   \n",
       "abakan             1        0                  0           0              0   \n",
       "abakan             1        0                  0           0              0   \n",
       "abakan             1        0                  0           0              0   \n",
       "abakan             1        0                  0           0              0   \n",
       "abakan             1        0                  0           0              0   \n",
       "\n",
       "        traverse  passability  pedo_offset  bad_road  alt_road  style  lanes  \\\n",
       "city                                                                           \n",
       "abakan         1            1            0         0         0      7      2   \n",
       "abakan         1            1            0         0         0      7      2   \n",
       "abakan         1            1            0         0         0      7      1   \n",
       "abakan         1            1            0         0         0      7      1   \n",
       "abakan         1            1            0         0         0      7      2   \n",
       "...          ...          ...          ...       ...       ...    ...    ...   \n",
       "abakan         1            1            0         0         0      7      1   \n",
       "abakan         1            1            0         0         0      7      1   \n",
       "abakan         1            1            0         0         0      7      1   \n",
       "abakan         1            1            0         0         0      7      1   \n",
       "abakan         1            1            0         0         0      7      1   \n",
       "\n",
       "        def_speed  road_exit  \\\n",
       "city                           \n",
       "abakan         90          0   \n",
       "abakan         90          0   \n",
       "abakan         90          0   \n",
       "abakan         90          0   \n",
       "abakan         90          0   \n",
       "...           ...        ...   \n",
       "abakan         60          0   \n",
       "abakan         60          0   \n",
       "abakan         60          0   \n",
       "abakan         60          0   \n",
       "abakan         60          0   \n",
       "\n",
       "                                                   street  \\\n",
       "city                                                        \n",
       "abakan                                                NaN   \n",
       "abakan                                                NaN   \n",
       "abakan                                                NaN   \n",
       "abakan                                                NaN   \n",
       "abakan                                                NaN   \n",
       "...                                                   ...   \n",
       "abakan                                                NaN   \n",
       "abakan  ru_nom='Тобольская',ru_dat='Тобольская',ru_acc...   \n",
       "abakan  ru_nom='Тобольская',ru_dat='Тобольская',ru_acc...   \n",
       "abakan  ru_nom='Тобольская',ru_dat='Тобольская',ru_acc...   \n",
       "abakan  ru_nom='Тобольская',ru_dat='Тобольская',ru_acc...   \n",
       "\n",
       "                                                     geom  sign_segment_begin  \\\n",
       "city                                                                            \n",
       "abakan  LINESTRING(91.337229694 53.5716834537,91.33723...                   0   \n",
       "abakan  LINESTRING(91.3382073305 53.5724154795,91.3372...                   0   \n",
       "abakan  LINESTRING(91.5867024485 53.5748962611,91.5866...                   0   \n",
       "abakan  LINESTRING(91.5809012182 53.5784671832,91.5841...                   0   \n",
       "abakan  LINESTRING(91.1669185484 53.5731552273,91.1669...                   0   \n",
       "...                                                   ...                 ...   \n",
       "abakan  LINESTRING(91.7617266052 53.6960142902,91.7619...                   0   \n",
       "abakan  LINESTRING(91.7617168135 53.6960097694,91.7638...                   0   \n",
       "abakan  LINESTRING(91.763899001 53.6958676549,91.76171...                   0   \n",
       "abakan  LINESTRING(91.7638967552 53.6958571771,91.7647...                   0   \n",
       "abakan  LINESTRING(91.7647679414 53.6957910128,91.7638...                   0   \n",
       "\n",
       "        sign_segment_end  \n",
       "city                      \n",
       "abakan                 1  \n",
       "abakan                 1  \n",
       "abakan                 1  \n",
       "abakan                 1  \n",
       "abakan                 1  \n",
       "...                  ...  \n",
       "abakan                 1  \n",
       "abakan                 1  \n",
       "abakan                 1  \n",
       "abakan                 1  \n",
       "abakan                 1  \n",
       "\n",
       "[65524 rows x 44 columns]"
      ]
     },
     "execution_count": 46,
     "metadata": {},
     "output_type": "execute_result"
    }
   ],
   "source": [
    "graph_init = pd.read_csv(\"graph_abakan_init.csv\", index_col = 0)"
   ]
  },
  {
   "cell_type": "code",
   "execution_count": 293,
   "id": "70853852",
   "metadata": {},
   "outputs": [],
   "source": [
    "graph = pd.read_csv(\"graph_abakan_F_encoded.csv\", index_col = 0)\n",
    "X = pd.read_csv(\"abakan_full_routes_final_weather_L_NaN_filtered_FIXED.csv\", index_col = 0).dropna().drop([\"real_dist\", \"speed\", \"time\", \"length\", \"route_type\"], axis = 1).reset_index(drop=True)"
   ]
  },
  {
   "cell_type": "markdown",
   "id": "e86fcb7d",
   "metadata": {},
   "source": [
    "Clearing data from the noised objects:"
   ]
  },
  {
   "cell_type": "code",
   "execution_count": 294,
   "id": "6979eed5",
   "metadata": {},
   "outputs": [],
   "source": [
    "X = X[(X[\"rebuildCount\"] <= 1) & (X[\"RTA\"] > 30) & (X[\"RTA\"] < 3000)]\n",
    "time = X[\"start_timestamp\"].reset_index(drop = True)\n",
    "X = X.drop([\"rebuildCount\", \"start_timestamp\"], axis = 1)\n",
    "X.reset_index(drop = True, inplace = True)"
   ]
  },
  {
   "cell_type": "code",
   "execution_count": null,
   "id": "2962cb0a",
   "metadata": {},
   "outputs": [],
   "source": [
    "route_edges = np.array(X[\"edges\"].map(lambda x: x.replace(\"'\", \"\")))"
   ]
  },
  {
   "cell_type": "code",
   "execution_count": null,
   "id": "687e4a05",
   "metadata": {},
   "outputs": [],
   "source": [
    "wind_dir_classes = pd.get_dummies(X.wind_dir, prefix='wind_dir_class')\n",
    "day_classes = pd.get_dummies(X.day_period, prefix='day_class')\n",
    "Y = X[\"RTA\"]\n",
    "X = X.join(wind_dir_classes).join(day_classes).drop([\"edges\", \"wind_dir\", \"day_period\", \"RTA\"], axis = 1)"
   ]
  },
  {
   "cell_type": "code",
   "execution_count": null,
   "id": "e1f00a5d",
   "metadata": {},
   "outputs": [],
   "source": [
    "graph_features = graph.drop([\"edge_id\", \"adjacent\"], axis = 1)\n",
    "embs = np.array(graph_features)"
   ]
  },
  {
   "cell_type": "markdown",
   "id": "0175ea85",
   "metadata": {},
   "source": [
    "### Spatial graph and auxiliary structures construction"
   ]
  },
  {
   "cell_type": "code",
   "execution_count": 188,
   "id": "9e0d410a",
   "metadata": {},
   "outputs": [],
   "source": [
    "splited = [graph_init[\"geom\"][i].split(\"(\") for i in range(len(graph_init[\"geom\"]))]\n",
    "coords = [splited[i][1] for i in range(len(splited))]\n",
    "first_coord = [coords[i].split(\",\")[0] for i in range(len(coords))] \n",
    "first_coord = [list(map(float, first_coord[i].split(\" \"))) for i in range(len(first_coord))]\n",
    "first_coord = np.array(first_coord)"
   ]
  },
  {
   "cell_type": "code",
   "execution_count": 189,
   "id": "9537d6d7",
   "metadata": {},
   "outputs": [
    {
     "data": {
      "text/plain": [
       "(91.9791699282, 90.5756827322)"
      ]
     },
     "execution_count": 189,
     "metadata": {},
     "output_type": "execute_result"
    }
   ],
   "source": [
    "max(first_coord[:, 0]), min(first_coord[:, 0]), max(first_coord[:, 1]), min(first_coord[:, 1])"
   ]
  },
  {
   "cell_type": "code",
   "execution_count": 198,
   "id": "7405adc5",
   "metadata": {},
   "outputs": [],
   "source": [
    "grid_size = 30\n",
    "G = nx.grid_2d_graph(grid_size, grid_size)"
   ]
  },
  {
   "cell_type": "code",
   "execution_count": 199,
   "id": "624d3cf5",
   "metadata": {},
   "outputs": [],
   "source": [
    "fc = np.linspace(min(first_coord[:, 0]), max(first_coord[:, 0]), num = grid_size)\n",
    "sc = np.linspace(min(first_coord[:, 1]), max(first_coord[:, 1]), num = grid_size)\n",
    "\n",
    "grid = np.array([[[fc[i], sc[j]] for i in range(len(fc))] for j in range(len(sc))])"
   ]
  },
  {
   "cell_type": "code",
   "execution_count": 200,
   "id": "8c0b83cf",
   "metadata": {},
   "outputs": [],
   "source": [
    "for i in range(grid_size):\n",
    "    for j in range(grid_size):\n",
    "        G.nodes[i, j][\"coord\"] = grid[i][j]"
   ]
  },
  {
   "cell_type": "code",
   "execution_count": 201,
   "id": "8c1c4752",
   "metadata": {},
   "outputs": [],
   "source": [
    "locations = [int(route_edges[i].split(\",\")[0]) for i in range(len(route_edges))]"
   ]
  },
  {
   "cell_type": "code",
   "execution_count": 206,
   "id": "f00e71a2",
   "metadata": {},
   "outputs": [
    {
     "name": "stderr",
     "output_type": "stream",
     "text": [
      "100%|██████████| 82202/82202 [11:02<00:00, 124.09it/s]\n"
     ]
    }
   ],
   "source": [
    "encoded_positions = []\n",
    "for i in tqdm(range(len(locations))):\n",
    "    location = first_coord[graph[graph[\"edge_id\"] == locations[i]].index[0]]\n",
    "    min_dist, encoded_position = 10, 0\n",
    "    for j in range(grid_size):\n",
    "        for k in range(grid_size):\n",
    "            dist = distance.euclidean(location, G.nodes[j, k][\"coord\"])\n",
    "            if dist < min_dist:\n",
    "                min_dist = dist\n",
    "                encoded_position = [j,k]\n",
    "    encoded_positions.append(encoded_position)"
   ]
  },
  {
   "cell_type": "code",
   "execution_count": 298,
   "id": "470205a5",
   "metadata": {},
   "outputs": [
    {
     "data": {
      "text/plain": [
       "(82202, 2)"
      ]
     },
     "execution_count": 298,
     "metadata": {},
     "output_type": "execute_result"
    }
   ],
   "source": [
    "encoded_positions = np.array(encoded_positions)\n",
    "encoded_positions.shape"
   ]
  },
  {
   "cell_type": "markdown",
   "id": "15df5d01",
   "metadata": {},
   "source": [
    "### Temporal graph construction and auxiliary structures construction"
   ]
  },
  {
   "cell_type": "code",
   "execution_count": 282,
   "id": "98f1fc8b",
   "metadata": {},
   "outputs": [],
   "source": [
    "T = nx.grid_2d_graph(4, 7)\n",
    "for i in range(3):\n",
    "    T.add_node((4, i))\n",
    "    \n",
    "T.nodes[4, 0][\"time\"] = 29\n",
    "T.nodes[4, 1][\"time\"] = 30\n",
    "T.nodes[4, 2][\"time\"] = 31"
   ]
  },
  {
   "cell_type": "code",
   "execution_count": 283,
   "id": "43b9a33f",
   "metadata": {},
   "outputs": [],
   "source": [
    "T.add_edge((4, 0), (4, 1))\n",
    "T.add_edge((4, 0), (3, 0))\n",
    "\n",
    "T.add_edge((4, 1), (4, 2))\n",
    "T.add_edge((4, 1), (3, 1))\n",
    "\n",
    "T.add_edge((4, 2), (3, 2))"
   ]
  },
  {
   "cell_type": "code",
   "execution_count": 284,
   "id": "a0dc5159",
   "metadata": {},
   "outputs": [],
   "source": [
    "date = 1\n",
    "for i in range(4):\n",
    "    for j in range(7):\n",
    "        G.nodes[i, j][\"time\"] = date\n",
    "        date +=1"
   ]
  },
  {
   "cell_type": "code",
   "execution_count": 291,
   "id": "2ed98fbb",
   "metadata": {},
   "outputs": [
    {
     "data": {
      "text/plain": [
       "2         2020-12-06 12:21:17.0\n",
       "3         2020-12-13 14:25:20.0\n",
       "4         2020-12-04 17:43:41.0\n",
       "5         2020-12-15 17:40:56.0\n",
       "6         2020-12-02 09:42:09.0\n",
       "                  ...          \n",
       "122304    2020-12-01 15:37:06.0\n",
       "122305    2020-12-13 03:03:59.0\n",
       "122306    2020-12-29 10:02:33.0\n",
       "122308    2020-12-18 16:52:58.0\n",
       "122310    2020-12-24 00:22:25.0\n",
       "Name: start_timestamp, Length: 82202, dtype: object"
      ]
     },
     "execution_count": 291,
     "metadata": {},
     "output_type": "execute_result"
    }
   ],
   "source": [
    "time"
   ]
  },
  {
   "cell_type": "code",
   "execution_count": 295,
   "id": "d30cb16e",
   "metadata": {},
   "outputs": [],
   "source": [
    "times = [int(time[i][8:10]) for i in range(len(time))]"
   ]
  },
  {
   "cell_type": "code",
   "execution_count": 296,
   "id": "11fb5cf8",
   "metadata": {},
   "outputs": [],
   "source": [
    "encoded_dates = []\n",
    "for i in range(len(times)):\n",
    "    encoded_dates.append([int((times[i] - 1) / 7), (times[i] - 1) % 7])"
   ]
  },
  {
   "cell_type": "code",
   "execution_count": 297,
   "id": "9d1ee38b",
   "metadata": {},
   "outputs": [
    {
     "data": {
      "text/plain": [
       "(82202, 2)"
      ]
     },
     "execution_count": 297,
     "metadata": {},
     "output_type": "execute_result"
    }
   ],
   "source": [
    "encoded_dates = np.array(encoded_dates)\n",
    "encoded_dates.shape"
   ]
  },
  {
   "cell_type": "markdown",
   "id": "415a075d",
   "metadata": {},
   "source": [
    "### Node2Vec for road network link embeddings"
   ]
  },
  {
   "cell_type": "code",
   "execution_count": 373,
   "id": "326e16c3",
   "metadata": {},
   "outputs": [],
   "source": [
    "train_mask = []\n",
    "test_mask = []\n",
    "for i in range(len(graph)):\n",
    "    test_mask.append(False)\n",
    "    train_mask.append(False)\n",
    "for i in range(0, int(len(graph)*4/5)):\n",
    "    train_mask[i] = True\n",
    "for i in range(int(len(graph)*4/5), len(graph)):\n",
    "    test_mask[i] = True"
   ]
  },
  {
   "cell_type": "code",
   "execution_count": 374,
   "id": "ad770a91",
   "metadata": {},
   "outputs": [
    {
     "name": "stderr",
     "output_type": "stream",
     "text": [
      "100%|██████████| 65524/65524 [00:00<00:00, 81444.92it/s] \n"
     ]
    }
   ],
   "source": [
    "def get_index_tuples(df):\n",
    "    lst = []\n",
    "    for i in tqdm(range(len(df))):\n",
    "        tmp = df['adjacent'][i].split(',')\n",
    "        for edge in tmp:\n",
    "            lst.append([i, int(edge)])\n",
    "            \n",
    "    return lst\n",
    "\n",
    "lst = pd.DataFrame(get_index_tuples(graph))\n",
    "edge_index = torch.tensor(np.array(lst).T, dtype=torch.long)\n",
    "\n",
    "x = np.array(graph.drop([\"edge_id\", \"adjacent\"], axis = 1))\n",
    "x = torch.tensor(x, dtype=torch.float)\n",
    "\n",
    "data = Data(x=x, edge_index=edge_index, train_mask = train_mask, test_mask = test_mask)"
   ]
  },
  {
   "cell_type": "code",
   "execution_count": 375,
   "id": "eb3b1ace",
   "metadata": {},
   "outputs": [
    {
     "name": "stdout",
     "output_type": "stream",
     "text": [
      "Epoch: 01, Loss: 5.0219\n",
      "Epoch: 02, Loss: 3.8428\n",
      "Epoch: 03, Loss: 2.9831\n",
      "Epoch: 04, Loss: 2.5703\n",
      "Epoch: 05, Loss: 2.3563\n",
      "Epoch: 06, Loss: 2.2037\n",
      "Epoch: 07, Loss: 2.0942\n",
      "Epoch: 08, Loss: 2.0004\n",
      "Epoch: 09, Loss: 1.9276\n",
      "Epoch: 10, Loss: 1.8636\n",
      "Epoch: 11, Loss: 1.8095\n",
      "Epoch: 12, Loss: 1.7561\n",
      "Epoch: 13, Loss: 1.7035\n",
      "Epoch: 14, Loss: 1.6555\n",
      "Epoch: 15, Loss: 1.6070\n",
      "Epoch: 16, Loss: 1.5631\n",
      "Epoch: 17, Loss: 1.5302\n",
      "Epoch: 18, Loss: 1.4902\n",
      "Epoch: 19, Loss: 1.4573\n",
      "Epoch: 20, Loss: 1.4298\n"
     ]
    }
   ],
   "source": [
    "device = 'cuda' if torch.cuda.is_available() else 'cpu'\n",
    "model = Node2Vec(data.edge_index, embedding_dim=40, walk_length=3,\n",
    "                 context_size=2, walks_per_node=2,\n",
    "                 num_negative_samples=1, p=1, q=1, sparse=True).to(device)\n",
    "\n",
    "loader = model.loader(batch_size=128, shuffle=True, num_workers=4)\n",
    "optimizer = torch.optim.SparseAdam(list(model.parameters()), lr=0.01)\n",
    "\n",
    "def train():\n",
    "    model.train()\n",
    "    total_loss = 0\n",
    "    for pos_rw, neg_rw in loader:\n",
    "        optimizer.zero_grad()\n",
    "        loss = model.loss(pos_rw.to(device), neg_rw.to(device))\n",
    "        loss.backward()\n",
    "        optimizer.step()\n",
    "        total_loss += loss.item()\n",
    "    return total_loss / len(loader)\n",
    "\n",
    "for epoch in range(1, 21):\n",
    "    loss = train()\n",
    "    print(f'Epoch: {epoch:02d}, Loss: {loss:.4f}')"
   ]
  },
  {
   "cell_type": "code",
   "execution_count": 382,
   "id": "d58f8d7d",
   "metadata": {},
   "outputs": [],
   "source": [
    "model.eval()\n",
    "link_embeddings = model(torch.arange(data.num_nodes, device=device))"
   ]
  },
  {
   "cell_type": "code",
   "execution_count": 383,
   "id": "aff0c19f",
   "metadata": {},
   "outputs": [],
   "source": [
    "link_embeddings = link_embeddings.cpu().detach().numpy()"
   ]
  },
  {
   "cell_type": "code",
   "execution_count": 371,
   "id": "264b35f8",
   "metadata": {},
   "outputs": [],
   "source": [
    "start_links_ids = [graph[graph[\"edge_id\"] == locations[i]].index[0] for i in range(len(locations))]"
   ]
  },
  {
   "cell_type": "code",
   "execution_count": 388,
   "id": "001817ee",
   "metadata": {},
   "outputs": [],
   "source": [
    "link_embeddings_wrt_routes = link_embeddings[start_links_ids]"
   ]
  },
  {
   "cell_type": "code",
   "execution_count": 28,
   "id": "19019aed",
   "metadata": {},
   "outputs": [
    {
     "name": "stderr",
     "output_type": "stream",
     "text": [
      "Using cache found in /home/jovyan/.cache/torch/hub/pytorch_vision_v0.6.0\n"
     ]
    }
   ],
   "source": [
    "# model = torch.hub.load('pytorch/vision:v0.6.0', 'resnet18', pretrained=True)"
   ]
  },
  {
   "cell_type": "markdown",
   "id": "8c47069d",
   "metadata": {},
   "source": [
    "### MURAT model"
   ]
  },
  {
   "cell_type": "code",
   "execution_count": 479,
   "id": "1b8b703e",
   "metadata": {},
   "outputs": [],
   "source": [
    "import math \n",
    "class LaplacianEmbedding(nn.Module):\n",
    "    def __init__(self, vertexes_number, embedding_size = 20):\n",
    "        super(LaplacianEmbedding, self).__init__()\n",
    "        self.vertexes_number, self.embedding_size = vertexes_number, embedding_size\n",
    "        self.weights = torch.Tensor(self.vertexes_number, self.embedding_size)\n",
    "        self.weights = nn.Parameter(self.weights)\n",
    "        nn.init.kaiming_uniform_(self.weights, a=math.sqrt(5))\n",
    "\n",
    "    def forward(self, A):\n",
    "        result = torch.Tensor([0]).cuda()\n",
    "        for i in tqdm(range(A.shape[0])):\n",
    "            for j in range(A.shape[1]):\n",
    "                result += A[i][j]*torch.norm(self.weights[i] - self.weights[j])\n",
    "        return result, self.weights"
   ]
  },
  {
   "cell_type": "markdown",
   "id": "48a8e3e2",
   "metadata": {},
   "source": [
    "Laplacian embedding test:"
   ]
  },
  {
   "cell_type": "code",
   "execution_count": 480,
   "id": "bb65c8d2",
   "metadata": {},
   "outputs": [
    {
     "name": "stderr",
     "output_type": "stream",
     "text": [
      "100%|██████████| 31/31 [00:00<00:00, 629.35it/s]\n"
     ]
    },
    {
     "data": {
      "text/plain": [
       "torch.Size([31, 20])"
      ]
     },
     "execution_count": 480,
     "metadata": {},
     "output_type": "execute_result"
    }
   ],
   "source": [
    "laplacian_test = LaplacianEmbedding(31)\n",
    "temporal_adj_matrix = np.array(nx.adjacency_matrix(T).todense())\n",
    "laplacian_test(temporal_adj_matrix)[1].shape"
   ]
  },
  {
   "cell_type": "code",
   "execution_count": 481,
   "id": "d77a903d",
   "metadata": {},
   "outputs": [
    {
     "name": "stderr",
     "output_type": "stream",
     "text": [
      "100%|██████████| 31/31 [00:00<00:00, 643.07it/s]\n"
     ]
    },
    {
     "data": {
      "text/plain": [
       "tensor([82.7973], device='cuda:0', grad_fn=<AddBackward0>)"
      ]
     },
     "execution_count": 481,
     "metadata": {},
     "output_type": "execute_result"
    }
   ],
   "source": [
    "laplacian_test(temporal_adj_matrix)[0]"
   ]
  },
  {
   "cell_type": "code",
   "execution_count": 361,
   "id": "ec7bf104",
   "metadata": {},
   "outputs": [],
   "source": [
    "# There are no information available about what residual architecture MURAT authors implemented\n",
    "\n",
    "class ResLinearBlock(nn.Module):\n",
    "    def __init__(self):\n",
    "        super(ResLinearBlock, self).__init__()\n",
    "        self.linear_1 = nn.Linear(1024, 1024)\n",
    "        self.linear_2 = nn.Linear(1024, 1024)\n",
    "        self.batch_norm_1 = nn.BatchNorm1d(1024)\n",
    "        self.batch_norm_2 = nn.BatchNorm1d(1024)\n",
    "\n",
    "    def forward(self, x):\n",
    "        result = self.linear_1(x)\n",
    "        result = F.relu(self.batch_norm_1(result))\n",
    "        result = self.linear_2(result)\n",
    "        result = F.relu(self.batch_norm_2(result))\n",
    "        \n",
    "        return x + result"
   ]
  },
  {
   "cell_type": "markdown",
   "id": "d4447fe3",
   "metadata": {},
   "source": [
    "Residual embedding test:"
   ]
  },
  {
   "cell_type": "code",
   "execution_count": 363,
   "id": "dbede4b8",
   "metadata": {},
   "outputs": [
    {
     "data": {
      "text/plain": [
       "tensor([[1., 1., 1.,  ..., 1., 1., 1.],\n",
       "        [1., 1., 1.,  ..., 1., 1., 1.]], grad_fn=<AddBackward0>)"
      ]
     },
     "execution_count": 363,
     "metadata": {},
     "output_type": "execute_result"
    }
   ],
   "source": [
    "res_test = ResLinearBlock()\n",
    "test_input = torch.ones(2, 1024)\n",
    "res_test(test_input)"
   ]
  },
  {
   "cell_type": "code",
   "execution_count": 482,
   "id": "dee1f852",
   "metadata": {},
   "outputs": [],
   "source": [
    "class MURAT(nn.Module):\n",
    "    def __init__(self):\n",
    "        super(MURAT, self).__init__()\n",
    "        \n",
    "        # Spatial and temporal graph embeddings \n",
    "        self.spatial_emb = LaplacianEmbedding(30*30)\n",
    "        self.temporal_emb = LaplacianEmbedding(31)\n",
    "        \n",
    "        # Convert to residual network input\n",
    "        self.linear_0 = nn.Linear(20 + 20 + 40, 1024)\n",
    "        \n",
    "        # Residual network\n",
    "        self.res_block_1 = ResLinearBlock()\n",
    "        self.res_block_2 = ResLinearBlock()\n",
    "        self.res_block_3 = ResLinearBlock()\n",
    "        self.res_block_4 = ResLinearBlock()\n",
    "        \n",
    "        # Final part\n",
    "        self.linear_1 = nn.Linear(1024, 1)      \n",
    "        \n",
    "    def forward(self, link_embeddings, spatial_adj_matrix, spatial_indices, temporal_adj_matrix, temporal_indices):\n",
    "        summ_s, spatial = self.spatial_emb(spatial_adj_matrix)\n",
    "        summ_t, temporal = self.temporal_emb(temporal_adj_matrix)\n",
    "        print(summ_s.device, summ_t.device)\n",
    "        spatial_matrix = [spatial[spatial_indices[i][0]*30 + spatial_indices[i][1]] for i in range(len(spatial_indices))]\n",
    "        temporal_matrix = [temporal[temporal_indices[i][0]*7 + temporal_indices[i][1]] for i in range(len(temporal_indices))]\n",
    "        \n",
    "        spatial_tensor = torch.stack(spatial_matrix, dim = 0)\n",
    "        temporal_tensor = torch.stack(temporal_matrix, dim = 0)\n",
    "        \n",
    "        resnet_input = torch.cat([link_embeddings, spatial_tensor, temporal_tensor], dim = 1)\n",
    "        resnet_input = self.linear_0(resnet_input)\n",
    "        \n",
    "        resnet_output = self.res_block_1(resnet_input)\n",
    "        resnet_output = self.res_block_2(resnet_output)\n",
    "        resnet_output = self.res_block_3(resnet_output)\n",
    "        resnet_output = self.res_block_4(resnet_output)\n",
    "        \n",
    "        final_output = F.relu(self.linear_1(resnet_output))\n",
    "        print(summ_s.device, summ_t.device)\n",
    "        return final_output, summ_s, summ_t"
   ]
  },
  {
   "cell_type": "raw",
   "id": "6faf6f49",
   "metadata": {
    "scrolled": false
   },
   "source": [
    "import wandb\n",
    "wandb.init(project='ETA_second_stage', entity='eighonet')\n",
    "wandb.run.name = \"wdr_begin_lstm_full_deep_wide_final_filtered_SAMPLED\"#\"gs_3_ffd_3_128_test_MAEloss_lr_10^{-4}_10000\"\n",
    "wandb.run.save()"
   ]
  },
  {
   "cell_type": "code",
   "execution_count": 483,
   "id": "454b301a",
   "metadata": {},
   "outputs": [
    {
     "name": "stdout",
     "output_type": "stream",
     "text": [
      "cuda:0\n"
     ]
    }
   ],
   "source": [
    "num_epochs = 200\n",
    "learning_rate = 0.01\n",
    "\n",
    "device = \"\"\n",
    "gpu_ids = []\n",
    "if torch.cuda.is_available():\n",
    "    gpu_ids += [gpu_id for gpu_id in range(torch.cuda.device_count())]\n",
    "    device = torch.device(f'cuda:{gpu_ids[0]}')\n",
    "    torch.cuda.set_device(device)\n",
    "else:\n",
    "    device = torch.device('cpu')\n",
    "print(device)\n",
    "#device = \"cuda\"\n",
    "\n",
    "model = MURAT()\n",
    "model = model.to(device)\n",
    "\n",
    "criterion = torch.nn.L1Loss()\n",
    "optimizer = torch.optim.Adam(model.parameters(), lr=learning_rate)"
   ]
  },
  {
   "cell_type": "code",
   "execution_count": 484,
   "id": "a7816e5b",
   "metadata": {},
   "outputs": [],
   "source": [
    "ratio = 0.8\n",
    "train_mask = {i for i in range(int(ratio*82200), 120000)} \n",
    "test_mask = {i for i in range(int(ratio*82200))}"
   ]
  },
  {
   "cell_type": "code",
   "execution_count": 485,
   "id": "d9b40ceb",
   "metadata": {},
   "outputs": [
    {
     "data": {
      "text/plain": [
       "6"
      ]
     },
     "execution_count": 485,
     "metadata": {},
     "output_type": "execute_result"
    }
   ],
   "source": [
    "max(encoded_dates[:, 1])"
   ]
  },
  {
   "cell_type": "code",
   "execution_count": 486,
   "id": "cca6f66b",
   "metadata": {},
   "outputs": [],
   "source": [
    "trainY = torch.Tensor(Y).cuda()"
   ]
  },
  {
   "cell_type": "code",
   "execution_count": 487,
   "id": "12fcbeed",
   "metadata": {},
   "outputs": [
    {
     "data": {
      "text/plain": [
       "torch.Size([82202, 40])"
      ]
     },
     "execution_count": 487,
     "metadata": {},
     "output_type": "execute_result"
    }
   ],
   "source": [
    "link_embs_tensor = torch.Tensor(link_embeddings_wrt_routes).cuda()\n",
    "link_embs_tensor.shape"
   ]
  },
  {
   "cell_type": "code",
   "execution_count": 488,
   "id": "62fcdb23",
   "metadata": {},
   "outputs": [
    {
     "data": {
      "text/plain": [
       "device(type='cpu')"
      ]
     },
     "execution_count": 488,
     "metadata": {},
     "output_type": "execute_result"
    }
   ],
   "source": [
    "s.device"
   ]
  },
  {
   "cell_type": "code",
   "execution_count": null,
   "id": "0d8a731b",
   "metadata": {},
   "outputs": [
    {
     "name": "stderr",
     "output_type": "stream",
     "text": [
      "100%|██████████| 900/900 [01:00<00:00, 14.92it/s]\n",
      "100%|██████████| 31/31 [00:00<00:00, 452.80it/s]\n"
     ]
    },
    {
     "name": "stdout",
     "output_type": "stream",
     "text": [
      "cuda:0 cuda:0\n",
      "cuda:0 cuda:0\n",
      "0 tensor([918.5672], device='cuda:0', grad_fn=<AddBackward0>)\n"
     ]
    },
    {
     "name": "stderr",
     "output_type": "stream",
     "text": [
      "100%|██████████| 900/900 [00:58<00:00, 15.47it/s]\n",
      "100%|██████████| 31/31 [00:00<00:00, 344.43it/s]\n"
     ]
    },
    {
     "name": "stdout",
     "output_type": "stream",
     "text": [
      "cuda:0 cuda:0\n",
      "cuda:0 cuda:0\n",
      "1 tensor([857.8806], device='cuda:0', grad_fn=<AddBackward0>)\n"
     ]
    },
    {
     "name": "stderr",
     "output_type": "stream",
     "text": [
      "100%|██████████| 900/900 [00:57<00:00, 15.52it/s]\n",
      "100%|██████████| 31/31 [00:00<00:00, 426.72it/s]\n"
     ]
    },
    {
     "name": "stdout",
     "output_type": "stream",
     "text": [
      "cuda:0 cuda:0\n",
      "cuda:0 cuda:0\n",
      "2 tensor([799.8287], device='cuda:0', grad_fn=<AddBackward0>)\n"
     ]
    },
    {
     "name": "stderr",
     "output_type": "stream",
     "text": [
      "100%|██████████| 900/900 [00:57<00:00, 15.54it/s]\n",
      "100%|██████████| 31/31 [00:00<00:00, 463.71it/s]\n"
     ]
    },
    {
     "name": "stdout",
     "output_type": "stream",
     "text": [
      "cuda:0 cuda:0\n",
      "cuda:0 cuda:0\n",
      "3 tensor([742.8257], device='cuda:0', grad_fn=<AddBackward0>)\n"
     ]
    },
    {
     "name": "stderr",
     "output_type": "stream",
     "text": [
      "100%|██████████| 900/900 [00:58<00:00, 15.46it/s]\n",
      "100%|██████████| 31/31 [00:00<00:00, 429.93it/s]\n"
     ]
    },
    {
     "name": "stdout",
     "output_type": "stream",
     "text": [
      "cuda:0 cuda:0\n",
      "cuda:0 cuda:0\n",
      "4 tensor([685.3646], device='cuda:0', grad_fn=<AddBackward0>)\n"
     ]
    },
    {
     "name": "stderr",
     "output_type": "stream",
     "text": [
      "100%|██████████| 900/900 [00:57<00:00, 15.53it/s]\n",
      "100%|██████████| 31/31 [00:00<00:00, 466.49it/s]\n"
     ]
    },
    {
     "name": "stdout",
     "output_type": "stream",
     "text": [
      "cuda:0 cuda:0\n",
      "cuda:0 cuda:0\n",
      "5 tensor([630.8112], device='cuda:0', grad_fn=<AddBackward0>)\n"
     ]
    },
    {
     "name": "stderr",
     "output_type": "stream",
     "text": [
      "100%|██████████| 900/900 [00:58<00:00, 15.31it/s]\n",
      "100%|██████████| 31/31 [00:00<00:00, 447.85it/s]\n"
     ]
    },
    {
     "name": "stdout",
     "output_type": "stream",
     "text": [
      "cuda:0 cuda:0\n",
      "cuda:0 cuda:0\n",
      "6 tensor([579.4969], device='cuda:0', grad_fn=<AddBackward0>)\n"
     ]
    },
    {
     "name": "stderr",
     "output_type": "stream",
     "text": [
      "100%|██████████| 900/900 [00:58<00:00, 15.33it/s]\n",
      "100%|██████████| 31/31 [00:00<00:00, 465.82it/s]\n"
     ]
    },
    {
     "name": "stdout",
     "output_type": "stream",
     "text": [
      "cuda:0 cuda:0\n",
      "cuda:0 cuda:0\n",
      "7 tensor([531.9420], device='cuda:0', grad_fn=<AddBackward0>)\n"
     ]
    },
    {
     "name": "stderr",
     "output_type": "stream",
     "text": [
      "100%|██████████| 900/900 [00:58<00:00, 15.35it/s]\n",
      "100%|██████████| 31/31 [00:00<00:00, 461.21it/s]\n"
     ]
    },
    {
     "name": "stdout",
     "output_type": "stream",
     "text": [
      "cuda:0 cuda:0\n",
      "cuda:0 cuda:0\n",
      "8 tensor([488.8567], device='cuda:0', grad_fn=<AddBackward0>)\n"
     ]
    },
    {
     "name": "stderr",
     "output_type": "stream",
     "text": [
      "100%|██████████| 900/900 [00:59<00:00, 15.21it/s]\n",
      "100%|██████████| 31/31 [00:00<00:00, 461.21it/s]\n"
     ]
    },
    {
     "name": "stdout",
     "output_type": "stream",
     "text": [
      "cuda:0 cuda:0\n",
      "cuda:0 cuda:0\n",
      "9 tensor([450.6596], device='cuda:0', grad_fn=<AddBackward0>)\n"
     ]
    },
    {
     "name": "stderr",
     "output_type": "stream",
     "text": [
      "100%|██████████| 900/900 [00:58<00:00, 15.29it/s]\n",
      "100%|██████████| 31/31 [00:00<00:00, 461.16it/s]\n"
     ]
    },
    {
     "name": "stdout",
     "output_type": "stream",
     "text": [
      "cuda:0 cuda:0\n",
      "cuda:0 cuda:0\n",
      "10 tensor([417.4923], device='cuda:0', grad_fn=<AddBackward0>)\n"
     ]
    },
    {
     "name": "stderr",
     "output_type": "stream",
     "text": [
      "100%|██████████| 900/900 [00:59<00:00, 15.25it/s]\n",
      "100%|██████████| 31/31 [00:00<00:00, 454.69it/s]\n"
     ]
    },
    {
     "name": "stdout",
     "output_type": "stream",
     "text": [
      "cuda:0 cuda:0\n",
      "cuda:0 cuda:0\n",
      "11 tensor([389.1178], device='cuda:0', grad_fn=<AddBackward0>)\n"
     ]
    },
    {
     "name": "stderr",
     "output_type": "stream",
     "text": [
      "100%|██████████| 900/900 [00:59<00:00, 15.14it/s]\n",
      "100%|██████████| 31/31 [00:00<00:00, 472.15it/s]\n"
     ]
    },
    {
     "name": "stdout",
     "output_type": "stream",
     "text": [
      "cuda:0 cuda:0\n",
      "cuda:0 cuda:0\n",
      "12 tensor([365.1529], device='cuda:0', grad_fn=<AddBackward0>)\n"
     ]
    },
    {
     "name": "stderr",
     "output_type": "stream",
     "text": [
      "100%|██████████| 900/900 [00:58<00:00, 15.26it/s]\n",
      "100%|██████████| 31/31 [00:00<00:00, 459.99it/s]\n"
     ]
    },
    {
     "name": "stdout",
     "output_type": "stream",
     "text": [
      "cuda:0 cuda:0\n",
      "cuda:0 cuda:0\n",
      "13 tensor([344.8575], device='cuda:0', grad_fn=<AddBackward0>)\n"
     ]
    },
    {
     "name": "stderr",
     "output_type": "stream",
     "text": [
      "  4%|▎         | 33/900 [00:02<01:04, 13.37it/s]"
     ]
    }
   ],
   "source": [
    "temporal_adj_matrix = np.array(nx.adjacency_matrix(T).todense())\n",
    "spatial_adj_matrix = np.array(nx.adjacency_matrix(G).todense())\n",
    "\n",
    "alpha = 0.2\n",
    "\n",
    "model.train()\n",
    "for epoch in range(num_epochs):\n",
    "    outputs, s, t = model(link_embs_tensor, spatial_adj_matrix, encoded_positions, temporal_adj_matrix, encoded_dates)\n",
    "    optimizer.zero_grad()\n",
    "    loss = criterion(outputs, trainY.unsqueeze(-1)) + alpha*s + alpha*t\n",
    "    loss.backward()\n",
    "    optimizer.step()\n",
    "    print(epoch, loss)"
   ]
  },
  {
   "cell_type": "code",
   "execution_count": 449,
   "id": "f1091bf8",
   "metadata": {},
   "outputs": [
    {
     "name": "stdout",
     "output_type": "stream",
     "text": [
      "> \u001b[0;32m/home/user/conda/lib/python3.7/site-packages/torch/nn/functional.py\u001b[0m(1610)\u001b[0;36mlinear\u001b[0;34m()\u001b[0m\n",
      "\u001b[0;32m   1608 \u001b[0;31m    \u001b[0;32mif\u001b[0m \u001b[0minput\u001b[0m\u001b[0;34m.\u001b[0m\u001b[0mdim\u001b[0m\u001b[0;34m(\u001b[0m\u001b[0;34m)\u001b[0m \u001b[0;34m==\u001b[0m \u001b[0;36m2\u001b[0m \u001b[0;32mand\u001b[0m \u001b[0mbias\u001b[0m \u001b[0;32mis\u001b[0m \u001b[0;32mnot\u001b[0m \u001b[0;32mNone\u001b[0m\u001b[0;34m:\u001b[0m\u001b[0;34m\u001b[0m\u001b[0;34m\u001b[0m\u001b[0m\n",
      "\u001b[0m\u001b[0;32m   1609 \u001b[0;31m        \u001b[0;31m# fused op is marginally faster\u001b[0m\u001b[0;34m\u001b[0m\u001b[0;34m\u001b[0m\u001b[0;34m\u001b[0m\u001b[0m\n",
      "\u001b[0m\u001b[0;32m-> 1610 \u001b[0;31m        \u001b[0mret\u001b[0m \u001b[0;34m=\u001b[0m \u001b[0mtorch\u001b[0m\u001b[0;34m.\u001b[0m\u001b[0maddmm\u001b[0m\u001b[0;34m(\u001b[0m\u001b[0mbias\u001b[0m\u001b[0;34m,\u001b[0m \u001b[0minput\u001b[0m\u001b[0;34m,\u001b[0m \u001b[0mweight\u001b[0m\u001b[0;34m.\u001b[0m\u001b[0mt\u001b[0m\u001b[0;34m(\u001b[0m\u001b[0;34m)\u001b[0m\u001b[0;34m)\u001b[0m\u001b[0;34m\u001b[0m\u001b[0;34m\u001b[0m\u001b[0m\n",
      "\u001b[0m\u001b[0;32m   1611 \u001b[0;31m    \u001b[0;32melse\u001b[0m\u001b[0;34m:\u001b[0m\u001b[0;34m\u001b[0m\u001b[0;34m\u001b[0m\u001b[0m\n",
      "\u001b[0m\u001b[0;32m   1612 \u001b[0;31m        \u001b[0moutput\u001b[0m \u001b[0;34m=\u001b[0m \u001b[0minput\u001b[0m\u001b[0;34m.\u001b[0m\u001b[0mmatmul\u001b[0m\u001b[0;34m(\u001b[0m\u001b[0mweight\u001b[0m\u001b[0;34m.\u001b[0m\u001b[0mt\u001b[0m\u001b[0;34m(\u001b[0m\u001b[0;34m)\u001b[0m\u001b[0;34m)\u001b[0m\u001b[0;34m\u001b[0m\u001b[0;34m\u001b[0m\u001b[0m\n",
      "\u001b[0m\n",
      "ipdb> exit\n"
     ]
    }
   ],
   "source": [
    "%debug"
   ]
  },
  {
   "cell_type": "code",
   "execution_count": null,
   "id": "8b47b320",
   "metadata": {},
   "outputs": [],
   "source": [
    "link_embeddings, spatial_adj_matrix, spatial_indices, temporal_adj_matrix, temporal_indices"
   ]
  },
  {
   "cell_type": "code",
   "execution_count": 404,
   "id": "ef512d0d",
   "metadata": {},
   "outputs": [
    {
     "data": {
      "text/plain": [
       "0"
      ]
     },
     "execution_count": 404,
     "metadata": {},
     "output_type": "execute_result"
    }
   ],
   "source": [
    "epoch"
   ]
  },
  {
   "cell_type": "code",
   "execution_count": null,
   "id": "71248ed3",
   "metadata": {},
   "outputs": [],
   "source": []
  },
  {
   "cell_type": "code",
   "execution_count": 113,
   "id": "31ab933b",
   "metadata": {},
   "outputs": [
    {
     "name": "stderr",
     "output_type": "stream",
     "text": [
      "100%|██████████| 225/225 [00:25<00:00,  8.72it/s]\n",
      "100%|██████████| 225/225 [00:13<00:00, 17.02it/s]\n"
     ]
    },
    {
     "name": "stdout",
     "output_type": "stream",
     "text": [
      "0 {'train_MAE': 489.5816154649523} {'test_MAE': 273.5765378994412}\n"
     ]
    },
    {
     "name": "stderr",
     "output_type": "stream",
     "text": [
      "100%|██████████| 225/225 [00:25<00:00,  8.93it/s]\n",
      "100%|██████████| 225/225 [00:13<00:00, 16.42it/s] \n"
     ]
    },
    {
     "name": "stdout",
     "output_type": "stream",
     "text": [
      "1 {'train_MAE': 328.7494549899631} {'test_MAE': 369.3745949130588}\n"
     ]
    },
    {
     "name": "stderr",
     "output_type": "stream",
     "text": [
      "100%|██████████| 225/225 [00:25<00:00,  8.93it/s]\n",
      "100%|██████████| 225/225 [00:14<00:00, 15.19it/s] \n"
     ]
    },
    {
     "name": "stdout",
     "output_type": "stream",
     "text": [
      "2 {'train_MAE': 461.64828269110785} {'test_MAE': 371.2703334384494}\n"
     ]
    },
    {
     "name": "stderr",
     "output_type": "stream",
     "text": [
      "100%|██████████| 225/225 [00:25<00:00,  8.97it/s]\n",
      "100%|██████████| 225/225 [00:14<00:00, 15.94it/s] \n"
     ]
    },
    {
     "name": "stdout",
     "output_type": "stream",
     "text": [
      "3 {'train_MAE': 511.4765318637424} {'test_MAE': 236.90262736002603}\n"
     ]
    },
    {
     "name": "stderr",
     "output_type": "stream",
     "text": [
      "100%|██████████| 225/225 [00:25<00:00,  8.71it/s]\n",
      "100%|██████████| 225/225 [00:14<00:00, 15.26it/s] \n"
     ]
    },
    {
     "name": "stdout",
     "output_type": "stream",
     "text": [
      "4 {'train_MAE': 340.24128941853843} {'test_MAE': 228.59674002753363}\n"
     ]
    },
    {
     "name": "stderr",
     "output_type": "stream",
     "text": [
      "100%|██████████| 225/225 [00:25<00:00,  8.92it/s]\n",
      "100%|██████████| 225/225 [00:14<00:00, 15.86it/s]\n"
     ]
    },
    {
     "name": "stdout",
     "output_type": "stream",
     "text": [
      "5 {'train_MAE': 353.98450037638344} {'test_MAE': 263.56873708089194}\n"
     ]
    },
    {
     "name": "stderr",
     "output_type": "stream",
     "text": [
      "100%|██████████| 225/225 [00:25<00:00,  8.97it/s]\n",
      "100%|██████████| 225/225 [00:13<00:00, 16.86it/s]\n"
     ]
    },
    {
     "name": "stdout",
     "output_type": "stream",
     "text": [
      "6 {'train_MAE': 361.34044445461694} {'test_MAE': 283.07451651679145}\n"
     ]
    },
    {
     "name": "stderr",
     "output_type": "stream",
     "text": [
      "100%|██████████| 225/225 [00:25<00:00,  8.99it/s]\n",
      "100%|██████████| 225/225 [00:13<00:00, 16.51it/s] \n"
     ]
    },
    {
     "name": "stdout",
     "output_type": "stream",
     "text": [
      "7 {'train_MAE': 335.2665064154731} {'test_MAE': 299.43805608113604}\n"
     ]
    },
    {
     "name": "stderr",
     "output_type": "stream",
     "text": [
      "100%|██████████| 225/225 [00:24<00:00,  9.12it/s]\n",
      "100%|██████████| 225/225 [00:14<00:00, 15.83it/s] \n"
     ]
    },
    {
     "name": "stdout",
     "output_type": "stream",
     "text": [
      "8 {'train_MAE': 340.5997260708279} {'test_MAE': 251.78134318033855}\n"
     ]
    },
    {
     "name": "stderr",
     "output_type": "stream",
     "text": [
      "100%|██████████| 225/225 [00:25<00:00,  8.69it/s]\n",
      "100%|██████████| 225/225 [00:14<00:00, 15.93it/s] \n"
     ]
    },
    {
     "name": "stdout",
     "output_type": "stream",
     "text": [
      "9 {'train_MAE': 328.959036187066} {'test_MAE': 324.33760209825306}\n"
     ]
    },
    {
     "name": "stderr",
     "output_type": "stream",
     "text": [
      "100%|██████████| 225/225 [00:25<00:00,  8.83it/s]\n",
      "100%|██████████| 225/225 [00:14<00:00, 15.94it/s] \n"
     ]
    },
    {
     "name": "stdout",
     "output_type": "stream",
     "text": [
      "10 {'train_MAE': 353.914564581977} {'test_MAE': 232.81061986287435}\n"
     ]
    },
    {
     "name": "stderr",
     "output_type": "stream",
     "text": [
      "100%|██████████| 225/225 [00:25<00:00,  8.84it/s]\n",
      "100%|██████████| 225/225 [00:13<00:00, 16.26it/s]\n"
     ]
    },
    {
     "name": "stdout",
     "output_type": "stream",
     "text": [
      "11 {'train_MAE': 294.45272618611654} {'test_MAE': 219.3668361409505}\n"
     ]
    },
    {
     "name": "stderr",
     "output_type": "stream",
     "text": [
      "100%|██████████| 225/225 [00:25<00:00,  8.88it/s]\n",
      "100%|██████████| 225/225 [00:13<00:00, 16.58it/s] \n"
     ]
    },
    {
     "name": "stdout",
     "output_type": "stream",
     "text": [
      "12 {'train_MAE': 304.93553007337783} {'test_MAE': 228.75451799180772}\n"
     ]
    },
    {
     "name": "stderr",
     "output_type": "stream",
     "text": [
      "100%|██████████| 225/225 [00:26<00:00,  8.60it/s]\n",
      "100%|██████████| 225/225 [00:14<00:00, 15.70it/s] \n"
     ]
    },
    {
     "name": "stdout",
     "output_type": "stream",
     "text": [
      "13 {'train_MAE': 307.51138003879123} {'test_MAE': 297.37114045884874}\n"
     ]
    },
    {
     "name": "stderr",
     "output_type": "stream",
     "text": [
      "100%|██████████| 225/225 [00:24<00:00,  9.14it/s]\n",
      "100%|██████████| 225/225 [00:13<00:00, 16.33it/s] \n"
     ]
    },
    {
     "name": "stdout",
     "output_type": "stream",
     "text": [
      "14 {'train_MAE': 304.78695185343423} {'test_MAE': 222.19769912719727}\n"
     ]
    },
    {
     "name": "stderr",
     "output_type": "stream",
     "text": [
      "100%|██████████| 225/225 [00:24<00:00,  9.00it/s]\n",
      "100%|██████████| 225/225 [00:13<00:00, 16.63it/s] \n"
     ]
    },
    {
     "name": "stdout",
     "output_type": "stream",
     "text": [
      "15 {'train_MAE': 332.72744330512154} {'test_MAE': 246.77933568318684}\n"
     ]
    },
    {
     "name": "stderr",
     "output_type": "stream",
     "text": [
      "100%|██████████| 225/225 [00:24<00:00,  9.05it/s]\n",
      "100%|██████████| 225/225 [00:14<00:00, 15.93it/s] \n"
     ]
    },
    {
     "name": "stdout",
     "output_type": "stream",
     "text": [
      "16 {'train_MAE': 293.94775851779514} {'test_MAE': 302.81363018459746}\n"
     ]
    },
    {
     "name": "stderr",
     "output_type": "stream",
     "text": [
      "100%|██████████| 225/225 [00:24<00:00,  9.05it/s]\n",
      "100%|██████████| 225/225 [00:13<00:00, 16.89it/s] \n"
     ]
    },
    {
     "name": "stdout",
     "output_type": "stream",
     "text": [
      "17 {'train_MAE': 318.1692540147569} {'test_MAE': 239.70462290445963}\n"
     ]
    },
    {
     "name": "stderr",
     "output_type": "stream",
     "text": [
      "100%|██████████| 225/225 [00:25<00:00,  8.90it/s]\n",
      "100%|██████████| 225/225 [00:13<00:00, 16.17it/s] \n"
     ]
    },
    {
     "name": "stdout",
     "output_type": "stream",
     "text": [
      "18 {'train_MAE': 311.9480675930447} {'test_MAE': 244.06914877997505}\n"
     ]
    },
    {
     "name": "stderr",
     "output_type": "stream",
     "text": [
      "100%|██████████| 225/225 [00:25<00:00,  8.85it/s]\n",
      "100%|██████████| 225/225 [00:14<00:00, 15.53it/s] \n"
     ]
    },
    {
     "name": "stdout",
     "output_type": "stream",
     "text": [
      "19 {'train_MAE': 324.4009492323134} {'test_MAE': 225.89145670572915}\n"
     ]
    },
    {
     "name": "stderr",
     "output_type": "stream",
     "text": [
      "100%|██████████| 225/225 [00:25<00:00,  8.90it/s]\n",
      "100%|██████████| 225/225 [00:13<00:00, 16.16it/s] \n"
     ]
    },
    {
     "name": "stdout",
     "output_type": "stream",
     "text": [
      "20 {'train_MAE': 328.21813320583766} {'test_MAE': 320.77834262424045}\n"
     ]
    },
    {
     "name": "stderr",
     "output_type": "stream",
     "text": [
      "100%|██████████| 225/225 [00:25<00:00,  8.72it/s]\n",
      "100%|██████████| 225/225 [00:13<00:00, 16.19it/s] \n"
     ]
    },
    {
     "name": "stdout",
     "output_type": "stream",
     "text": [
      "21 {'train_MAE': 307.6688671535916} {'test_MAE': 213.2446683078342}\n"
     ]
    },
    {
     "name": "stderr",
     "output_type": "stream",
     "text": [
      "100%|██████████| 225/225 [00:25<00:00,  8.80it/s]\n",
      "100%|██████████| 225/225 [00:14<00:00, 15.59it/s]\n"
     ]
    },
    {
     "name": "stdout",
     "output_type": "stream",
     "text": [
      "22 {'train_MAE': 323.4502533976237} {'test_MAE': 318.64207729763456}\n"
     ]
    },
    {
     "name": "stderr",
     "output_type": "stream",
     "text": [
      "100%|██████████| 225/225 [00:25<00:00,  8.87it/s]\n",
      "100%|██████████| 225/225 [00:13<00:00, 16.29it/s] \n"
     ]
    },
    {
     "name": "stdout",
     "output_type": "stream",
     "text": [
      "23 {'train_MAE': 309.2405639648438} {'test_MAE': 229.42875484890408}\n"
     ]
    },
    {
     "name": "stderr",
     "output_type": "stream",
     "text": [
      "100%|██████████| 225/225 [00:24<00:00,  9.01it/s]\n",
      "100%|██████████| 225/225 [00:14<00:00, 15.19it/s] \n"
     ]
    },
    {
     "name": "stdout",
     "output_type": "stream",
     "text": [
      "24 {'train_MAE': 327.16859144422745} {'test_MAE': 322.108306511773}\n"
     ]
    },
    {
     "name": "stderr",
     "output_type": "stream",
     "text": [
      "100%|██████████| 225/225 [00:25<00:00,  8.73it/s]\n",
      "100%|██████████| 225/225 [00:14<00:00, 15.18it/s] \n"
     ]
    },
    {
     "name": "stdout",
     "output_type": "stream",
     "text": [
      "25 {'train_MAE': 283.6801249186198} {'test_MAE': 240.96335042317708}\n"
     ]
    },
    {
     "name": "stderr",
     "output_type": "stream",
     "text": [
      "100%|██████████| 225/225 [00:25<00:00,  8.97it/s]\n",
      "100%|██████████| 225/225 [00:15<00:00, 14.66it/s]\n"
     ]
    },
    {
     "name": "stdout",
     "output_type": "stream",
     "text": [
      "26 {'train_MAE': 278.49058064778643} {'test_MAE': 247.3914333258735}\n"
     ]
    },
    {
     "name": "stderr",
     "output_type": "stream",
     "text": [
      "100%|██████████| 225/225 [00:25<00:00,  8.83it/s]\n",
      "100%|██████████| 225/225 [00:14<00:00, 15.97it/s] \n"
     ]
    },
    {
     "name": "stdout",
     "output_type": "stream",
     "text": [
      "27 {'train_MAE': 326.8445289781358} {'test_MAE': 250.45934865315755}\n"
     ]
    },
    {
     "name": "stderr",
     "output_type": "stream",
     "text": [
      "100%|██████████| 225/225 [00:25<00:00,  8.86it/s]\n",
      "100%|██████████| 225/225 [00:14<00:00, 15.62it/s] \n"
     ]
    },
    {
     "name": "stdout",
     "output_type": "stream",
     "text": [
      "28 {'train_MAE': 283.78186313205293} {'test_MAE': 239.15640867445205}\n"
     ]
    },
    {
     "name": "stderr",
     "output_type": "stream",
     "text": [
      "100%|██████████| 225/225 [00:24<00:00,  9.11it/s]\n",
      "100%|██████████| 225/225 [00:14<00:00, 15.73it/s]\n"
     ]
    },
    {
     "name": "stdout",
     "output_type": "stream",
     "text": [
      "29 {'train_MAE': 279.09865834554034} {'test_MAE': 264.404601304796}\n"
     ]
    },
    {
     "name": "stderr",
     "output_type": "stream",
     "text": [
      "100%|██████████| 225/225 [00:26<00:00,  8.63it/s]\n",
      "100%|██████████| 225/225 [00:14<00:00, 15.60it/s] \n"
     ]
    },
    {
     "name": "stdout",
     "output_type": "stream",
     "text": [
      "30 {'train_MAE': 294.33859649658206} {'test_MAE': 288.4171528116862}\n"
     ]
    },
    {
     "name": "stderr",
     "output_type": "stream",
     "text": [
      "100%|██████████| 225/225 [00:25<00:00,  8.72it/s]\n",
      "100%|██████████| 225/225 [00:14<00:00, 15.43it/s] \n"
     ]
    },
    {
     "name": "stdout",
     "output_type": "stream",
     "text": [
      "31 {'train_MAE': 308.43726145426433} {'test_MAE': 204.12507334391276}\n"
     ]
    },
    {
     "name": "stderr",
     "output_type": "stream",
     "text": [
      "100%|██████████| 225/225 [00:24<00:00,  9.12it/s]\n",
      "100%|██████████| 225/225 [00:14<00:00, 15.71it/s] \n"
     ]
    },
    {
     "name": "stdout",
     "output_type": "stream",
     "text": [
      "32 {'train_MAE': 285.44376692030164} {'test_MAE': 203.38324829101563}\n"
     ]
    },
    {
     "name": "stderr",
     "output_type": "stream",
     "text": [
      "100%|██████████| 225/225 [00:25<00:00,  8.87it/s]\n",
      "100%|██████████| 225/225 [00:13<00:00, 16.41it/s] \n"
     ]
    },
    {
     "name": "stdout",
     "output_type": "stream",
     "text": [
      "33 {'train_MAE': 318.2769142659505} {'test_MAE': 410.59354668511287}\n"
     ]
    },
    {
     "name": "stderr",
     "output_type": "stream",
     "text": [
      "100%|██████████| 225/225 [00:25<00:00,  8.93it/s]\n",
      "100%|██████████| 225/225 [00:14<00:00, 15.83it/s] \n"
     ]
    },
    {
     "name": "stdout",
     "output_type": "stream",
     "text": [
      "34 {'train_MAE': 278.4948094346788} {'test_MAE': 205.56681047227647}\n"
     ]
    },
    {
     "name": "stderr",
     "output_type": "stream",
     "text": [
      "100%|██████████| 225/225 [00:24<00:00,  9.16it/s]\n",
      "100%|██████████| 225/225 [00:14<00:00, 15.56it/s]\n"
     ]
    },
    {
     "name": "stdout",
     "output_type": "stream",
     "text": [
      "35 {'train_MAE': 301.32797658284505} {'test_MAE': 221.19911031087238}\n"
     ]
    },
    {
     "name": "stderr",
     "output_type": "stream",
     "text": [
      "100%|██████████| 225/225 [00:25<00:00,  8.94it/s]\n",
      "100%|██████████| 225/225 [00:14<00:00, 15.68it/s] \n"
     ]
    },
    {
     "name": "stdout",
     "output_type": "stream",
     "text": [
      "36 {'train_MAE': 280.7252377319336} {'test_MAE': 243.88542805989584}\n"
     ]
    },
    {
     "name": "stderr",
     "output_type": "stream",
     "text": [
      "100%|██████████| 225/225 [00:25<00:00,  8.86it/s]\n",
      "100%|██████████| 225/225 [00:14<00:00, 15.72it/s] \n"
     ]
    },
    {
     "name": "stdout",
     "output_type": "stream",
     "text": [
      "37 {'train_MAE': 280.8797422281901} {'test_MAE': 233.7019489542643}\n"
     ]
    },
    {
     "name": "stderr",
     "output_type": "stream",
     "text": [
      "100%|██████████| 225/225 [00:25<00:00,  8.90it/s]\n",
      "100%|██████████| 225/225 [00:13<00:00, 16.78it/s]\n"
     ]
    },
    {
     "name": "stdout",
     "output_type": "stream",
     "text": [
      "38 {'train_MAE': 317.8576113213433} {'test_MAE': 347.1805241902669}\n"
     ]
    },
    {
     "name": "stderr",
     "output_type": "stream",
     "text": [
      "100%|██████████| 225/225 [00:25<00:00,  8.95it/s]\n",
      "100%|██████████| 225/225 [00:13<00:00, 16.11it/s]\n"
     ]
    },
    {
     "name": "stdout",
     "output_type": "stream",
     "text": [
      "39 {'train_MAE': 284.1077346462674} {'test_MAE': 210.06633541531033}\n"
     ]
    },
    {
     "name": "stderr",
     "output_type": "stream",
     "text": [
      "100%|██████████| 225/225 [00:25<00:00,  8.95it/s]\n",
      "100%|██████████| 225/225 [00:14<00:00, 15.77it/s] \n"
     ]
    },
    {
     "name": "stdout",
     "output_type": "stream",
     "text": [
      "40 {'train_MAE': 277.90894100613065} {'test_MAE': 200.48914608425565}\n"
     ]
    },
    {
     "name": "stderr",
     "output_type": "stream",
     "text": [
      "100%|██████████| 225/225 [00:24<00:00,  9.00it/s]\n",
      "100%|██████████| 225/225 [00:14<00:00, 15.83it/s]\n"
     ]
    },
    {
     "name": "stdout",
     "output_type": "stream",
     "text": [
      "41 {'train_MAE': 284.7489400906033} {'test_MAE': 223.0327173529731}\n"
     ]
    },
    {
     "name": "stderr",
     "output_type": "stream",
     "text": [
      "100%|██████████| 225/225 [00:25<00:00,  8.83it/s]\n",
      "100%|██████████| 225/225 [00:14<00:00, 15.58it/s] \n"
     ]
    },
    {
     "name": "stdout",
     "output_type": "stream",
     "text": [
      "42 {'train_MAE': 290.5626956854926} {'test_MAE': 203.52756130642362}\n"
     ]
    },
    {
     "name": "stderr",
     "output_type": "stream",
     "text": [
      "100%|██████████| 225/225 [00:26<00:00,  8.64it/s]\n",
      "100%|██████████| 225/225 [00:13<00:00, 16.15it/s] \n"
     ]
    },
    {
     "name": "stdout",
     "output_type": "stream",
     "text": [
      "43 {'train_MAE': 307.18622331407335} {'test_MAE': 252.3339000108507}\n"
     ]
    },
    {
     "name": "stderr",
     "output_type": "stream",
     "text": [
      "100%|██████████| 225/225 [00:25<00:00,  8.66it/s]\n",
      "100%|██████████| 225/225 [00:13<00:00, 16.28it/s] \n"
     ]
    },
    {
     "name": "stdout",
     "output_type": "stream",
     "text": [
      "44 {'train_MAE': 285.8931240505642} {'test_MAE': 219.97893720838758}\n"
     ]
    },
    {
     "name": "stderr",
     "output_type": "stream",
     "text": [
      "100%|██████████| 225/225 [00:24<00:00,  9.08it/s]\n",
      "100%|██████████| 225/225 [00:14<00:00, 16.02it/s]\n"
     ]
    },
    {
     "name": "stdout",
     "output_type": "stream",
     "text": [
      "45 {'train_MAE': 289.10981502956815} {'test_MAE': 207.63427117241753}\n"
     ]
    },
    {
     "name": "stderr",
     "output_type": "stream",
     "text": [
      "100%|██████████| 225/225 [00:25<00:00,  8.77it/s]\n",
      "100%|██████████| 225/225 [00:13<00:00, 17.27it/s] \n"
     ]
    },
    {
     "name": "stdout",
     "output_type": "stream",
     "text": [
      "46 {'train_MAE': 271.35394982231986} {'test_MAE': 203.21662055121527}\n"
     ]
    },
    {
     "name": "stderr",
     "output_type": "stream",
     "text": [
      "100%|██████████| 225/225 [00:25<00:00,  8.81it/s]\n",
      "100%|██████████| 225/225 [00:13<00:00, 16.27it/s] \n"
     ]
    },
    {
     "name": "stdout",
     "output_type": "stream",
     "text": [
      "47 {'train_MAE': 302.18707875569663} {'test_MAE': 259.4832622612847}\n"
     ]
    },
    {
     "name": "stderr",
     "output_type": "stream",
     "text": [
      "100%|██████████| 225/225 [00:25<00:00,  8.88it/s]\n",
      "100%|██████████| 225/225 [00:13<00:00, 16.32it/s] \n"
     ]
    },
    {
     "name": "stdout",
     "output_type": "stream",
     "text": [
      "48 {'train_MAE': 316.08882568359377} {'test_MAE': 340.8963451809353}\n"
     ]
    },
    {
     "name": "stderr",
     "output_type": "stream",
     "text": [
      "100%|██████████| 225/225 [00:24<00:00,  9.04it/s]\n",
      "100%|██████████| 225/225 [00:14<00:00, 15.95it/s] \n"
     ]
    },
    {
     "name": "stdout",
     "output_type": "stream",
     "text": [
      "49 {'train_MAE': 300.4181499226888} {'test_MAE': 221.2637011379666}\n"
     ]
    },
    {
     "name": "stderr",
     "output_type": "stream",
     "text": [
      "100%|██████████| 225/225 [00:25<00:00,  8.87it/s]\n",
      "100%|██████████| 225/225 [00:13<00:00, 16.37it/s] \n"
     ]
    },
    {
     "name": "stdout",
     "output_type": "stream",
     "text": [
      "50 {'train_MAE': 275.92505520290797} {'test_MAE': 222.49572330050998}\n"
     ]
    },
    {
     "name": "stderr",
     "output_type": "stream",
     "text": [
      "100%|██████████| 225/225 [00:25<00:00,  8.86it/s]\n",
      "100%|██████████| 225/225 [00:13<00:00, 16.08it/s] \n"
     ]
    },
    {
     "name": "stdout",
     "output_type": "stream",
     "text": [
      "51 {'train_MAE': 298.7178366088867} {'test_MAE': 214.60465671115452}\n"
     ]
    },
    {
     "name": "stderr",
     "output_type": "stream",
     "text": [
      "100%|██████████| 225/225 [00:25<00:00,  8.93it/s]\n",
      "100%|██████████| 225/225 [00:13<00:00, 16.63it/s] \n"
     ]
    },
    {
     "name": "stdout",
     "output_type": "stream",
     "text": [
      "52 {'train_MAE': 278.6909752400716} {'test_MAE': 196.6785625881619}\n"
     ]
    },
    {
     "name": "stderr",
     "output_type": "stream",
     "text": [
      "100%|██████████| 225/225 [00:25<00:00,  8.92it/s]\n",
      "100%|██████████| 225/225 [00:13<00:00, 16.29it/s] \n"
     ]
    },
    {
     "name": "stdout",
     "output_type": "stream",
     "text": [
      "53 {'train_MAE': 278.20135586208767} {'test_MAE': 210.77910512288412}\n"
     ]
    },
    {
     "name": "stderr",
     "output_type": "stream",
     "text": [
      "100%|██████████| 225/225 [00:25<00:00,  8.94it/s]\n",
      "100%|██████████| 225/225 [00:14<00:00, 15.71it/s] \n"
     ]
    },
    {
     "name": "stdout",
     "output_type": "stream",
     "text": [
      "54 {'train_MAE': 280.3000519137912} {'test_MAE': 197.22637068006728}\n"
     ]
    },
    {
     "name": "stderr",
     "output_type": "stream",
     "text": [
      "100%|██████████| 225/225 [00:24<00:00,  9.11it/s]\n",
      "100%|██████████| 225/225 [00:14<00:00, 15.84it/s]\n"
     ]
    },
    {
     "name": "stdout",
     "output_type": "stream",
     "text": [
      "55 {'train_MAE': 271.76891462537975} {'test_MAE': 198.77767032199435}\n"
     ]
    },
    {
     "name": "stderr",
     "output_type": "stream",
     "text": [
      "100%|██████████| 225/225 [00:24<00:00,  9.04it/s]\n",
      "100%|██████████| 225/225 [00:14<00:00, 15.72it/s] \n"
     ]
    },
    {
     "name": "stdout",
     "output_type": "stream",
     "text": [
      "56 {'train_MAE': 317.22057067871094} {'test_MAE': 231.93814785427517}\n"
     ]
    },
    {
     "name": "stderr",
     "output_type": "stream",
     "text": [
      "100%|██████████| 225/225 [00:24<00:00,  9.03it/s]\n",
      "100%|██████████| 225/225 [00:14<00:00, 15.88it/s] \n"
     ]
    },
    {
     "name": "stdout",
     "output_type": "stream",
     "text": [
      "57 {'train_MAE': 278.30695288764105} {'test_MAE': 200.44143886990017}\n"
     ]
    },
    {
     "name": "stderr",
     "output_type": "stream",
     "text": [
      "100%|██████████| 225/225 [00:24<00:00,  9.02it/s]\n",
      "100%|██████████| 225/225 [00:14<00:00, 15.89it/s] \n"
     ]
    },
    {
     "name": "stdout",
     "output_type": "stream",
     "text": [
      "58 {'train_MAE': 294.02679609510636} {'test_MAE': 201.39539031982423}\n"
     ]
    },
    {
     "name": "stderr",
     "output_type": "stream",
     "text": [
      "100%|██████████| 225/225 [00:25<00:00,  8.96it/s]\n",
      "100%|██████████| 225/225 [00:13<00:00, 16.08it/s] \n"
     ]
    },
    {
     "name": "stdout",
     "output_type": "stream",
     "text": [
      "59 {'train_MAE': 306.518103773329} {'test_MAE': 225.73097042507595}\n"
     ]
    },
    {
     "name": "stderr",
     "output_type": "stream",
     "text": [
      "100%|██████████| 225/225 [00:25<00:00,  8.98it/s]\n",
      "100%|██████████| 225/225 [00:14<00:00, 15.81it/s] \n"
     ]
    },
    {
     "name": "stdout",
     "output_type": "stream",
     "text": [
      "60 {'train_MAE': 280.4470996432834} {'test_MAE': 199.00887647840713}\n"
     ]
    },
    {
     "name": "stderr",
     "output_type": "stream",
     "text": [
      "100%|██████████| 225/225 [00:25<00:00,  8.90it/s]\n",
      "100%|██████████| 225/225 [00:13<00:00, 16.07it/s] \n"
     ]
    },
    {
     "name": "stdout",
     "output_type": "stream",
     "text": [
      "61 {'train_MAE': 301.5739468383789} {'test_MAE': 208.29813303629558}\n"
     ]
    },
    {
     "name": "stderr",
     "output_type": "stream",
     "text": [
      "100%|██████████| 225/225 [00:24<00:00,  9.08it/s]\n",
      "100%|██████████| 225/225 [00:13<00:00, 16.27it/s] \n"
     ]
    },
    {
     "name": "stdout",
     "output_type": "stream",
     "text": [
      "62 {'train_MAE': 311.95487616644965} {'test_MAE': 383.32564710828996}\n"
     ]
    },
    {
     "name": "stderr",
     "output_type": "stream",
     "text": [
      "100%|██████████| 225/225 [00:25<00:00,  8.66it/s]\n",
      "100%|██████████| 225/225 [00:14<00:00, 15.84it/s] \n"
     ]
    },
    {
     "name": "stdout",
     "output_type": "stream",
     "text": [
      "63 {'train_MAE': 273.948157687717} {'test_MAE': 257.01770477294923}\n"
     ]
    },
    {
     "name": "stderr",
     "output_type": "stream",
     "text": [
      "100%|██████████| 225/225 [00:24<00:00,  9.04it/s]\n",
      "100%|██████████| 225/225 [00:13<00:00, 16.17it/s]\n"
     ]
    },
    {
     "name": "stdout",
     "output_type": "stream",
     "text": [
      "64 {'train_MAE': 272.32744062635635} {'test_MAE': 211.94688327365452}\n"
     ]
    },
    {
     "name": "stderr",
     "output_type": "stream",
     "text": [
      "100%|██████████| 225/225 [00:25<00:00,  8.79it/s]\n",
      "100%|██████████| 225/225 [00:13<00:00, 16.18it/s] \n"
     ]
    },
    {
     "name": "stdout",
     "output_type": "stream",
     "text": [
      "65 {'train_MAE': 299.8479568481445} {'test_MAE': 292.09742970784504}\n"
     ]
    },
    {
     "name": "stderr",
     "output_type": "stream",
     "text": [
      "100%|██████████| 225/225 [00:25<00:00,  8.86it/s]\n",
      "100%|██████████| 225/225 [00:14<00:00, 16.06it/s] \n"
     ]
    },
    {
     "name": "stdout",
     "output_type": "stream",
     "text": [
      "66 {'train_MAE': 295.35138926188154} {'test_MAE': 216.56211703830294}\n"
     ]
    },
    {
     "name": "stderr",
     "output_type": "stream",
     "text": [
      "100%|██████████| 225/225 [00:26<00:00,  8.63it/s]\n",
      "100%|██████████| 225/225 [00:14<00:00, 15.60it/s] \n"
     ]
    },
    {
     "name": "stdout",
     "output_type": "stream",
     "text": [
      "67 {'train_MAE': 302.81642452663846} {'test_MAE': 364.262562628852}\n"
     ]
    },
    {
     "name": "stderr",
     "output_type": "stream",
     "text": [
      "100%|██████████| 225/225 [00:25<00:00,  8.84it/s]\n",
      "100%|██████████| 225/225 [00:14<00:00, 15.67it/s] \n"
     ]
    },
    {
     "name": "stdout",
     "output_type": "stream",
     "text": [
      "68 {'train_MAE': 294.0737998453776} {'test_MAE': 224.7222479248047}\n"
     ]
    },
    {
     "name": "stderr",
     "output_type": "stream",
     "text": [
      "100%|██████████| 225/225 [00:24<00:00,  9.06it/s]\n",
      "100%|██████████| 225/225 [00:14<00:00, 15.73it/s] \n"
     ]
    },
    {
     "name": "stdout",
     "output_type": "stream",
     "text": [
      "69 {'train_MAE': 277.58795369466145} {'test_MAE': 219.25431087917752}\n"
     ]
    },
    {
     "name": "stderr",
     "output_type": "stream",
     "text": [
      "100%|██████████| 225/225 [00:25<00:00,  8.87it/s]\n",
      "100%|██████████| 225/225 [00:14<00:00, 16.03it/s]\n"
     ]
    },
    {
     "name": "stdout",
     "output_type": "stream",
     "text": [
      "70 {'train_MAE': 314.92255652533635} {'test_MAE': 373.90268669976126}\n"
     ]
    },
    {
     "name": "stderr",
     "output_type": "stream",
     "text": [
      "100%|██████████| 225/225 [00:24<00:00,  9.03it/s]\n",
      "100%|██████████| 225/225 [00:13<00:00, 16.57it/s] \n"
     ]
    },
    {
     "name": "stdout",
     "output_type": "stream",
     "text": [
      "71 {'train_MAE': 305.3325735812717} {'test_MAE': 284.4427411227756}\n"
     ]
    },
    {
     "name": "stderr",
     "output_type": "stream",
     "text": [
      "100%|██████████| 225/225 [00:24<00:00,  9.15it/s]\n",
      "100%|██████████| 225/225 [00:13<00:00, 16.17it/s] \n"
     ]
    },
    {
     "name": "stdout",
     "output_type": "stream",
     "text": [
      "72 {'train_MAE': 272.28545532226565} {'test_MAE': 205.32458567301433}\n"
     ]
    },
    {
     "name": "stderr",
     "output_type": "stream",
     "text": [
      "100%|██████████| 225/225 [00:25<00:00,  8.85it/s]\n",
      "100%|██████████| 225/225 [00:14<00:00, 15.55it/s] \n"
     ]
    },
    {
     "name": "stdout",
     "output_type": "stream",
     "text": [
      "73 {'train_MAE': 267.7525831434462} {'test_MAE': 242.12780398898656}\n"
     ]
    },
    {
     "name": "stderr",
     "output_type": "stream",
     "text": [
      "100%|██████████| 225/225 [00:25<00:00,  8.86it/s]\n",
      "100%|██████████| 225/225 [00:14<00:00, 15.83it/s] \n"
     ]
    },
    {
     "name": "stdout",
     "output_type": "stream",
     "text": [
      "74 {'train_MAE': 293.5881457519531} {'test_MAE': 198.48706678602431}\n"
     ]
    },
    {
     "name": "stderr",
     "output_type": "stream",
     "text": [
      "100%|██████████| 225/225 [00:25<00:00,  8.87it/s]\n",
      "100%|██████████| 225/225 [00:13<00:00, 16.52it/s] \n"
     ]
    },
    {
     "name": "stdout",
     "output_type": "stream",
     "text": [
      "75 {'train_MAE': 268.5878705851237} {'test_MAE': 217.67253865559897}\n"
     ]
    },
    {
     "name": "stderr",
     "output_type": "stream",
     "text": [
      "100%|██████████| 225/225 [00:24<00:00,  9.18it/s]\n",
      "100%|██████████| 225/225 [00:14<00:00, 15.71it/s]\n"
     ]
    },
    {
     "name": "stdout",
     "output_type": "stream",
     "text": [
      "76 {'train_MAE': 273.1373442247179} {'test_MAE': 207.74800733778213}\n"
     ]
    },
    {
     "name": "stderr",
     "output_type": "stream",
     "text": [
      "100%|██████████| 225/225 [00:25<00:00,  8.87it/s]\n",
      "100%|██████████| 225/225 [00:13<00:00, 16.25it/s] \n"
     ]
    },
    {
     "name": "stdout",
     "output_type": "stream",
     "text": [
      "77 {'train_MAE': 265.30153493245444} {'test_MAE': 198.79931949191624}\n"
     ]
    },
    {
     "name": "stderr",
     "output_type": "stream",
     "text": [
      "100%|██████████| 225/225 [00:25<00:00,  8.83it/s]\n",
      "100%|██████████| 225/225 [00:14<00:00, 15.39it/s] \n"
     ]
    },
    {
     "name": "stdout",
     "output_type": "stream",
     "text": [
      "78 {'train_MAE': 312.8660141330295} {'test_MAE': 340.47065107557506}\n"
     ]
    },
    {
     "name": "stderr",
     "output_type": "stream",
     "text": [
      "100%|██████████| 225/225 [00:25<00:00,  8.86it/s]\n",
      "100%|██████████| 225/225 [00:13<00:00, 16.77it/s] \n"
     ]
    },
    {
     "name": "stdout",
     "output_type": "stream",
     "text": [
      "79 {'train_MAE': 266.16280554877386} {'test_MAE': 218.24446953667535}\n"
     ]
    },
    {
     "name": "stderr",
     "output_type": "stream",
     "text": [
      "100%|██████████| 225/225 [00:24<00:00,  9.06it/s]\n",
      "100%|██████████| 225/225 [00:13<00:00, 16.21it/s] \n"
     ]
    },
    {
     "name": "stdout",
     "output_type": "stream",
     "text": [
      "80 {'train_MAE': 270.5297294447157} {'test_MAE': 198.1953372870551}\n"
     ]
    },
    {
     "name": "stderr",
     "output_type": "stream",
     "text": [
      "100%|██████████| 225/225 [00:24<00:00,  9.08it/s]\n",
      "100%|██████████| 225/225 [00:14<00:00, 15.56it/s] \n"
     ]
    },
    {
     "name": "stdout",
     "output_type": "stream",
     "text": [
      "81 {'train_MAE': 274.6236801147461} {'test_MAE': 211.13214881049262}\n"
     ]
    },
    {
     "name": "stderr",
     "output_type": "stream",
     "text": [
      "100%|██████████| 225/225 [00:24<00:00,  9.05it/s]\n",
      "100%|██████████| 225/225 [00:13<00:00, 16.15it/s] \n"
     ]
    },
    {
     "name": "stdout",
     "output_type": "stream",
     "text": [
      "82 {'train_MAE': 288.1907590399848} {'test_MAE': 200.37100036621095}\n"
     ]
    },
    {
     "name": "stderr",
     "output_type": "stream",
     "text": [
      "100%|██████████| 225/225 [00:25<00:00,  8.93it/s]\n",
      "100%|██████████| 225/225 [00:14<00:00, 15.73it/s]\n"
     ]
    },
    {
     "name": "stdout",
     "output_type": "stream",
     "text": [
      "83 {'train_MAE': 275.65390635172525} {'test_MAE': 200.9970127020942}\n"
     ]
    },
    {
     "name": "stderr",
     "output_type": "stream",
     "text": [
      "100%|██████████| 225/225 [00:25<00:00,  8.97it/s]\n",
      "100%|██████████| 225/225 [00:13<00:00, 16.89it/s] \n"
     ]
    },
    {
     "name": "stdout",
     "output_type": "stream",
     "text": [
      "84 {'train_MAE': 273.05305962456595} {'test_MAE': 201.54155673556858}\n"
     ]
    },
    {
     "name": "stderr",
     "output_type": "stream",
     "text": [
      "100%|██████████| 225/225 [00:25<00:00,  8.97it/s]\n",
      "100%|██████████| 225/225 [00:14<00:00, 15.50it/s] \n"
     ]
    },
    {
     "name": "stdout",
     "output_type": "stream",
     "text": [
      "85 {'train_MAE': 284.6399609035916} {'test_MAE': 269.3059218343099}\n"
     ]
    },
    {
     "name": "stderr",
     "output_type": "stream",
     "text": [
      "100%|██████████| 225/225 [00:25<00:00,  8.80it/s]\n",
      "100%|██████████| 225/225 [00:13<00:00, 16.48it/s]\n"
     ]
    },
    {
     "name": "stdout",
     "output_type": "stream",
     "text": [
      "86 {'train_MAE': 309.5705756971571} {'test_MAE': 358.7368037584093}\n"
     ]
    },
    {
     "name": "stderr",
     "output_type": "stream",
     "text": [
      "100%|██████████| 225/225 [00:25<00:00,  8.86it/s]\n",
      "100%|██████████| 225/225 [00:13<00:00, 16.66it/s]\n"
     ]
    },
    {
     "name": "stdout",
     "output_type": "stream",
     "text": [
      "87 {'train_MAE': 270.8382664320204} {'test_MAE': 198.44129977756077}\n"
     ]
    },
    {
     "name": "stderr",
     "output_type": "stream",
     "text": [
      "100%|██████████| 225/225 [00:25<00:00,  8.66it/s]\n",
      "100%|██████████| 225/225 [00:14<00:00, 15.17it/s] \n"
     ]
    },
    {
     "name": "stdout",
     "output_type": "stream",
     "text": [
      "88 {'train_MAE': 279.3189409722222} {'test_MAE': 199.3947605726454}\n"
     ]
    },
    {
     "name": "stderr",
     "output_type": "stream",
     "text": [
      "100%|██████████| 225/225 [00:25<00:00,  8.80it/s]\n",
      "100%|██████████| 225/225 [00:14<00:00, 15.40it/s] \n"
     ]
    },
    {
     "name": "stdout",
     "output_type": "stream",
     "text": [
      "89 {'train_MAE': 265.3221632215712} {'test_MAE': 208.30850419786242}\n"
     ]
    },
    {
     "name": "stderr",
     "output_type": "stream",
     "text": [
      "100%|██████████| 225/225 [00:25<00:00,  8.76it/s]\n",
      "100%|██████████| 225/225 [00:13<00:00, 16.17it/s]\n"
     ]
    },
    {
     "name": "stdout",
     "output_type": "stream",
     "text": [
      "90 {'train_MAE': 267.59227261013456} {'test_MAE': 204.21823822021486}\n"
     ]
    },
    {
     "name": "stderr",
     "output_type": "stream",
     "text": [
      "100%|██████████| 225/225 [00:24<00:00,  9.08it/s]\n",
      "100%|██████████| 225/225 [00:14<00:00, 15.82it/s] \n"
     ]
    },
    {
     "name": "stdout",
     "output_type": "stream",
     "text": [
      "91 {'train_MAE': 280.38624793158635} {'test_MAE': 201.49207526312935}\n"
     ]
    },
    {
     "name": "stderr",
     "output_type": "stream",
     "text": [
      "100%|██████████| 225/225 [00:25<00:00,  8.90it/s]\n",
      "100%|██████████| 225/225 [00:14<00:00, 16.06it/s] \n"
     ]
    },
    {
     "name": "stdout",
     "output_type": "stream",
     "text": [
      "92 {'train_MAE': 278.2813579305013} {'test_MAE': 201.61972635904948}\n"
     ]
    },
    {
     "name": "stderr",
     "output_type": "stream",
     "text": [
      "100%|██████████| 225/225 [00:25<00:00,  8.73it/s]\n",
      "100%|██████████| 225/225 [00:14<00:00, 16.05it/s] \n"
     ]
    },
    {
     "name": "stdout",
     "output_type": "stream",
     "text": [
      "93 {'train_MAE': 283.43547471788196} {'test_MAE': 215.14662770589192}\n"
     ]
    },
    {
     "name": "stderr",
     "output_type": "stream",
     "text": [
      "100%|██████████| 225/225 [00:25<00:00,  8.80it/s]\n",
      "100%|██████████| 225/225 [00:13<00:00, 16.17it/s] \n"
     ]
    },
    {
     "name": "stdout",
     "output_type": "stream",
     "text": [
      "94 {'train_MAE': 276.39903934054905} {'test_MAE': 212.02626502143013}\n"
     ]
    },
    {
     "name": "stderr",
     "output_type": "stream",
     "text": [
      "100%|██████████| 225/225 [00:25<00:00,  8.90it/s]\n",
      "100%|██████████| 225/225 [00:14<00:00, 15.83it/s] \n"
     ]
    },
    {
     "name": "stdout",
     "output_type": "stream",
     "text": [
      "95 {'train_MAE': 290.053404168023} {'test_MAE': 253.7192600165473}\n"
     ]
    },
    {
     "name": "stderr",
     "output_type": "stream",
     "text": [
      "100%|██████████| 225/225 [00:25<00:00,  8.80it/s]\n",
      "100%|██████████| 225/225 [00:13<00:00, 16.86it/s] \n"
     ]
    },
    {
     "name": "stdout",
     "output_type": "stream",
     "text": [
      "96 {'train_MAE': 267.898236456977} {'test_MAE': 216.1929232449002}\n"
     ]
    },
    {
     "name": "stderr",
     "output_type": "stream",
     "text": [
      "100%|██████████| 225/225 [00:25<00:00,  8.83it/s]\n",
      "100%|██████████| 225/225 [00:13<00:00, 16.52it/s]\n"
     ]
    },
    {
     "name": "stdout",
     "output_type": "stream",
     "text": [
      "97 {'train_MAE': 297.99747260199655} {'test_MAE': 221.4991197374132}\n"
     ]
    },
    {
     "name": "stderr",
     "output_type": "stream",
     "text": [
      "100%|██████████| 225/225 [00:24<00:00,  9.07it/s]\n",
      "100%|██████████| 225/225 [00:13<00:00, 16.28it/s] \n"
     ]
    },
    {
     "name": "stdout",
     "output_type": "stream",
     "text": [
      "98 {'train_MAE': 271.3532626003689} {'test_MAE': 203.8096442667643}\n"
     ]
    },
    {
     "name": "stderr",
     "output_type": "stream",
     "text": [
      "100%|██████████| 225/225 [00:24<00:00,  9.12it/s]\n",
      "100%|██████████| 225/225 [00:14<00:00, 15.83it/s] \n"
     ]
    },
    {
     "name": "stdout",
     "output_type": "stream",
     "text": [
      "99 {'train_MAE': 297.0006776936849} {'test_MAE': 200.14935248480901}\n"
     ]
    },
    {
     "name": "stderr",
     "output_type": "stream",
     "text": [
      "100%|██████████| 225/225 [00:25<00:00,  8.83it/s]\n",
      "100%|██████████| 225/225 [00:14<00:00, 15.28it/s] \n"
     ]
    },
    {
     "name": "stdout",
     "output_type": "stream",
     "text": [
      "100 {'train_MAE': 281.1434836154514} {'test_MAE': 197.58320675320095}\n"
     ]
    },
    {
     "name": "stderr",
     "output_type": "stream",
     "text": [
      "100%|██████████| 225/225 [00:25<00:00,  8.97it/s]\n",
      "100%|██████████| 225/225 [00:14<00:00, 15.95it/s]\n"
     ]
    },
    {
     "name": "stdout",
     "output_type": "stream",
     "text": [
      "101 {'train_MAE': 264.76240898980035} {'test_MAE': 199.4275954522027}\n"
     ]
    },
    {
     "name": "stderr",
     "output_type": "stream",
     "text": [
      "100%|██████████| 225/225 [00:25<00:00,  8.87it/s]\n",
      "100%|██████████| 225/225 [00:13<00:00, 16.28it/s] \n"
     ]
    },
    {
     "name": "stdout",
     "output_type": "stream",
     "text": [
      "102 {'train_MAE': 261.57378121270074} {'test_MAE': 199.90829471164278}\n"
     ]
    },
    {
     "name": "stderr",
     "output_type": "stream",
     "text": [
      "100%|██████████| 225/225 [00:25<00:00,  8.83it/s]\n",
      "100%|██████████| 225/225 [00:14<00:00, 15.79it/s]\n"
     ]
    },
    {
     "name": "stdout",
     "output_type": "stream",
     "text": [
      "103 {'train_MAE': 270.10451866997613} {'test_MAE': 211.57223276774087}\n"
     ]
    },
    {
     "name": "stderr",
     "output_type": "stream",
     "text": [
      "100%|██████████| 225/225 [00:25<00:00,  8.83it/s]\n",
      "100%|██████████| 225/225 [00:14<00:00, 15.61it/s] \n"
     ]
    },
    {
     "name": "stdout",
     "output_type": "stream",
     "text": [
      "104 {'train_MAE': 288.8960208808051} {'test_MAE': 206.41956427680122}\n"
     ]
    },
    {
     "name": "stderr",
     "output_type": "stream",
     "text": [
      "100%|██████████| 225/225 [00:24<00:00,  9.04it/s]\n",
      "100%|██████████| 225/225 [00:13<00:00, 17.01it/s] \n"
     ]
    },
    {
     "name": "stdout",
     "output_type": "stream",
     "text": [
      "105 {'train_MAE': 257.0113353474935} {'test_MAE': 229.71103068033855}\n"
     ]
    },
    {
     "name": "stderr",
     "output_type": "stream",
     "text": [
      "100%|██████████| 225/225 [00:25<00:00,  8.97it/s]\n",
      "100%|██████████| 225/225 [00:14<00:00, 15.40it/s]\n"
     ]
    },
    {
     "name": "stdout",
     "output_type": "stream",
     "text": [
      "106 {'train_MAE': 261.8078715684679} {'test_MAE': 198.18929996066623}\n"
     ]
    },
    {
     "name": "stderr",
     "output_type": "stream",
     "text": [
      "100%|██████████| 225/225 [00:25<00:00,  8.81it/s]\n",
      "100%|██████████| 225/225 [00:14<00:00, 15.79it/s]\n"
     ]
    },
    {
     "name": "stdout",
     "output_type": "stream",
     "text": [
      "107 {'train_MAE': 285.55171946207685} {'test_MAE': 200.40776340060765}\n"
     ]
    },
    {
     "name": "stderr",
     "output_type": "stream",
     "text": [
      "100%|██████████| 225/225 [00:25<00:00,  8.94it/s]\n",
      "100%|██████████| 225/225 [00:13<00:00, 17.02it/s] \n"
     ]
    },
    {
     "name": "stdout",
     "output_type": "stream",
     "text": [
      "108 {'train_MAE': 283.07551245795355} {'test_MAE': 200.93251705593534}\n"
     ]
    },
    {
     "name": "stderr",
     "output_type": "stream",
     "text": [
      "100%|██████████| 225/225 [00:25<00:00,  8.90it/s]\n",
      "100%|██████████| 225/225 [00:14<00:00, 15.95it/s] \n"
     ]
    },
    {
     "name": "stdout",
     "output_type": "stream",
     "text": [
      "109 {'train_MAE': 275.3559905158149} {'test_MAE': 207.41524149576824}\n"
     ]
    },
    {
     "name": "stderr",
     "output_type": "stream",
     "text": [
      "100%|██████████| 225/225 [00:25<00:00,  8.76it/s]\n",
      "100%|██████████| 225/225 [00:14<00:00, 15.50it/s]\n"
     ]
    },
    {
     "name": "stdout",
     "output_type": "stream",
     "text": [
      "110 {'train_MAE': 288.44283718532984} {'test_MAE': 210.36558834499783}\n"
     ]
    },
    {
     "name": "stderr",
     "output_type": "stream",
     "text": [
      "100%|██████████| 225/225 [00:25<00:00,  8.97it/s]\n",
      "100%|██████████| 225/225 [00:12<00:00, 17.51it/s] \n"
     ]
    },
    {
     "name": "stdout",
     "output_type": "stream",
     "text": [
      "111 {'train_MAE': 273.3517238023546} {'test_MAE': 200.84831420898436}\n"
     ]
    },
    {
     "name": "stderr",
     "output_type": "stream",
     "text": [
      "100%|██████████| 225/225 [00:25<00:00,  8.99it/s]\n",
      "100%|██████████| 225/225 [00:14<00:00, 15.98it/s] \n"
     ]
    },
    {
     "name": "stdout",
     "output_type": "stream",
     "text": [
      "112 {'train_MAE': 262.4740932210286} {'test_MAE': 196.5543127102322}\n"
     ]
    },
    {
     "name": "stderr",
     "output_type": "stream",
     "text": [
      "100%|██████████| 225/225 [00:25<00:00,  8.87it/s]\n",
      "100%|██████████| 225/225 [00:13<00:00, 16.52it/s] \n"
     ]
    },
    {
     "name": "stdout",
     "output_type": "stream",
     "text": [
      "113 {'train_MAE': 297.08361050075956} {'test_MAE': 228.79043884277343}\n"
     ]
    },
    {
     "name": "stderr",
     "output_type": "stream",
     "text": [
      "100%|██████████| 225/225 [00:25<00:00,  8.90it/s]\n",
      "100%|██████████| 225/225 [00:14<00:00, 15.59it/s] \n"
     ]
    },
    {
     "name": "stdout",
     "output_type": "stream",
     "text": [
      "114 {'train_MAE': 269.6635187784831} {'test_MAE': 202.42422878689237}\n"
     ]
    },
    {
     "name": "stderr",
     "output_type": "stream",
     "text": [
      "100%|██████████| 225/225 [00:25<00:00,  8.76it/s]\n",
      "100%|██████████| 225/225 [00:13<00:00, 16.89it/s] \n"
     ]
    },
    {
     "name": "stdout",
     "output_type": "stream",
     "text": [
      "115 {'train_MAE': 263.49725321451825} {'test_MAE': 200.72567643907334}\n"
     ]
    },
    {
     "name": "stderr",
     "output_type": "stream",
     "text": [
      "100%|██████████| 225/225 [00:25<00:00,  8.76it/s]\n",
      "100%|██████████| 225/225 [00:13<00:00, 16.91it/s] \n"
     ]
    },
    {
     "name": "stdout",
     "output_type": "stream",
     "text": [
      "116 {'train_MAE': 302.38351186116535} {'test_MAE': 223.45718132866753}\n"
     ]
    },
    {
     "name": "stderr",
     "output_type": "stream",
     "text": [
      "100%|██████████| 225/225 [00:25<00:00,  8.94it/s]\n",
      "100%|██████████| 225/225 [00:14<00:00, 15.94it/s] \n"
     ]
    },
    {
     "name": "stdout",
     "output_type": "stream",
     "text": [
      "117 {'train_MAE': 297.86043528238935} {'test_MAE': 217.15735802544486}\n"
     ]
    },
    {
     "name": "stderr",
     "output_type": "stream",
     "text": [
      "100%|██████████| 225/225 [00:25<00:00,  8.94it/s]\n",
      "100%|██████████| 225/225 [00:14<00:00, 15.92it/s]\n"
     ]
    },
    {
     "name": "stdout",
     "output_type": "stream",
     "text": [
      "118 {'train_MAE': 268.01881629096135} {'test_MAE': 199.44996673583984}\n"
     ]
    },
    {
     "name": "stderr",
     "output_type": "stream",
     "text": [
      "100%|██████████| 225/225 [00:25<00:00,  8.86it/s]\n",
      "100%|██████████| 225/225 [00:14<00:00, 15.51it/s] \n"
     ]
    },
    {
     "name": "stdout",
     "output_type": "stream",
     "text": [
      "119 {'train_MAE': 259.7237420654297} {'test_MAE': 219.48214982774522}\n"
     ]
    },
    {
     "name": "stderr",
     "output_type": "stream",
     "text": [
      "100%|██████████| 225/225 [00:25<00:00,  8.97it/s]\n",
      "100%|██████████| 225/225 [00:13<00:00, 16.49it/s] \n"
     ]
    },
    {
     "name": "stdout",
     "output_type": "stream",
     "text": [
      "120 {'train_MAE': 282.8946702745226} {'test_MAE': 201.30245012071398}\n"
     ]
    },
    {
     "name": "stderr",
     "output_type": "stream",
     "text": [
      "100%|██████████| 225/225 [00:24<00:00,  9.02it/s]\n",
      "100%|██████████| 225/225 [00:13<00:00, 16.39it/s] \n"
     ]
    },
    {
     "name": "stdout",
     "output_type": "stream",
     "text": [
      "121 {'train_MAE': 250.00180909898546} {'test_MAE': 219.03086917453342}\n"
     ]
    },
    {
     "name": "stderr",
     "output_type": "stream",
     "text": [
      "100%|██████████| 225/225 [00:25<00:00,  8.69it/s]\n",
      "100%|██████████| 225/225 [00:14<00:00, 15.58it/s] \n"
     ]
    },
    {
     "name": "stdout",
     "output_type": "stream",
     "text": [
      "122 {'train_MAE': 257.81803127712675} {'test_MAE': 206.2573614501953}\n"
     ]
    },
    {
     "name": "stderr",
     "output_type": "stream",
     "text": [
      "100%|██████████| 225/225 [00:25<00:00,  8.97it/s]\n",
      "100%|██████████| 225/225 [00:13<00:00, 16.52it/s] \n"
     ]
    },
    {
     "name": "stdout",
     "output_type": "stream",
     "text": [
      "123 {'train_MAE': 297.33383880615236} {'test_MAE': 262.9289310370551}\n"
     ]
    },
    {
     "name": "stderr",
     "output_type": "stream",
     "text": [
      "100%|██████████| 225/225 [00:24<00:00,  9.01it/s]\n",
      "100%|██████████| 225/225 [00:14<00:00, 15.39it/s] \n"
     ]
    },
    {
     "name": "stdout",
     "output_type": "stream",
     "text": [
      "124 {'train_MAE': 265.57005654229056} {'test_MAE': 198.26342702229817}\n"
     ]
    },
    {
     "name": "stderr",
     "output_type": "stream",
     "text": [
      "100%|██████████| 225/225 [00:26<00:00,  8.63it/s]\n",
      "100%|██████████| 225/225 [00:13<00:00, 16.50it/s] \n"
     ]
    },
    {
     "name": "stdout",
     "output_type": "stream",
     "text": [
      "125 {'train_MAE': 288.09320844862197} {'test_MAE': 212.8216801622179}\n"
     ]
    },
    {
     "name": "stderr",
     "output_type": "stream",
     "text": [
      "100%|██████████| 225/225 [00:25<00:00,  8.83it/s]\n",
      "100%|██████████| 225/225 [00:13<00:00, 16.25it/s] \n"
     ]
    },
    {
     "name": "stdout",
     "output_type": "stream",
     "text": [
      "126 {'train_MAE': 263.6280859375} {'test_MAE': 205.17627065022788}\n"
     ]
    },
    {
     "name": "stderr",
     "output_type": "stream",
     "text": [
      "100%|██████████| 225/225 [00:26<00:00,  8.62it/s]\n",
      "100%|██████████| 225/225 [00:14<00:00, 15.95it/s]\n"
     ]
    },
    {
     "name": "stdout",
     "output_type": "stream",
     "text": [
      "127 {'train_MAE': 273.38031124538844} {'test_MAE': 220.86758783976236}\n"
     ]
    },
    {
     "name": "stderr",
     "output_type": "stream",
     "text": [
      "100%|██████████| 225/225 [00:25<00:00,  8.90it/s]\n",
      "100%|██████████| 225/225 [00:14<00:00, 15.81it/s] \n"
     ]
    },
    {
     "name": "stdout",
     "output_type": "stream",
     "text": [
      "128 {'train_MAE': 256.2297753567166} {'test_MAE': 211.90069458007812}\n"
     ]
    },
    {
     "name": "stderr",
     "output_type": "stream",
     "text": [
      "100%|██████████| 225/225 [00:25<00:00,  8.90it/s]\n",
      "100%|██████████| 225/225 [00:14<00:00, 15.19it/s] \n"
     ]
    },
    {
     "name": "stdout",
     "output_type": "stream",
     "text": [
      "129 {'train_MAE': 294.10393897162544} {'test_MAE': 216.53144409179689}\n"
     ]
    },
    {
     "name": "stderr",
     "output_type": "stream",
     "text": [
      "100%|██████████| 225/225 [00:25<00:00,  8.97it/s]\n",
      "100%|██████████| 225/225 [00:13<00:00, 16.90it/s] \n"
     ]
    },
    {
     "name": "stdout",
     "output_type": "stream",
     "text": [
      "130 {'train_MAE': 276.2338230726454} {'test_MAE': 198.23090308295355}\n"
     ]
    },
    {
     "name": "stderr",
     "output_type": "stream",
     "text": [
      "100%|██████████| 225/225 [00:25<00:00,  8.95it/s]\n",
      "100%|██████████| 225/225 [00:13<00:00, 16.84it/s] \n"
     ]
    },
    {
     "name": "stdout",
     "output_type": "stream",
     "text": [
      "131 {'train_MAE': 258.7536350165473} {'test_MAE': 219.45304173787434}\n"
     ]
    },
    {
     "name": "stderr",
     "output_type": "stream",
     "text": [
      "100%|██████████| 225/225 [00:25<00:00,  8.90it/s]\n",
      "100%|██████████| 225/225 [00:14<00:00, 16.06it/s]\n"
     ]
    },
    {
     "name": "stdout",
     "output_type": "stream",
     "text": [
      "132 {'train_MAE': 302.7723286268446} {'test_MAE': 313.3778260464139}\n"
     ]
    },
    {
     "name": "stderr",
     "output_type": "stream",
     "text": [
      "100%|██████████| 225/225 [00:25<00:00,  8.86it/s]\n",
      "100%|██████████| 225/225 [00:13<00:00, 16.17it/s] \n"
     ]
    },
    {
     "name": "stdout",
     "output_type": "stream",
     "text": [
      "133 {'train_MAE': 281.19148667229547} {'test_MAE': 252.51919521755642}\n"
     ]
    },
    {
     "name": "stderr",
     "output_type": "stream",
     "text": [
      "100%|██████████| 225/225 [00:25<00:00,  8.86it/s]\n",
      "100%|██████████| 225/225 [00:14<00:00, 15.84it/s]\n"
     ]
    },
    {
     "name": "stdout",
     "output_type": "stream",
     "text": [
      "134 {'train_MAE': 276.8020366753472} {'test_MAE': 197.79822987874348}\n"
     ]
    },
    {
     "name": "stderr",
     "output_type": "stream",
     "text": [
      "100%|██████████| 225/225 [00:25<00:00,  8.97it/s]\n",
      "100%|██████████| 225/225 [00:13<00:00, 16.89it/s]\n"
     ]
    },
    {
     "name": "stdout",
     "output_type": "stream",
     "text": [
      "135 {'train_MAE': 269.3367320421007} {'test_MAE': 204.3418617078993}\n"
     ]
    },
    {
     "name": "stderr",
     "output_type": "stream",
     "text": [
      "100%|██████████| 225/225 [00:25<00:00,  8.87it/s]\n",
      "100%|██████████| 225/225 [00:13<00:00, 16.51it/s] \n"
     ]
    },
    {
     "name": "stdout",
     "output_type": "stream",
     "text": [
      "136 {'train_MAE': 295.78884575737845} {'test_MAE': 294.7175379096137}\n"
     ]
    },
    {
     "name": "stderr",
     "output_type": "stream",
     "text": [
      "100%|██████████| 225/225 [00:25<00:00,  9.00it/s]\n",
      "100%|██████████| 225/225 [00:13<00:00, 16.19it/s] \n"
     ]
    },
    {
     "name": "stdout",
     "output_type": "stream",
     "text": [
      "137 {'train_MAE': 272.31314980400936} {'test_MAE': 203.75600697835287}\n"
     ]
    },
    {
     "name": "stderr",
     "output_type": "stream",
     "text": [
      "100%|██████████| 225/225 [00:24<00:00,  9.00it/s]\n",
      "100%|██████████| 225/225 [00:13<00:00, 16.66it/s] \n"
     ]
    },
    {
     "name": "stdout",
     "output_type": "stream",
     "text": [
      "138 {'train_MAE': 276.6668099127875} {'test_MAE': 283.1207022942437}\n"
     ]
    },
    {
     "name": "stderr",
     "output_type": "stream",
     "text": [
      "100%|██████████| 225/225 [00:24<00:00,  9.07it/s]\n",
      "100%|██████████| 225/225 [00:13<00:00, 16.27it/s] \n"
     ]
    },
    {
     "name": "stdout",
     "output_type": "stream",
     "text": [
      "139 {'train_MAE': 291.5360624525282} {'test_MAE': 201.60333965725368}\n"
     ]
    },
    {
     "name": "stderr",
     "output_type": "stream",
     "text": [
      "100%|██████████| 225/225 [00:25<00:00,  8.73it/s]\n",
      "100%|██████████| 225/225 [00:14<00:00, 15.83it/s]\n"
     ]
    },
    {
     "name": "stdout",
     "output_type": "stream",
     "text": [
      "140 {'train_MAE': 280.4484900580512} {'test_MAE': 197.06269066704644}\n"
     ]
    },
    {
     "name": "stderr",
     "output_type": "stream",
     "text": [
      "100%|██████████| 225/225 [00:25<00:00,  8.76it/s]\n",
      "100%|██████████| 225/225 [00:13<00:00, 16.78it/s] \n"
     ]
    },
    {
     "name": "stdout",
     "output_type": "stream",
     "text": [
      "141 {'train_MAE': 264.72023885091147} {'test_MAE': 197.26806611802843}\n"
     ]
    },
    {
     "name": "stderr",
     "output_type": "stream",
     "text": [
      " 11%|█         | 24/225 [00:04<00:34,  5.82it/s]IOPub message rate exceeded.\n",
      "The notebook server will temporarily stop sending output\n",
      "to the client in order to avoid crashing it.\n",
      "To change this limit, set the config variable\n",
      "`--NotebookApp.iopub_msg_rate_limit`.\n",
      "\n",
      "Current values:\n",
      "NotebookApp.iopub_msg_rate_limit=1000.0 (msgs/sec)\n",
      "NotebookApp.rate_limit_window=3.0 (secs)\n",
      "\n",
      "100%|██████████| 225/225 [00:24<00:00,  9.08it/s]\n",
      "100%|██████████| 225/225 [00:14<00:00, 16.04it/s] \n"
     ]
    },
    {
     "name": "stdout",
     "output_type": "stream",
     "text": [
      "186 {'train_MAE': 261.2826957872179} {'test_MAE': 226.17927100287542}\n"
     ]
    },
    {
     "name": "stderr",
     "output_type": "stream",
     "text": [
      "100%|██████████| 225/225 [00:25<00:00,  8.83it/s]\n",
      "100%|██████████| 225/225 [00:14<00:00, 15.19it/s] \n"
     ]
    },
    {
     "name": "stdout",
     "output_type": "stream",
     "text": [
      "187 {'train_MAE': 286.1049081759983} {'test_MAE': 284.28769460042315}\n"
     ]
    },
    {
     "name": "stderr",
     "output_type": "stream",
     "text": [
      "100%|██████████| 225/225 [00:25<00:00,  8.86it/s]\n",
      "100%|██████████| 225/225 [00:13<00:00, 16.18it/s] \n"
     ]
    },
    {
     "name": "stdout",
     "output_type": "stream",
     "text": [
      "188 {'train_MAE': 270.9381395975749} {'test_MAE': 195.79010711669923}\n"
     ]
    },
    {
     "name": "stderr",
     "output_type": "stream",
     "text": [
      "100%|██████████| 225/225 [00:25<00:00,  8.83it/s]\n",
      "100%|██████████| 225/225 [00:14<00:00, 15.82it/s] \n"
     ]
    },
    {
     "name": "stdout",
     "output_type": "stream",
     "text": [
      "189 {'train_MAE': 272.5763627794054} {'test_MAE': 200.40728680080838}\n"
     ]
    },
    {
     "name": "stderr",
     "output_type": "stream",
     "text": [
      "100%|██████████| 225/225 [00:24<00:00,  9.05it/s]\n",
      "100%|██████████| 225/225 [00:13<00:00, 16.13it/s] \n"
     ]
    },
    {
     "name": "stdout",
     "output_type": "stream",
     "text": [
      "190 {'train_MAE': 263.10090547349716} {'test_MAE': 202.66024944729276}\n"
     ]
    },
    {
     "name": "stderr",
     "output_type": "stream",
     "text": [
      "100%|██████████| 225/225 [00:25<00:00,  8.73it/s]\n",
      "100%|██████████| 225/225 [00:13<00:00, 17.27it/s] \n"
     ]
    },
    {
     "name": "stdout",
     "output_type": "stream",
     "text": [
      "191 {'train_MAE': 288.93268091837564} {'test_MAE': 299.4064279683431}\n"
     ]
    },
    {
     "name": "stderr",
     "output_type": "stream",
     "text": [
      "100%|██████████| 225/225 [00:24<00:00,  9.12it/s]\n",
      "100%|██████████| 225/225 [00:14<00:00, 15.82it/s] \n"
     ]
    },
    {
     "name": "stdout",
     "output_type": "stream",
     "text": [
      "192 {'train_MAE': 257.4378934902615} {'test_MAE': 206.2794294060601}\n"
     ]
    },
    {
     "name": "stderr",
     "output_type": "stream",
     "text": [
      "100%|██████████| 225/225 [00:25<00:00,  8.76it/s]\n",
      "100%|██████████| 225/225 [00:13<00:00, 16.77it/s] \n"
     ]
    },
    {
     "name": "stdout",
     "output_type": "stream",
     "text": [
      "193 {'train_MAE': 264.70812494913736} {'test_MAE': 205.23478931003146}\n"
     ]
    },
    {
     "name": "stderr",
     "output_type": "stream",
     "text": [
      "100%|██████████| 225/225 [00:25<00:00,  8.87it/s]\n",
      "100%|██████████| 225/225 [00:13<00:00, 16.17it/s] \n"
     ]
    },
    {
     "name": "stdout",
     "output_type": "stream",
     "text": [
      "194 {'train_MAE': 279.39620532565647} {'test_MAE': 204.4604758199056}\n"
     ]
    },
    {
     "name": "stderr",
     "output_type": "stream",
     "text": [
      "100%|██████████| 225/225 [00:25<00:00,  8.97it/s]\n",
      "100%|██████████| 225/225 [00:14<00:00, 15.61it/s]\n"
     ]
    },
    {
     "name": "stdout",
     "output_type": "stream",
     "text": [
      "195 {'train_MAE': 260.983843299018} {'test_MAE': 195.6820169236925}\n"
     ]
    },
    {
     "name": "stderr",
     "output_type": "stream",
     "text": [
      "100%|██████████| 225/225 [00:25<00:00,  8.82it/s]\n",
      "100%|██████████| 225/225 [00:12<00:00, 17.46it/s]\n"
     ]
    },
    {
     "name": "stdout",
     "output_type": "stream",
     "text": [
      "196 {'train_MAE': 323.66776809692385} {'test_MAE': 216.79281533135307}\n"
     ]
    },
    {
     "name": "stderr",
     "output_type": "stream",
     "text": [
      "100%|██████████| 225/225 [00:25<00:00,  8.70it/s]\n",
      "100%|██████████| 225/225 [00:13<00:00, 16.17it/s] \n"
     ]
    },
    {
     "name": "stdout",
     "output_type": "stream",
     "text": [
      "197 {'train_MAE': 306.85791870117185} {'test_MAE': 199.36454530504014}\n"
     ]
    },
    {
     "name": "stderr",
     "output_type": "stream",
     "text": [
      "100%|██████████| 225/225 [00:24<00:00,  9.16it/s]\n",
      "100%|██████████| 225/225 [00:13<00:00, 16.40it/s] \n"
     ]
    },
    {
     "name": "stdout",
     "output_type": "stream",
     "text": [
      "198 {'train_MAE': 261.31643498738606} {'test_MAE': 197.58060406155056}\n"
     ]
    },
    {
     "name": "stderr",
     "output_type": "stream",
     "text": [
      " 76%|███████▌  | 170/225 [00:23<00:05, 10.48it/s]IOPub message rate exceeded.\n",
      "The notebook server will temporarily stop sending output\n",
      "to the client in order to avoid crashing it.\n",
      "To change this limit, set the config variable\n",
      "`--NotebookApp.iopub_msg_rate_limit`.\n",
      "\n",
      "Current values:\n",
      "NotebookApp.iopub_msg_rate_limit=1000.0 (msgs/sec)\n",
      "NotebookApp.rate_limit_window=3.0 (secs)\n",
      "\n"
     ]
    }
   ],
   "source": [
    "wdr7.train()\n",
    "for epoch in range(num_epochs):\n",
    "    losses = []\n",
    "    overall_loss, loss_test = 0, 0\n",
    "    \n",
    "    for i in tqdm(range(len(batch_list))):\n",
    "        indices = np.array([batch_list[i][j][2] for j in range(len(batch_list[i]))])\n",
    "        indices = np.array(list(set(indices) - train_mask))\n",
    "        if len(indices) == 0:\n",
    "            continue\n",
    "        trainX = Variable(torch.Tensor(np.array([batch_list[i][j][0] for j in range(len(batch_list[i])) if batch_list[i][j][2] in indices])), requires_grad=True).to(device)\n",
    "        trainY = Variable(torch.Tensor(np.array([batch_list[i][j][1] for j in range(len(batch_list[i])) if batch_list[i][j][2] in indices])), requires_grad=True).to(device)\n",
    "        outputs = wdr7(x = trainX, deep_input = deep_input, wide_input = wide_input, indices = indices)\n",
    "        optimizer.zero_grad()\n",
    "#        print(torch.autograd.grad(outputs=outputs[0], inputs=wo, retain_graph=True)[0][0])\n",
    "        # obtain the loss function\n",
    "        loss = criterion(outputs, trainY.unsqueeze(-1))\n",
    "        loss.backward(retain_graph=True)\n",
    "        optimizer.step()\n",
    "        losses.append(loss.item()/trainX.shape[0])\n",
    "        overall_loss += loss.item()\n",
    "    \n",
    "    for i in tqdm(range(len(batch_list))):\n",
    "        indices = np.array([batch_list[i][j][2] for j in range(len(batch_list[i]))])\n",
    "        indices = np.array(list(set(indices) - test_mask))\n",
    "        if len(indices) == 0:\n",
    "            continue\n",
    "        testX = Variable(torch.Tensor(np.array([batch_list[i][j][0] for j in range(len(batch_list[i])) if batch_list[i][j][2] in indices])), requires_grad=True).to(device)\n",
    "        testY = Variable(torch.Tensor(np.array([batch_list[i][j][1] for j in range(len(batch_list[i])) if batch_list[i][j][2] in indices])), requires_grad=True).to(device)\n",
    "        outputs = wdr7(x = testX, deep_input = deep_input, wide_input = wide_input, indices = indices)\n",
    "        loss = criterion(outputs, testY.unsqueeze(-1))\n",
    "        loss_test += loss.item()\n",
    "        \n",
    "    print(epoch, {\"train_MAE\": overall_loss/len(batch_list)}, {\"test_MAE\": loss_test/len(batch_list)})\n",
    "    wandb.log({\"train_MAE\":  overall_loss/len(batch_list),\n",
    "              \"test_MAE\": loss_test/len(batch_list)})"
   ]
  }
 ],
 "metadata": {
  "kernelspec": {
   "display_name": "Python 3 (ipykernel)",
   "language": "python",
   "name": "python3"
  },
  "language_info": {
   "codemirror_mode": {
    "name": "ipython",
    "version": 3
   },
   "file_extension": ".py",
   "mimetype": "text/x-python",
   "name": "python",
   "nbconvert_exporter": "python",
   "pygments_lexer": "ipython3",
   "version": "3.7.10"
  }
 },
 "nbformat": 4,
 "nbformat_minor": 5
}
